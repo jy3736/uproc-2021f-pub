{
 "cells": [
  {
   "cell_type": "code",
   "execution_count": null,
   "metadata": {},
   "outputs": [],
   "source": [
    "from random import randrange\n",
    "\n",
    "L1 = [randrange(1,7) for i in range(10)]\n",
    "print(L1)"
   ]
  },
  {
   "cell_type": "code",
   "execution_count": null,
   "metadata": {},
   "outputs": [],
   "source": [
    "L1 = [1, 5, 4, 3, 2, 4, 3, 5, 3, 6]\n",
    "L2 = [1, 1, 5, 2, 5, 3, 3, 6, 3, 6]\n",
    "L3 = [5, 4, 6, 5, 5, 2, 4, 5, 1, 1]\n",
    "M1 = [L1,L2,L3]\n",
    "print(M1)"
   ]
  },
  {
   "cell_type": "code",
   "execution_count": null,
   "metadata": {},
   "outputs": [],
   "source": [
    "def printMatrix(m):\n",
    "    for l in m:\n",
    "        for e in l:\n",
    "            print(\"{0:4}\".format(e),end=\"\")\n",
    "        print()\n",
    "\n",
    "printMatrix(M1)"
   ]
  },
  {
   "cell_type": "code",
   "execution_count": null,
   "metadata": {},
   "outputs": [],
   "source": [
    "print([L1,L2,L3])"
   ]
  },
  {
   "cell_type": "code",
   "execution_count": null,
   "metadata": {},
   "outputs": [],
   "source": [
    "[L1.count(i)  for i in range(1,7)]"
   ]
  },
  {
   "cell_type": "code",
   "execution_count": null,
   "metadata": {},
   "outputs": [],
   "source": [
    "[a+b+c for a,b,c in zip(*M1)]"
   ]
  },
  {
   "cell_type": "code",
   "execution_count": null,
   "metadata": {},
   "outputs": [],
   "source": [
    "print(list(zip(*M1)))"
   ]
  },
  {
   "cell_type": "code",
   "execution_count": null,
   "metadata": {},
   "outputs": [],
   "source": [
    "list(zip([1,2,3],[4,5,6]))"
   ]
  },
  {
   "cell_type": "code",
   "execution_count": null,
   "metadata": {},
   "outputs": [],
   "source": [
    "print(*M1)"
   ]
  },
  {
   "cell_type": "code",
   "execution_count": null,
   "metadata": {},
   "outputs": [],
   "source": [
    "from random import randrange\n",
    "\n",
    "def printMatrix(m):\n",
    "    for l in m:\n",
    "        for e in l:\n",
    "            print(f\"{e:4x}\",end=\"\")\n",
    "        print()\n",
    "\n",
    "printMatrix(M1)"
   ]
  },
  {
   "cell_type": "code",
   "execution_count": null,
   "metadata": {},
   "outputs": [],
   "source": [
    "import numpy as np\n"
   ]
  },
  {
   "cell_type": "code",
   "execution_count": null,
   "metadata": {},
   "outputs": [],
   "source": [
    "from random import randrange\n",
    "\n",
    "def mkMatrix(R, C=0):\n",
    "    m = [[randrange(1,7) for c in range(randrange(5,11) if C==0 else C)] for r in range(R)]\n",
    "    return m\n",
    "\n",
    "printMatrix(mkMatrix(5))"
   ]
  },
  {
   "cell_type": "code",
   "execution_count": null,
   "metadata": {},
   "outputs": [],
   "source": [
    "L1 = [1, 5, 4, 3, 2, 4, 3, 5, 3, 6]\n",
    "L2 = [1, 1, 5, 2, 5, 3]\n",
    "L3 = [5, 4, 6, 5]\n",
    "M1 = [L1,L2,L3]\n",
    "\n",
    "print(M1)"
   ]
  },
  {
   "cell_type": "code",
   "execution_count": null,
   "metadata": {},
   "outputs": [],
   "source": [
    "def printMatrix(m):\n",
    "    for l in m:\n",
    "        for e in l:\n",
    "            print(f\"{e:4x}\",end=\"\")\n",
    "        print()\n",
    "\n",
    "printMatrix(M1)"
   ]
  },
  {
   "cell_type": "code",
   "execution_count": null,
   "metadata": {},
   "outputs": [],
   "source": [
    "from random import randrange\n",
    "\n",
    "def mkMatrix(R, C=0):\n",
    "    m=[]\n",
    "    for r in range(R):\n",
    "        mr=[randrange(1,7) for c in range(randrange(5,11) if C==0 else C)]\n",
    "        m.append(mr)\n",
    "    return m\n",
    "\n",
    "def printMatrix(m):\n",
    "    for l in m:\n",
    "        for e in l:\n",
    "            print(f\"{e:4x}\",end=\"\")\n",
    "        print()\n",
    "\n",
    "M1 = mkMatrix(5,3)\n",
    "M2 = mkMatrix(5)\n",
    "print(\"M1 :\")\n",
    "printMatrix(M1)\n",
    "print(\"\\nM2 :\")\n",
    "printMatrix(M2)"
   ]
  },
  {
   "cell_type": "code",
   "execution_count": null,
   "metadata": {},
   "outputs": [],
   "source": [
    "from random import randrange\n",
    "\n",
    "def mkMatrix(R, C=0):\n",
    "    cs = [randrange(5,11) if C==0 else C for r in range(R)]\n",
    "    m  = [[randrange(1,7) for i in range(c)] for c in cs]\n",
    "    return m\n",
    "\n",
    "def printMatrix(m):\n",
    "    for l in m:\n",
    "        for e in l:\n",
    "            print(f\"{e:4x}\",end=\"\")\n",
    "        print()\n",
    "\n",
    "M1 = mkMatrix(5,3)\n",
    "M2 = mkMatrix(5)\n",
    "print(\"M1 :\")\n",
    "printMatrix(M1)\n",
    "print(\"\\nM2 :\")\n",
    "printMatrix(M2)"
   ]
  },
  {
   "cell_type": "code",
   "execution_count": null,
   "metadata": {},
   "outputs": [],
   "source": [
    "from random import randrange\n",
    "\n",
    "def printMatrix(m):\n",
    "    for l in m:\n",
    "        for e in l:\n",
    "            print(f\"{e:4x}\",end=\"\")\n",
    "        print()\n",
    "\n",
    "def mkMatrix(R, C=0):\n",
    "    cs = [randrange(5,11) for i in range(R)] if C==0 else [C]*R\n",
    "    print(cs)\n",
    "    m  = [[randrange(1,7) for i in range(c)] for c in cs]\n",
    "    return m\n",
    "\n",
    "M1 = mkMatrix(5,3)\n",
    "M2 = mkMatrix(5)\n",
    "print(\"M1 :\")\n",
    "printMatrix(M1)\n",
    "print(\"\\nM2 :\")\n",
    "printMatrix(M2)\n",
    "uniPrint(M2)"
   ]
  },
  {
   "cell_type": "code",
   "execution_count": null,
   "metadata": {},
   "outputs": [],
   "source": [
    "def printMatrix(m):\n",
    "    for l in m:\n",
    "        for e in l:\n",
    "            print(f\"{e:4x}\",end=\"\")\n",
    "        print()\n",
    "        \n",
    "n = 3\n",
    "m = 4\n",
    "a = [[0] * m] * n\n",
    "\n",
    "printMatrix(a)"
   ]
  },
  {
   "cell_type": "code",
   "execution_count": null,
   "metadata": {},
   "outputs": [],
   "source": [
    "\n",
    "print(isinstance(1,int))\n",
    "print(isinstance([1,2,3], list))"
   ]
  },
  {
   "cell_type": "code",
   "execution_count": null,
   "metadata": {},
   "outputs": [],
   "source": [
    "def uniPrint(d):\n",
    "    if isinstance(d,int):\n",
    "        print(f\"{d:4}\",end=\"\")\n",
    "    elif isinstance(d,list):\n",
    "        print()\n",
    "        for e in d:\n",
    "            uniPrint(e)\n",
    "\n",
    "uniPrint(4)\n",
    "print()\n",
    "uniPrint([1,2,3])\n",
    "print()\n",
    "uniPrint([1,2,[4,5,4],5,[1,2,[1,3]]])\n",
    "print()\n",
    "\n",
    "\n",
    "        "
   ]
  },
  {
   "cell_type": "markdown",
   "metadata": {},
   "source": [
    "---"
   ]
  },
  {
   "cell_type": "code",
   "execution_count": 15,
   "metadata": {},
   "outputs": [],
   "source": [
    "def printMatrix(m):\n",
    "    for l in m:\n",
    "        for e in l:\n",
    "            print(f\"{e:4x}\",end=\"\")\n",
    "        print()\n",
    "    print()"
   ]
  },
  {
   "cell_type": "code",
   "execution_count": 11,
   "metadata": {},
   "outputs": [
    {
     "name": "stdin",
     "output_type": "stream",
     "text": [
      " 3\n",
      " 2 3 4 5\n",
      " 4 4 4\n",
      " 3 4 2 3 4\n"
     ]
    }
   ],
   "source": [
    "# Method 1: parse a serial of input() into a 2D array \n",
    "n = int(input()) \n",
    "a1 = []\n",
    "for i in range(n):\n",
    "    row = []\n",
    "    for c in input().split():\n",
    "        row.append(int(c))\n",
    "    a1.append(row)"
   ]
  },
  {
   "cell_type": "code",
   "execution_count": 12,
   "metadata": {},
   "outputs": [
    {
     "name": "stdin",
     "output_type": "stream",
     "text": [
      " 3\n",
      " 1 2 3\n",
      " 4 5 6\n",
      " 7 8 9\n"
     ]
    }
   ],
   "source": [
    "# Method 2: parse a serial of input() into a 2D array \n",
    "n = int(input()) \n",
    "a2 = []\n",
    "for i in range(n):\n",
    "    a2.append([int(j) for j in input().split()])"
   ]
  },
  {
   "cell_type": "code",
   "execution_count": 13,
   "metadata": {},
   "outputs": [
    {
     "name": "stdin",
     "output_type": "stream",
     "text": [
      " 3\n",
      " 1 1 1 \n",
      " 2 2 2\n",
      " 3 3 3 3 3 3 3 \n"
     ]
    }
   ],
   "source": [
    "# Method 3: parse a serial of input() into a 2D array \n",
    "n = int(input()) \n",
    "a3 = [[int(j) for j in input().split()] for i in range(n)]"
   ]
  },
  {
   "cell_type": "code",
   "execution_count": 16,
   "metadata": {},
   "outputs": [
    {
     "name": "stdout",
     "output_type": "stream",
     "text": [
      "   2   3   4   5\n",
      "   4   4   4\n",
      "   3   4   2   3   4\n",
      "\n",
      "   1   2   3\n",
      "   4   5   6\n",
      "   7   8   9\n",
      "\n",
      "   1   1   1\n",
      "   2   2   2\n",
      "   3   3   3   3   3   3   3\n",
      "\n"
     ]
    }
   ],
   "source": [
    "printMatrix(a1)\n",
    "printMatrix(a2)\n",
    "printMatrix(a3)\n"
   ]
  },
  {
   "cell_type": "code",
   "execution_count": 17,
   "metadata": {},
   "outputs": [
    {
     "name": "stdout",
     "output_type": "stream",
     "text": [
      "[[1, 2, 3], [4, 5, 6], [7, 8, 9]]\n"
     ]
    }
   ],
   "source": [
    "print(a2)"
   ]
  },
  {
   "cell_type": "code",
   "execution_count": 3,
   "metadata": {},
   "outputs": [
    {
     "name": "stdin",
     "output_type": "stream",
     "text": [
      " 4 5\n"
     ]
    },
    {
     "name": "stdout",
     "output_type": "stream",
     "text": [
      "4\n",
      "5\n"
     ]
    }
   ],
   "source": [
    "N, M = map(int,input().split())\n",
    "print(N)\n",
    "print(M)"
   ]
  },
  {
   "cell_type": "code",
   "execution_count": 10,
   "metadata": {},
   "outputs": [
    {
     "name": "stdout",
     "output_type": "stream",
     "text": [
      "{3}\n"
     ]
    }
   ],
   "source": [
    "s=set()\n",
    "s.add(3)\n",
    "s.add(3)\n",
    "print(s)"
   ]
  },
  {
   "cell_type": "code",
   "execution_count": 12,
   "metadata": {},
   "outputs": [
    {
     "name": "stdin",
     "output_type": "stream",
     "text": [
      " 2 3\n",
      " 3\n",
      " 4\n",
      " 5\n",
      " 6\n",
      " 7\n"
     ]
    }
   ],
   "source": [
    "N, M = map(int,input().split())\n",
    "a=set()\n",
    "b=set()\n",
    "for i in range(N):\n",
    "    a.add(int(input()))\n",
    "for i in range(M):\n",
    "    b.add(int(input())) "
   ]
  },
  {
   "cell_type": "code",
   "execution_count": 13,
   "metadata": {},
   "outputs": [
    {
     "name": "stdout",
     "output_type": "stream",
     "text": [
      "{3, 4}\n",
      "{5, 6, 7}\n"
     ]
    }
   ],
   "source": [
    "print(a)\n",
    "print(b)"
   ]
  },
  {
   "cell_type": "code",
   "execution_count": 14,
   "metadata": {},
   "outputs": [
    {
     "name": "stdin",
     "output_type": "stream",
     "text": [
      " 3 2\n",
      " 3\n",
      " 4\n",
      " 5\n",
      " 4\n",
      " 5\n"
     ]
    },
    {
     "name": "stdout",
     "output_type": "stream",
     "text": [
      "2\n",
      "4 5\n",
      "1\n",
      "3\n",
      "0\n",
      "\n"
     ]
    }
   ],
   "source": [
    "def print_set(some_set):\n",
    "    print(len(some_set))\n",
    "    print(*[str(item) for item in sorted(some_set)])\n",
    "\n",
    "N, M = [int(s) for s in input().split()]\n",
    "A_colors, B_colors = set(), set()\n",
    "for i in range(N):\n",
    "    A_colors.add(int(input()))\n",
    "for i in range(M):\n",
    "    B_colors.add(int(input()))\n",
    "    \n",
    "print_set(A_colors & B_colors)\n",
    "print_set(A_colors - B_colors)\n",
    "print_set(B_colors - A_colors)"
   ]
  },
  {
   "cell_type": "code",
   "execution_count": null,
   "metadata": {},
   "outputs": [],
   "source": []
  }
 ],
 "metadata": {
  "kernelspec": {
   "display_name": "Python 3",
   "language": "python",
   "name": "python3"
  },
  "language_info": {
   "codemirror_mode": {
    "name": "ipython",
    "version": 3
   },
   "file_extension": ".py",
   "mimetype": "text/x-python",
   "name": "python",
   "nbconvert_exporter": "python",
   "pygments_lexer": "ipython3",
   "version": "3.8.3"
  }
 },
 "nbformat": 4,
 "nbformat_minor": 4
}
