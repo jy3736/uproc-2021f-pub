{
 "cells": [
  {
   "cell_type": "markdown",
   "metadata": {},
   "source": [
    "<div style=\"text-align: center;\">\n",
    "<img src=\"images/stust.png\" alt=\"STUST\" class=\"center\" style=\"width: 900px;\"/>\n",
    "</div>\n",
    "\n",
    "<hr style=\"border:4px solid gray\"> </hr>\n",
    "\n",
    "<br><br>\n",
    "<div style=\"text-align: center;\">    \n",
    "<br>    \n",
    "    \n",
    "# [Sets](https://snakify.org/en/lessons/sets/) and [Dictionaries](https://snakify.org/en/lessons/dictionaries_dicts/)\n",
    "    \n",
    "#### Source : *https://snakify.org/en*\n",
    "\n",
    "</div>\n",
    "\n",
    "<br>\n",
    "<hr style=\"border:4px solid gray\"> </hr>\n"
   ]
  },
  {
   "cell_type": "markdown",
   "metadata": {},
   "source": [
    "<br>\n",
    "<hr style=\"border:2px solid orange\"> </hr>"
   ]
  },
  {
   "cell_type": "markdown",
   "metadata": {},
   "source": [
    "### [What is a set](https://snakify.org/en/lessons/sets/#section_1)\n",
    "\n",
    "* Set in Python is a data structure `equivalent to sets in mathematics`. \n",
    "* It may consist of various elements; the order of elements in a set is undefined. \n",
    "* You can perform standard operations on sets (`union`, `intersection`, `difference`). \n",
    "* Besides that, you can check if an element belongs to a set.\n",
    "* Unlike arrays, the order of elements in a set is undefined.\n",
    "* Any `immutable data type` can be an element of a set: a number, a string, a tuple. In particular, list `cannot` be an element of a set.\n"
   ]
  },
  {
   "cell_type": "markdown",
   "metadata": {},
   "source": [
    "<br>\n",
    "<hr style=\"border:2px solid orange\"> </hr>\n",
    "\n",
    "### How to define a set?\n"
   ]
  },
  {
   "cell_type": "code",
   "execution_count": 29,
   "metadata": {},
   "outputs": [
    {
     "name": "stdout",
     "output_type": "stream",
     "text": [
      "{1, 2, 3}\n",
      "\n",
      "{4, 5, 4.6, (1, 2, 3), 's'}\n",
      "\n",
      "set()\n",
      "\n",
      "{'t', 'l', 'o', 'n', 'P', 'h', ' ', 'H', 'y', 'e'}\n",
      "\n",
      "{8, 5, 6, 7}\n",
      "\n"
     ]
    }
   ],
   "source": [
    "s1 = {1,2,3}\n",
    "s2 = {4,'s', 5, 4.6, (1,2,3)}\n",
    "s3 = set()\n",
    "s4 = set('Hello Python')\n",
    "s5 = set([5,6,7,8])\n",
    "\n",
    "for s in s1,s2,s3,s4,s5:\n",
    "    print(s,end=\"\\n\\n\")"
   ]
  },
  {
   "cell_type": "markdown",
   "metadata": {},
   "source": [
    "<br>\n",
    "<hr style=\"border:2px solid orange\"> </hr>\n",
    "\n",
    "### Operations with elements"
   ]
  },
  {
   "cell_type": "code",
   "execution_count": 23,
   "metadata": {},
   "outputs": [
    {
     "name": "stdout",
     "output_type": "stream",
     "text": [
      "{(3, 4, 5), 1, 99}\n"
     ]
    }
   ],
   "source": [
    "s = set()\n",
    "s.add(1)\n",
    "s.add(99)\n",
    "s.add((3,4,5))\n",
    "print(s)"
   ]
  },
  {
   "cell_type": "code",
   "execution_count": 24,
   "metadata": {},
   "outputs": [
    {
     "name": "stdout",
     "output_type": "stream",
     "text": [
      "{(3, 4, 5), 1}\n"
     ]
    },
    {
     "ename": "KeyError",
     "evalue": "99",
     "output_type": "error",
     "traceback": [
      "\u001b[1;31m---------------------------------------------------------------------------\u001b[0m",
      "\u001b[1;31mKeyError\u001b[0m                                  Traceback (most recent call last)",
      "\u001b[1;32m<ipython-input-24-37cf2c2c00b7>\u001b[0m in \u001b[0;36m<module>\u001b[1;34m\u001b[0m\n\u001b[0;32m      1\u001b[0m \u001b[0ms\u001b[0m\u001b[1;33m.\u001b[0m\u001b[0mremove\u001b[0m\u001b[1;33m(\u001b[0m\u001b[1;36m99\u001b[0m\u001b[1;33m)\u001b[0m\u001b[1;33m\u001b[0m\u001b[1;33m\u001b[0m\u001b[0m\n\u001b[0;32m      2\u001b[0m \u001b[0mprint\u001b[0m\u001b[1;33m(\u001b[0m\u001b[0ms\u001b[0m\u001b[1;33m)\u001b[0m\u001b[1;33m\u001b[0m\u001b[1;33m\u001b[0m\u001b[0m\n\u001b[1;32m----> 3\u001b[1;33m \u001b[0ms\u001b[0m\u001b[1;33m.\u001b[0m\u001b[0mremove\u001b[0m\u001b[1;33m(\u001b[0m\u001b[1;36m99\u001b[0m\u001b[1;33m)\u001b[0m\u001b[1;33m\u001b[0m\u001b[1;33m\u001b[0m\u001b[0m\n\u001b[0m\u001b[0;32m      4\u001b[0m \u001b[0mprint\u001b[0m\u001b[1;33m(\u001b[0m\u001b[0ms\u001b[0m\u001b[1;33m)\u001b[0m\u001b[1;33m\u001b[0m\u001b[1;33m\u001b[0m\u001b[0m\n",
      "\u001b[1;31mKeyError\u001b[0m: 99"
     ]
    }
   ],
   "source": [
    "s.remove(99)\n",
    "print(s)\n",
    "s.remove(99)\n",
    "print(s)"
   ]
  },
  {
   "cell_type": "code",
   "execution_count": 25,
   "metadata": {},
   "outputs": [
    {
     "name": "stdout",
     "output_type": "stream",
     "text": [
      "{(3, 4, 5)}\n",
      "{(3, 4, 5)}\n"
     ]
    }
   ],
   "source": [
    "s.discard(1)\n",
    "print(s)\n",
    "s.discard(1)\n",
    "print(s)"
   ]
  },
  {
   "cell_type": "code",
   "execution_count": 26,
   "metadata": {},
   "outputs": [
    {
     "name": "stdout",
     "output_type": "stream",
     "text": [
      "set()\n",
      "(3, 4, 5)\n"
     ]
    }
   ],
   "source": [
    "e = s.pop()\n",
    "print(s)\n",
    "print(e)"
   ]
  },
  {
   "cell_type": "code",
   "execution_count": 27,
   "metadata": {},
   "outputs": [
    {
     "ename": "KeyError",
     "evalue": "'pop from an empty set'",
     "output_type": "error",
     "traceback": [
      "\u001b[1;31m---------------------------------------------------------------------------\u001b[0m",
      "\u001b[1;31mKeyError\u001b[0m                                  Traceback (most recent call last)",
      "\u001b[1;32m<ipython-input-27-8042c8236e18>\u001b[0m in \u001b[0;36m<module>\u001b[1;34m\u001b[0m\n\u001b[1;32m----> 1\u001b[1;33m \u001b[0me\u001b[0m \u001b[1;33m=\u001b[0m \u001b[0ms\u001b[0m\u001b[1;33m.\u001b[0m\u001b[0mpop\u001b[0m\u001b[1;33m(\u001b[0m\u001b[1;33m)\u001b[0m\u001b[1;33m\u001b[0m\u001b[1;33m\u001b[0m\u001b[0m\n\u001b[0m",
      "\u001b[1;31mKeyError\u001b[0m: 'pop from an empty set'"
     ]
    }
   ],
   "source": [
    "e = s.pop()"
   ]
  },
  {
   "cell_type": "markdown",
   "metadata": {},
   "source": [
    "<br>\n",
    "<hr style=\"border:2px solid orange\"> </hr>\n",
    "\n",
    "### Well-known operations on sets\n",
    "\n",
    "| Operation                 | Equivalent | Result                                              |\n",
    "|---------------------------|------------|-----------------------------------------------------|\n",
    "| len(s)                    |            | number of elements in set s (cardinality)           |\n",
    "| x in s                    |            | test x for membership in s                          |\n",
    "| x not in s                |            | test x for non-membership in s                      |\n",
    "| s.issubset(t)             | s <= t     | test whether every element in s is in t             |\n",
    "| s.issuperset(t)           | s >= t     | test whether every element in t is in s             |\n",
    "| s.union(t)                | s \\| t     | new set with elements from both s and t             |\n",
    "| s.intersection(t)         | s & t      | new set with elements common to s and t             |\n",
    "| s.difference(t)           | s - t      | new set with elements in s but not in t             |\n",
    "| s.symmetric_difference(t) | s ^ t      | new set with elements in either s or t but not both |\n",
    "| s.copy()                  |            | new set with a shallow copy of s                    |"
   ]
  },
  {
   "cell_type": "code",
   "execution_count": 2,
   "metadata": {},
   "outputs": [
    {
     "name": "stdout",
     "output_type": "stream",
     "text": [
      "s1      :  {0, 1, 2, 3, 4, 5, 6, 7, 8, 9}\n",
      "s2      :  {0, 2, 4, 6, 8}\n",
      "s3      :  {1, 3, 5, 7, 9}\n",
      "--------------------------------------------------\n",
      "s1==s2  :  False\n",
      "s1>=s2  :  True\n",
      "s1 & s2 :  {0, 2, 4, 6, 8}\n",
      "s2 | s3 :  {0, 1, 2, 3, 4, 5, 6, 7, 8, 9}\n",
      "s1 - s2 :  {1, 3, 5, 7, 9}\n",
      "s1 ^ s2 :  {1, 3, 5, 7, 9}\n",
      "s2 ^ s3 :  {0, 1, 2, 3, 4, 5, 6, 7, 8, 9}\n"
     ]
    }
   ],
   "source": [
    "s1 = set(range(10))\n",
    "s2 = set(range(0,10,2))\n",
    "s3 = set(range(1,10,2))\n",
    "print(\"s1      : \",s1)\n",
    "print(\"s2      : \",s2)\n",
    "print(\"s3      : \",s3)\n",
    "print(\"-\"*50)\n",
    "print(\"s1==s2  : \",s1 == s2)\n",
    "print(\"s1>=s2  : \",s1 >= s2)\n",
    "print(\"s1 & s2 : \",s1 & s2)\n",
    "print(\"s2 | s3 : \",s1 | s3)\n",
    "print(\"s1 - s2 : \",s1 - s2)\n",
    "print(\"s1 ^ s2 : \",s1 ^ s2)\n",
    "print(\"s2 ^ s3 : \",s2 ^ s3)"
   ]
  },
  {
   "cell_type": "markdown",
   "metadata": {},
   "source": [
    "<br>\n",
    "<hr style=\"border:2px solid orange\"> </hr>\n",
    "\n",
    "### [Dictionaries](https://snakify.org/en/lessons/dictionaries_dicts/)\n",
    "\n",
    "* Data structure, which allows to use `an arbitrary type of index` instead of numerical, is called dictionary or associative array. The corresponding data structure in Python is called `dict`.\n",
    "* Each element of the dictionary consists of two objects: `key` and `values`.\n",
    "* The `key` identifies the element of the dictionary, the `value` is the data corresponding to the given key. \n",
    "* Key values are `unique`, i. e. there can't be two identical keys in the dictionary.\n",
    "* An important feature of the associative array is that it is dynamic, i. e. you can add new elements with any keys and delete the existing elements. \n",
    "* Access to the elements of an associative array is slower than for ordinary arrays, but still pretty quickly.\n",
    "* The key can be any `immutable` (not changeable) data type: integers and real numbers, strings, tuples. \n",
    "* The key in the dictionary `may not be a set`, but may be an element of type `frozenset`: a special data type analogue of a type set that cannot be modified after creation. "
   ]
  },
  {
   "cell_type": "markdown",
   "metadata": {},
   "source": [
    "<hr style=\"border:2px solid orange\"> </hr>"
   ]
  },
  {
   "cell_type": "code",
   "execution_count": 6,
   "metadata": {},
   "outputs": [
    {
     "name": "stdout",
     "output_type": "stream",
     "text": [
      "Russia  => Moscow    \n",
      "France  => Unknown!\n",
      "USA     => Washington\n",
      "Russia  => Moscow    \n",
      "Ukraine => Kiev      \n"
     ]
    }
   ],
   "source": [
    "Capitals = dict()\n",
    "Capitals['Russia'] = 'Moscow'\n",
    "Capitals['Ukraine'] = 'Kiev'\n",
    "Capitals['USA'] = 'Washington'\n",
    "\n",
    "for country in ['Russia', 'France', 'USA', 'Russia', 'Ukraine']:\n",
    "    if country in Capitals:\n",
    "        print(f\"{country:7} => {Capitals[country]:10}\")\n",
    "    else:\n",
    "        print(f\"{country:7} => Unknown!\")"
   ]
  },
  {
   "cell_type": "markdown",
   "metadata": {},
   "source": [
    "<hr style=\"border:2px solid orange\"> </hr>\n",
    "\n",
    "### [To create a dictionary with some set of initial values](https://snakify.org/en/lessons/dictionaries_dicts/#section_2)"
   ]
  },
  {
   "cell_type": "code",
   "execution_count": 9,
   "metadata": {},
   "outputs": [
    {
     "name": "stdout",
     "output_type": "stream",
     "text": [
      "{'Russia': 'Moscow', 'Ukraine': 'Kiev', 'USA': 'Washington'}\n",
      "{'RA': 'Moscow', 'Ukraine': 'Kiev', 'USA': 'Washington'}\n",
      "{'Russia': 'Moscow', 'Ukraine': 'Kiev', 'USA': 'Washington'}\n",
      "{'Russia': 'Moscow', 'Ukraine': 'Kiev', 'USA': 'Washington'}\n"
     ]
    }
   ],
   "source": [
    "d1 = {'Russia': 'Moscow', 'Ukraine': 'Kiev', 'USA': 'Washington'}\n",
    "d2 = dict(RA = 'Moscow', Ukraine = 'Kiev', USA = 'Washington')\n",
    "d3 = dict([(\"Russia\", \"Moscow\"), (\"Ukraine\", \"Kiev\"), (\"USA\", \"Washington\")])\n",
    "d4 = dict(zip([\"Russia\", \"Ukraine\", \"USA\"], [\"Moscow\", \"Kiev\", \"Washington\"]))\n",
    "dummy = [print(d) for d in (d1,d2,d3,d4)]"
   ]
  },
  {
   "cell_type": "markdown",
   "metadata": {},
   "source": [
    "<hr style=\"border:2px solid orange\"> </hr>\n",
    "\n",
    "### [Working with dictionary items](https://snakify.org/en/lessons/dictionaries_dicts/#section_3)"
   ]
  },
  {
   "cell_type": "code",
   "execution_count": 25,
   "metadata": {},
   "outputs": [
    {
     "name": "stdout",
     "output_type": "stream",
     "text": [
      "{'a': 1, 'b': 2, 'c': 3, 'd': 4, 'e': 5, 'f': 6, 'g': 7, 'h': 8, 'i': 9, 'j': 10, 'k': 11, 'l': 12, 'm': 13, 'n': 14, 'o': 15, 'p': 16, 'q': 17, 'r': 18, 's': 19, 't': 20, 'u': 21, 'v': 22, 'w': 23, 'x': 24, 'y': 25, 'z': 26}\n",
      "\n",
      "'g' in d     = True\n",
      "d['g']       = 7\n",
      "'g' in d     = False\n",
      "'g' not in d = True\n"
     ]
    }
   ],
   "source": [
    "d = dict(zip(\"abcdefghijklmnopqrstuvwxyz\",range(1,27)))\n",
    "print(d,end=\"\\n\\n\")\n",
    "print(\"'g' in d     =\",'g' in d)\n",
    "print(\"d['g']       =\",d['g'])\n",
    "del d['g']\n",
    "print(\"'g' in d     =\",'g' in d)\n",
    "print(\"'g' not in d =\",'g' not in d)"
   ]
  },
  {
   "cell_type": "code",
   "execution_count": 26,
   "metadata": {},
   "outputs": [
    {
     "ename": "KeyError",
     "evalue": "'g'",
     "output_type": "error",
     "traceback": [
      "\u001b[1;31m---------------------------------------------------------------------------\u001b[0m",
      "\u001b[1;31mKeyError\u001b[0m                                  Traceback (most recent call last)",
      "\u001b[1;32m<ipython-input-26-3c3dc8b3d0ba>\u001b[0m in \u001b[0;36m<module>\u001b[1;34m\u001b[0m\n\u001b[1;32m----> 1\u001b[1;33m \u001b[0mprint\u001b[0m\u001b[1;33m(\u001b[0m\u001b[0md\u001b[0m\u001b[1;33m[\u001b[0m\u001b[1;34m'g'\u001b[0m\u001b[1;33m]\u001b[0m\u001b[1;33m)\u001b[0m\u001b[1;33m\u001b[0m\u001b[1;33m\u001b[0m\u001b[0m\n\u001b[0m",
      "\u001b[1;31mKeyError\u001b[0m: 'g'"
     ]
    }
   ],
   "source": [
    "print(d['g'])"
   ]
  },
  {
   "cell_type": "code",
   "execution_count": 27,
   "metadata": {},
   "outputs": [
    {
     "name": "stdout",
     "output_type": "stream",
     "text": [
      "None\n"
     ]
    }
   ],
   "source": [
    "print(d.get('g'))"
   ]
  },
  {
   "cell_type": "code",
   "execution_count": 28,
   "metadata": {},
   "outputs": [
    {
     "name": "stdout",
     "output_type": "stream",
     "text": [
      "99\n"
     ]
    }
   ],
   "source": [
    "print(d.get('g',99))"
   ]
  },
  {
   "cell_type": "markdown",
   "metadata": {},
   "source": [
    "<hr style=\"border:2px solid orange\"> </hr>\n",
    "\n",
    "### Dice Simulation & Analysis"
   ]
  },
  {
   "cell_type": "code",
   "execution_count": 11,
   "metadata": {},
   "outputs": [
    {
     "name": "stdout",
     "output_type": "stream",
     "text": [
      "1 : 1649\n",
      "2 : 1643\n",
      "3 : 1607\n",
      "4 : 1701\n",
      "5 : 1721\n",
      "6 : 1679\n"
     ]
    }
   ],
   "source": [
    "from random import randrange\n",
    "\n",
    "def randNumbers(lb, ub, cycles=1000):\n",
    "    return [randrange(lb,ub+1) for i in range(cycles)]\n",
    "\n",
    "def randDice(cycles=1000):\n",
    "    return randNumbers(1,6,cycles)\n",
    "\n",
    "def stAnanlysis(nums):\n",
    "    d = dict()\n",
    "    for n in nums:\n",
    "        d[n] = d.get(n,0) + 1\n",
    "    return d\n",
    "\n",
    "def printInOrder(d):\n",
    "    keys = list(d.keys())\n",
    "    keys.sort()\n",
    "    len1 = max([len(str(k)) for k in d.keys()])\n",
    "    len2 = max([len(str(v)) for v in d.values()])\n",
    "    dummy = [print(f\"{k:<{len1}} : {d[k]:<{len2}}\") for k in keys]\n",
    "\n",
    "rns = randDice(10000)\n",
    "printInOrder(stAnanlysis(rns))"
   ]
  },
  {
   "cell_type": "markdown",
   "metadata": {},
   "source": [
    "<hr style=\"border:2px solid orange\"> </hr>\n",
    "\n",
    "### Fruit Purchase Order Random Generator & Accumulation"
   ]
  },
  {
   "cell_type": "code",
   "execution_count": 12,
   "metadata": {},
   "outputs": [
    {
     "name": "stdout",
     "output_type": "stream",
     "text": [
      "(2, 'avocado')\n",
      "(2, 'grape')\n",
      "(4, 'guava')\n",
      "(8, 'apple')\n",
      "(8, 'guava')\n",
      "(9, 'guava')\n",
      "(7, 'tangerine')\n",
      "(7, 'lichee')\n",
      "(7, 'apple')\n",
      "(6, 'papaya')\n",
      "--------------------------------------------------\n",
      "apple     : 15\n",
      "avocado   : 2 \n",
      "grape     : 2 \n",
      "guava     : 21\n",
      "lichee    : 7 \n",
      "papaya    : 6 \n",
      "tangerine : 7 \n"
     ]
    }
   ],
   "source": [
    "from random import randrange, choice\n",
    "\n",
    "def randOrders(cycles=20):\n",
    "    items = ['apple','tangerine','grape','avocado','banana','guava','lichee','papaya']\n",
    "    d = [(randrange(1,10),choice(items)) for c in range(cycles)]\n",
    "    return d\n",
    "\n",
    "def printList(items):\n",
    "    for i in items:\n",
    "        print(i)\n",
    "\n",
    "def subTotal(orders):\n",
    "    total = {}\n",
    "    for order in orders:\n",
    "        total[order[1]] = total.get(order[1],0) + order[0]\n",
    "    return total\n",
    "\n",
    "def printInOrder(d):\n",
    "    len1 = max([len(str(k)) for k in d.keys()])\n",
    "    len2 = max([len(str(v)) for v in d.values()])\n",
    "    keys = list(d.keys())\n",
    "    keys.sort()\n",
    "    for k in keys:\n",
    "        print(f\"{k:<{len1}} : {d[k]:<{len2}}\")\n",
    "\n",
    "orders = randOrders(10)\n",
    "printList(orders)\n",
    "print('-'*50)\n",
    "totals = subTotal(orders)\n",
    "printInOrder(totals)"
   ]
  },
  {
   "cell_type": "markdown",
   "metadata": {},
   "source": [
    "<hr style=\"border:2px solid orange\"> </hr>\n",
    "<br>\n",
    "\n",
    "<div style=\"text-align: left;\">\n",
    "<img src=\"images/break-yang-tr.png\" alt=\"Break\" class=\"center\" style=\"width: 500px;\"/>\n",
    "</div>\n"
   ]
  },
  {
   "cell_type": "code",
   "execution_count": null,
   "metadata": {},
   "outputs": [],
   "source": []
  }
 ],
 "metadata": {
  "kernelspec": {
   "display_name": "Python 3",
   "language": "python",
   "name": "python3"
  },
  "language_info": {
   "codemirror_mode": {
    "name": "ipython",
    "version": 3
   },
   "file_extension": ".py",
   "mimetype": "text/x-python",
   "name": "python",
   "nbconvert_exporter": "python",
   "pygments_lexer": "ipython3",
   "version": "3.8.3"
  }
 },
 "nbformat": 4,
 "nbformat_minor": 4
}
