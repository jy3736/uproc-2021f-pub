{
 "cells": [
  {
   "cell_type": "code",
   "execution_count": null,
   "metadata": {},
   "outputs": [],
   "source": [
    "%env DISPLAY=192.168.1.107:0.0"
   ]
  },
  {
   "cell_type": "markdown",
   "metadata": {},
   "source": [
    "---\n",
    "# Python Language Fundamental I\n",
    "> ## Source : [https://snakify.org/en/](https://snakify.org/en/)\n",
    "---"
   ]
  },
  {
   "cell_type": "markdown",
   "metadata": {},
   "source": [
    "# [Lab01 - Integer and float numbers : Total cost](https://snakify.org/en/lessons/integer_float_numbers/problems/total_cost/)"
   ]
  },
  {
   "cell_type": "code",
   "execution_count": null,
   "metadata": {},
   "outputs": [],
   "source": [
    "A = int(input())\n",
    "B = int(input())\n",
    "N = int(input())\n",
    "\n",
    "c = B*N\n",
    "d = A*N+c//100\n",
    "c = c%100\n",
    "\n",
    "print(d,c)"
   ]
  },
  {
   "cell_type": "markdown",
   "metadata": {},
   "source": [
    "# [Lab02 - Conditions : Minimum of three numbers](https://snakify.org/en/lessons/if_then_else_conditions/problems/minimum3/)\n",
    "\n",
    "```c\n",
    "    // C/C++ Style 1\n",
    "    m = a;\n",
    "    if (m>b)\n",
    "        m = b;\n",
    "    if (m>ｃ)\n",
    "        m = ｃ;\n",
    "\n",
    "    // C/C++ Style 2\n",
    "    m = a;\n",
    "    if (m>b) m = b;\n",
    "    if (m>ｃ) m = ｃ;\n",
    "\n",
    "    // C/C++ Style 3\n",
    "    m = a;\n",
    "    if (m>b)\n",
    "    m = b;\n",
    "    if (m>ｃ)\n",
    "    m = ｃ;\n",
    "\n",
    "    // C/C++ Style 4\n",
    "    m = a; if (m>b) m = b; if (m>ｃ) m = ｃ;\n",
    "```"
   ]
  },
  {
   "cell_type": "code",
   "execution_count": null,
   "metadata": {},
   "outputs": [],
   "source": [
    "a = int(input())\n",
    "b = int(input())\n",
    "c = int(input())\n",
    "\n",
    "m = a\n",
    "if m>b:\n",
    "    m = b\n",
    "if m>c:\n",
    "    m = c\n",
    "\n",
    "print(m)"
   ]
  },
  {
   "cell_type": "code",
   "execution_count": null,
   "metadata": {},
   "outputs": [],
   "source": [
    "a = int(input())\n",
    "b = int(input())\n",
    "c = int(input())\n",
    "\n",
    "m = a\n",
    "if m>b: m = b\n",
    "if m>c: m = c\n",
    "\n",
    "print(m)"
   ]
  },
  {
   "cell_type": "code",
   "execution_count": null,
   "metadata": {},
   "outputs": [],
   "source": [
    "a = int(input())\n",
    "b = int(input())\n",
    "c = int(input())\n",
    "\n",
    "m = a\n",
    "m = b if m>b else m\n",
    "m = c if m>c else m\n",
    "\n",
    "print(m)"
   ]
  },
  {
   "cell_type": "markdown",
   "metadata": {},
   "source": [
    "# [Lab03 - Conditions : Bishop moves](https://snakify.org/en/lessons/if_then_else_conditions/problems/bishop_move/)"
   ]
  },
  {
   "cell_type": "code",
   "execution_count": null,
   "metadata": {},
   "outputs": [],
   "source": [
    "x1 = int(input())\n",
    "y1 = int(input())\n",
    "x2 = int(input())\n",
    "y2 = int(input())\n",
    "\n",
    "dx = abs(x1-x2)\n",
    "dy = abs(y1-y2)\n",
    "\n",
    "if dx==dy:\n",
    "    print(\"YES\")\n",
    "else:\n",
    "    print(\"NO\")"
   ]
  },
  {
   "cell_type": "code",
   "execution_count": null,
   "metadata": {},
   "outputs": [],
   "source": [
    "x1 = int(input())\n",
    "y1 = int(input())\n",
    "x2 = int(input())\n",
    "y2 = int(input())\n",
    "\n",
    "dx = (x1-x2) if (x1>x2) else (x2-x1)\n",
    "dy = (y1-y2) if (y1>y2) else (y2-y1)\n",
    "\n",
    "print(\"YES\" if (dx==dy) else \"NO\")"
   ]
  },
  {
   "cell_type": "markdown",
   "metadata": {},
   "source": [
    "# [Lab04 - Conditions : Chocolate bar](https://snakify.org/en/lessons/if_then_else_conditions/problems/chocolate/)\n",
    "\n",
    "```python\n",
    "    # Another Python Style\n",
    "    if (k%n==0 or k%m==0) and (n*m>k):\n",
    "        print(\"YES\")\n",
    "    else:\n",
    "        print(\"NO\")        \n",
    "```"
   ]
  },
  {
   "cell_type": "code",
   "execution_count": null,
   "metadata": {},
   "outputs": [],
   "source": [
    "n = int(input())\n",
    "m = int(input())\n",
    "k = int(input())\n",
    "\n",
    "print(\"YES\" if ((k%n==0 or k%m==0) and (n*m>k)) else \"NO\")"
   ]
  },
  {
   "cell_type": "markdown",
   "metadata": {},
   "source": [
    "# [Lab05 - For loop with range : Sum of N numbers](https://snakify.org/en/lessons/for_loop_range/problems/suf_of_n_numbers/)"
   ]
  },
  {
   "cell_type": "code",
   "execution_count": null,
   "metadata": {},
   "outputs": [],
   "source": [
    "N = int(input())\n",
    "\n",
    "s = 0\n",
    "for i in range(N):\n",
    "    s+=int(input())\n",
    "    \n",
    "print(s)"
   ]
  },
  {
   "cell_type": "markdown",
   "metadata": {},
   "source": [
    "# [Lab06 - For loop with range : The number of zeros](https://snakify.org/en/lessons/for_loop_range/problems/how_many_zeroes/)"
   ]
  },
  {
   "cell_type": "code",
   "execution_count": null,
   "metadata": {},
   "outputs": [],
   "source": [
    "N = int(input())\n",
    "\n",
    "zcnt = 0\n",
    "\n",
    "for i in range(N):\n",
    "    if int(input())==0:\n",
    "        zcnt+=1\n",
    "\n",
    "print(zcnt)"
   ]
  },
  {
   "cell_type": "markdown",
   "metadata": {},
   "source": [
    "# [Lab07 - For loop with range : Lost card](https://snakify.org/en/lessons/for_loop_range/problems/lost_card/)\n",
    "\n",
    "```c\n",
    "    // C/C++ Style\n",
    "    for(i=1; i<N; i++) {\n",
    "        v+=i;\n",
    "        scanf(\"%d\",&c);\n",
    "        v-=c;\n",
    "    }\n",
    "```"
   ]
  },
  {
   "cell_type": "code",
   "execution_count": null,
   "metadata": {},
   "outputs": [],
   "source": [
    "N = int(input())\n",
    "v = N\n",
    "\n",
    "for i in range(1,N):\n",
    "    v+=i\n",
    "    v-=int(input())\n",
    "\n",
    "print(v)"
   ]
  },
  {
   "cell_type": "markdown",
   "metadata": {},
   "source": [
    "# [Lab08 - String : Slices](https://snakify.org/en/lessons/strings_str/problems/slices/)"
   ]
  },
  {
   "cell_type": "code",
   "execution_count": null,
   "metadata": {},
   "outputs": [],
   "source": [
    "s = input()\n",
    "\n",
    "print(s[2])\n",
    "print(s[-2])\n",
    "print(s[:5])\n",
    "print(s[:-2])\n",
    "print(s[::2])\n",
    "print(s[1::2])\n",
    "print(s[::-1])\n",
    "print(s[::-2])\n",
    "print(len(s))"
   ]
  },
  {
   "cell_type": "markdown",
   "metadata": {},
   "source": [
    "---\n",
    "# [Lab09 - Setup your home JupyterHub on a Raspberry Pi](https://towardsdatascience.com/setup-your-home-jupyterhub-on-a-raspberry-pi-7ad32e20eed)\n",
    "---\n",
    "## Prepare Python environment\n",
    "\n",
    "> ### Shell commands\n",
    "```bash\n",
    "sudo rm /usr/bin/python \n",
    "sudo ln -s /usr/bin/python3 /usr/bin/python\n",
    "sudo apt-get update \n",
    "sudo apt-get install python3-pip \n",
    "sudo pip3 install --upgrade pip\n",
    "```\n",
    "\n",
    "---\n",
    "## Install JupyterHub\n",
    "\n",
    "> ### Shell commands\n",
    "```bash\n",
    "sudo apt-get install npm \n",
    "sudo npm install -g configurable-http-proxy\n",
    "sudo -H pip3 install notebook jupyterhub\n",
    "```\n",
    "\n",
    "> ### Shell commands - Generate Juypter configuration file \n",
    "```bash\n",
    "jupyterhub --generate-config \n",
    "sudo mv jupyterhub_config.py /root\n",
    "```\n",
    "\n",
    "---\n",
    "## Set up as a system service\n",
    "\n",
    "> ### Create the file <span style=\"color:brown\">/lib/systemd/system/jupyterhub.service</span> and fill it with:\n",
    "\n",
    "```bash\n",
    "[Unit] \n",
    "Description=JupyterHub Service \n",
    "After=multi-user.target  \n",
    "[Service] \n",
    "User=root \n",
    "ExecStart=/usr/local/bin/jupyterhub --config=/root/jupyterhub_config.py \n",
    "Restart=on-failure  \n",
    "[Install] \n",
    "WantedBy=multi-user.target\n",
    "```\n",
    "\n",
    "> ### Shell commands\n",
    "```bash\n",
    "sudo systemctl daemon-reload \n",
    "sudo systemctl start jupyterhub \n",
    "sudo systemctl enable jupyterhub \n",
    "sudo systemctl status jupyterhub.service\n",
    "```\n"
   ]
  },
  {
   "cell_type": "code",
   "execution_count": null,
   "metadata": {},
   "outputs": [],
   "source": []
  }
 ],
 "metadata": {
  "kernelspec": {
   "display_name": "Python 3",
   "language": "python",
   "name": "python3"
  },
  "language_info": {
   "codemirror_mode": {
    "name": "ipython",
    "version": 3
   },
   "file_extension": ".py",
   "mimetype": "text/x-python",
   "name": "python",
   "nbconvert_exporter": "python",
   "pygments_lexer": "ipython3",
   "version": "3.8.3"
  }
 },
 "nbformat": 4,
 "nbformat_minor": 4
}
