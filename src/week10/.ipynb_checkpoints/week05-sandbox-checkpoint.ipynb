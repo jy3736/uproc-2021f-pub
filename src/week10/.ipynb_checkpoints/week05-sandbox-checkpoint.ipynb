{
 "cells": [
  {
   "cell_type": "code",
   "execution_count": null,
   "metadata": {},
   "outputs": [],
   "source": [
    "def fact(n):\n",
    "    res = 1\n",
    "    for i in range(1, n + 1):\n",
    "        res *= i\n",
    "    return res\n",
    "\n",
    "f3 = fact(3)\n",
    "f5 = fact(5)\n",
    "print(f3)\n",
    "print(f5)"
   ]
  },
  {
   "cell_type": "code",
   "execution_count": null,
   "metadata": {},
   "outputs": [],
   "source": [
    "def f():\n",
    "    print(a)\n",
    "\n",
    "a = 1\n",
    "f()"
   ]
  },
  {
   "cell_type": "code",
   "execution_count": null,
   "metadata": {},
   "outputs": [],
   "source": [
    "def f():\n",
    "    a = 1\n",
    "\n",
    "f()\n",
    "print(a)"
   ]
  },
  {
   "cell_type": "code",
   "execution_count": null,
   "metadata": {},
   "outputs": [],
   "source": [
    "def f():\n",
    "    a = 2\n",
    "    print(a)\n",
    "\n",
    "a = 1\n",
    "f()\n",
    "print(a)"
   ]
  },
  {
   "cell_type": "code",
   "execution_count": null,
   "metadata": {},
   "outputs": [],
   "source": [
    "def f():\n",
    "    print(a)\n",
    "    if False:\n",
    "        a = 0\n",
    "\n",
    "a = 1\n",
    "f()"
   ]
  },
  {
   "cell_type": "code",
   "execution_count": null,
   "metadata": {},
   "outputs": [],
   "source": [
    "def f():\n",
    "    global a\n",
    "    a = 2\n",
    "    print(a)\n",
    "\n",
    "a = 1\n",
    "f()\n",
    "print(a)"
   ]
  },
  {
   "cell_type": "code",
   "execution_count": null,
   "metadata": {},
   "outputs": [],
   "source": [
    "from random import randrange\n",
    "\n",
    "def max_min(L):\n",
    "    return [max(L), min(L)]\n",
    "\n",
    "LA = [randrange(100) for i in range(10)]\n",
    "a, b = max_min(LA)\n",
    "print(\"LA =\", LA)\n",
    "print('After calling \"a, b = max_min(LA)\"')\n",
    "print(\"a  =\", a)\n",
    "print(\"b  =\", b)\n"
   ]
  },
  {
   "cell_type": "code",
   "execution_count": null,
   "metadata": {},
   "outputs": [],
   "source": [
    "from random import randrange\n",
    "\n",
    "def sum_iter(L):\n",
    "    s = 0\n",
    "    for v in L:\n",
    "        s+=v\n",
    "    return s\n",
    "\n",
    "def sum_recu(L):\n",
    "    if len(L)==1:\n",
    "        return L[0]\n",
    "    else:\n",
    "        return sum_recu(L[1:])+L[0]\n",
    "\n",
    "LR = [randrange(10) for i in range(10)]\n",
    "\n",
    "print(\"LR =\", LR)\n",
    "print(\"sum_iter(LR) =\", sum_iter(LR))\n",
    "print(\"sum_recu(LR) =\", sum_recu(LR))\n"
   ]
  },
  {
   "cell_type": "code",
   "execution_count": null,
   "metadata": {},
   "outputs": [],
   "source": [
    "L=[1,2,3]\n",
    "len(L)"
   ]
  },
  {
   "cell_type": "code",
   "execution_count": null,
   "metadata": {},
   "outputs": [],
   "source": [
    "from random import randrange\n",
    "\n",
    "def sum_iter(L):\n",
    "    s = 0\n",
    "    for v in L:\n",
    "        s+=v\n",
    "    return s\n",
    "\n",
    "def sum_recu(L):\n",
    "    if len(L)==1:\n",
    "        return L[0]\n",
    "    else:\n",
    "        return sum_recu(L[1:])+L[0]\n",
    "\n",
    "LR = [randrange(10) for i in range(10)]\n",
    "\n",
    "print(\"LR =\", LR)\n",
    "print(\"sum_iter(LR) =\", sum_iter(LR))\n",
    "print(\"sum_recu(LR) =\", sum_recu(LR))\n",
    "print(\"sum(LR)      =\", sum(LR))"
   ]
  },
  {
   "cell_type": "code",
   "execution_count": null,
   "metadata": {},
   "outputs": [],
   "source": []
  }
 ],
 "metadata": {
  "kernelspec": {
   "display_name": "Python 3",
   "language": "python",
   "name": "python3"
  },
  "language_info": {
   "codemirror_mode": {
    "name": "ipython",
    "version": 3
   },
   "file_extension": ".py",
   "mimetype": "text/x-python",
   "name": "python",
   "nbconvert_exporter": "python",
   "pygments_lexer": "ipython3",
   "version": "3.8.3"
  }
 },
 "nbformat": 4,
 "nbformat_minor": 4
}
