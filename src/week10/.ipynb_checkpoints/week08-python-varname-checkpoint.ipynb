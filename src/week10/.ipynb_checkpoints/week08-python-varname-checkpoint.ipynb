{
 "cells": [
  {
   "cell_type": "markdown",
   "metadata": {},
   "source": [
    "<div style=\"text-align: center;\">\n",
    "<img src=\"images/stust.png\" alt=\"STUST\" class=\"center\" style=\"width: 900px;\"/>\n",
    "</div>\n",
    "\n",
    "<hr style=\"border:4px solid gray\"> </hr>\n",
    "\n",
    "<div style=\"text-align: center;\">    \n",
    "<br>    \n",
    "    \n",
    "# [Python OOP](https://www.programiz.com/python-programming/object-oriented-programming)\n",
    "\n",
    "### varname Module\n",
    "    \n",
    "##### Source: https://www.programiz.com/python-programming\n",
    "\n",
    "</div>\n",
    "\n",
    "<br>\n",
    "<hr style=\"border:4px solid gray\"> </hr>\n"
   ]
  },
  {
   "cell_type": "markdown",
   "metadata": {},
   "source": [
    "<br>\n",
    "<hr style=\"border:2px solid orange\"> </hr>"
   ]
  },
  {
   "cell_type": "code",
   "execution_count": 23,
   "metadata": {},
   "outputs": [
    {
     "name": "stdout",
     "output_type": "stream",
     "text": [
      "A(a) = {'id': 'a', 'val': 0}\n",
      "A(b) = {'id': 'b', 'val': 100}\n"
     ]
    }
   ],
   "source": [
    "from varname import varname\n",
    "\n",
    "class A:\n",
    "    \n",
    "    def __init__(self, val=0):\n",
    "        self.id = varname()\n",
    "        self.val = val\n",
    "    \n",
    "    def __str__(self):\n",
    "        cname = self.__class__.__name__\n",
    "        return f\"{cname}({self.id}) = {self.__dict__}\"\n",
    "\n",
    "a = A()\n",
    "b = A(100)\n",
    "print(a)\n",
    "print(b)"
   ]
  },
  {
   "cell_type": "code",
   "execution_count": 26,
   "metadata": {},
   "outputs": [],
   "source": [
    "from varname import varname\n",
    "\n",
    "class Complex:\n",
    "    \n",
    "    # constructor\n",
    "    def __init__(self, real=0.0, img=0.0):\n",
    "        self.__id = varname()\n",
    "        self.__real = real\n",
    "        self.__img  = img\n",
    "    \n",
    "    # print all attributes\n",
    "    def dump(self):\n",
    "        cname = self.__class__.__name__\n",
    "        attr = self.__dict__\n",
    "        id = self.__id\n",
    "        print(f\"{cname}({id}) = {attr}\")"
   ]
  },
  {
   "cell_type": "code",
   "execution_count": 27,
   "metadata": {},
   "outputs": [
    {
     "name": "stdout",
     "output_type": "stream",
     "text": [
      "Complex(c1) = {'_Complex__id': 'c1', '_Complex__real': 2, '_Complex__img': 3.14}\n"
     ]
    }
   ],
   "source": [
    "c1 = Complex(2, 3.14)\n",
    "c1.dump()"
   ]
  },
  {
   "cell_type": "markdown",
   "metadata": {},
   "source": [
    "<hr style=\"border:2px solid orange\"> </hr>\n",
    "<br>\n",
    "\n",
    "<div style=\"text-align: left;\">\n",
    "<img src=\"images/break-yang-tr.png\" alt=\"Break\" class=\"center\" style=\"width: 500px;\"/>\n",
    "</div>\n"
   ]
  }
 ],
 "metadata": {
  "kernelspec": {
   "display_name": "Python 3",
   "language": "python",
   "name": "python3"
  },
  "language_info": {
   "codemirror_mode": {
    "name": "ipython",
    "version": 3
   },
   "file_extension": ".py",
   "mimetype": "text/x-python",
   "name": "python",
   "nbconvert_exporter": "python",
   "pygments_lexer": "ipython3",
   "version": "3.8.3"
  }
 },
 "nbformat": 4,
 "nbformat_minor": 4
}
