{
 "cells": [
  {
   "cell_type": "markdown",
   "metadata": {},
   "source": [
    "## [Python 3: From None to Machine Learning](https://python.astrotech.io/index.html)"
   ]
  },
  {
   "cell_type": "code",
   "execution_count": 19,
   "metadata": {},
   "outputs": [
    {
     "name": "stdout",
     "output_type": "stream",
     "text": [
      "******************************\n",
      "Hello Asynchronous VLSI Woeld!\n",
      "******************************\n"
     ]
    }
   ],
   "source": [
    "def drawstar(f):\n",
    "    def inner(name):\n",
    "        s = f(name)\n",
    "        stars = \"*\"*len(s)\n",
    "        return f\"{stars}\\n{s}\\n{stars}\"    \n",
    "    return inner\n",
    "\n",
    "def hello(name):\n",
    "    return f\"Hello {name} Woeld!\"\n",
    "\n",
    "new_hello = drawstar(hello)\n",
    "    \n",
    "    \n",
    "print(new_hello(\"Asynchronous VLSI\"))"
   ]
  },
  {
   "cell_type": "code",
   "execution_count": 21,
   "metadata": {},
   "outputs": [
    {
     "name": "stdout",
     "output_type": "stream",
     "text": [
      "******************************\n",
      "Hello Asynchronous VLSI Woeld!\n",
      "******************************\n"
     ]
    }
   ],
   "source": [
    "def drawstar(f):\n",
    "    def inner(name):\n",
    "        s = f(name)\n",
    "        stars = \"*\"*len(s)\n",
    "        return f\"{stars}\\n{s}\\n{stars}\"    \n",
    "    return inner\n",
    "\n",
    "@drawstar\n",
    "def hello(name):\n",
    "    return f\"Hello {name} Woeld!\"\n",
    "\n",
    "    \n",
    "print(hello(\"Asynchronous VLSI\"))"
   ]
  },
  {
   "cell_type": "code",
   "execution_count": 24,
   "metadata": {},
   "outputs": [
    {
     "name": "stdout",
     "output_type": "stream",
     "text": [
      "******************************\n",
      "Hello Asynchronous VLSI Woeld!\n",
      "******************************\n",
      "==============================\n",
      "Hello Asynchronous VLSI Woeld!\n",
      "==============================\n"
     ]
    }
   ],
   "source": [
    "def drawstar(f,sym):\n",
    "    def inner(name):\n",
    "        s = f(name)\n",
    "        stars = sym*len(s)\n",
    "        return f\"{stars}\\n{s}\\n{stars}\"    \n",
    "    return inner\n",
    "\n",
    "\n",
    "def hello(name):\n",
    "    return f\"Hello {name} Woeld!\"\n",
    "\n",
    "new_hello1 = drawstar(hello,'*')\n",
    "new_hello2 = drawstar(hello,'=')\n",
    "    \n",
    "    \n",
    "print(new_hello1(\"Asynchronous VLSI\"))\n",
    "print(new_hello2(\"Asynchronous VLSI\"))"
   ]
  },
  {
   "cell_type": "code",
   "execution_count": 11,
   "metadata": {},
   "outputs": [
    {
     "name": "stdout",
     "output_type": "stream",
     "text": [
      "wrapper:  (1, 2, 3) {'a': 123}\n",
      "myfunction:  (1, 2, 3) {'a': 123}\n"
     ]
    }
   ],
   "source": [
    "def mydecorator(func):\n",
    "    def wrapper(*args, **kwargs):\n",
    "        print(\"wrapper: \", args, kwargs)\n",
    "        return func(*args, **kwargs)\n",
    "    return wrapper\n",
    "\n",
    "@mydecorator\n",
    "def myfunction(*args, **kwargs):\n",
    "    print(\"myfunction: \", args, kwargs)\n",
    "\n",
    "myfunction(1,2,3,a=123)"
   ]
  },
  {
   "cell_type": "code",
   "execution_count": 13,
   "metadata": {},
   "outputs": [],
   "source": [
    "def rangetest(*argchecks):                  # validate positional arg ranges\n",
    "    def onDecorator(func):\n",
    "        if not __debug__:                   # True if \"python -O main.py args..\"\n",
    "            return func                     # no-op: call original directly\n",
    "        else:                               # else wrapper while debugging\n",
    "            def onCall(*args):\n",
    "                for (ix, low, high) in argchecks:\n",
    "                    if args[ix] < low or args[ix] > high:\n",
    "                        errmsg = 'Argument %s not in %s..%s' % (ix, low, high)\n",
    "                        raise TypeError(errmsg)\n",
    "                return func(*args)\n",
    "            return onCall\n",
    "    return onDecorator"
   ]
  },
  {
   "cell_type": "code",
   "execution_count": 2,
   "metadata": {},
   "outputs": [
    {
     "name": "stdout",
     "output_type": "stream",
     "text": [
      "==============================\n",
      "Hello Asynchronous VLSI Woeld!\n",
      "==============================\n",
      "******************************\n",
      "Hello Asynchronous VLSI Woeld!\n",
      "******************************\n"
     ]
    }
   ],
   "source": [
    "def whichsym(sym):\n",
    "    def drawstar(f):\n",
    "        def inner(name):\n",
    "            s = f(name)\n",
    "            stars = sym*len(s)\n",
    "            return f\"{stars}\\n{s}\\n{stars}\"    \n",
    "        return inner\n",
    "    return drawstar\n",
    "\n",
    "@whichsym(\"=\")\n",
    "def hello1(name):\n",
    "    return f\"Hello {name} Woeld!\"\n",
    "\n",
    "@whichsym(\"*\")\n",
    "def hello2(name):\n",
    "    return f\"Hello {name} Woeld!\"\n",
    "\n",
    "print(hello1(\"Asynchronous VLSI\"))\n",
    "print(hello2(\"Asynchronous VLSI\"))"
   ]
  },
  {
   "cell_type": "code",
   "execution_count": null,
   "metadata": {},
   "outputs": [],
   "source": []
  }
 ],
 "metadata": {
  "kernelspec": {
   "display_name": "Python 3",
   "language": "python",
   "name": "python3"
  },
  "language_info": {
   "codemirror_mode": {
    "name": "ipython",
    "version": 3
   },
   "file_extension": ".py",
   "mimetype": "text/x-python",
   "name": "python",
   "nbconvert_exporter": "python",
   "pygments_lexer": "ipython3",
   "version": "3.7.3"
  }
 },
 "nbformat": 4,
 "nbformat_minor": 4
}
