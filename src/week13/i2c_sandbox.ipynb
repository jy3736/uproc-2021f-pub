{
 "cells": [
  {
   "cell_type": "markdown",
   "metadata": {},
   "source": [
    "# Reference\n",
    "\n",
    "* [The Raspberry Pi GPIO pinout guide.](https://pinout.xyz/)\n",
    "\n",
    "* [Synchronous serial communication in Raspberry Pi using I2C protocol](https://www.engineersgarage.com/raspberrypi/articles-raspberry-pi-i2c-bus-pins-smbus-smbus2-python/)\n",
    "\n",
    "* [struct — Interpret bytes as packed binary data](https://docs.python.org/3/library/struct.html)\n",
    "\n",
    "* [Python String encode(); UTF-8 / ASCII](https://www.programiz.com/python-programming/methods/string/encode)\n",
    "\n",
    "* [Communication between Raspberry Pi and Arduino with I2C](https://www.aranacorp.com/en/communication-between-raspberry-pi-and-arduino-with-i2c/)"
   ]
  },
  {
   "cell_type": "code",
   "execution_count": 27,
   "metadata": {},
   "outputs": [],
   "source": [
    "# -------------------------------------------\n",
    "# RPi <-- I2C --> Arduino (rpi_i2c_lab01)\n",
    "# -------------------------------------------\n",
    "\n",
    "import sys\n",
    "import smbus2 as smbus \n",
    "import time\n",
    "from random import randrange\n",
    "\n",
    "# Slave Addresses\n",
    "I2C_SLAVE_ADDRESS = 11\n",
    "\n",
    "def test01():\n",
    "    # Create the I2C bus\n",
    "    I2Cbus = smbus.SMBus(1)\n",
    "    with smbus.SMBus(1) as I2Cbus:\n",
    "        for i in range(10):\n",
    "            I2Cbus.write_byte(I2C_SLAVE_ADDRESS, randrange(1,6))\n",
    "            time.sleep(0.5)\n",
    "    return 0\n",
    "\n",
    "def test02():\n",
    "    # Create the I2C bus\n",
    "    I2Cbus = smbus.SMBus(1)\n",
    "    with smbus.SMBus(1) as I2Cbus:\n",
    "        I2Cbus.write_block_data(I2C_SLAVE_ADDRESS, 0x40, \"abcd123\".encode(\"ASCII\"))\n",
    "        time.sleep(0.5)\n",
    "    return 0\n",
    "\n",
    "def test03():\n",
    "    # Create the I2C bus\n",
    "    I2Cbus = smbus.SMBus(1)\n",
    "    with smbus.SMBus(1) as I2Cbus:\n",
    "        I2Cbus.write_byte_data(I2C_SLAVE_ADDRESS, 0x03, 65)\n",
    "        time.sleep(0.5)\n",
    "    return 0\n",
    "\n",
    "if __name__ == '__main__':\n",
    "    test02()"
   ]
  },
  {
   "cell_type": "code",
   "execution_count": 39,
   "metadata": {},
   "outputs": [
    {
     "name": "stdout",
     "output_type": "stream",
     "text": [
      "b'\\x01\\x00\\x02\\x00\\x03\\x00\\x00\\x00'\n",
      "(1, 2, 3)\n"
     ]
    }
   ],
   "source": [
    "from struct import *\n",
    "pkg = pack('<hhl', 1, 2, 3)\n",
    "payload = unpack('<hhl', pkg)\n",
    "print(pkg)\n",
    "print(payload)"
   ]
  },
  {
   "cell_type": "markdown",
   "metadata": {},
   "source": [
    "# [Python struct](https://docs.python.org/3/library/struct.html)"
   ]
  },
  {
   "cell_type": "code",
   "execution_count": 9,
   "metadata": {},
   "outputs": [
    {
     "name": "stdout",
     "output_type": "stream",
     "text": [
      "send(0, q, 0.33, 168)\n",
      "send(1, h, 0.89, 131)\n",
      "send(2, n, 0.13, 116)\n",
      "send(3, a, 0.54, 114)\n",
      "send(4, b, 0.57, 132)\n"
     ]
    }
   ],
   "source": [
    "# -------------------------------------------------------\n",
    "# RPi <-- I2C struct message --> Arduino (rpi_i2c_lab03)\n",
    "# -------------------------------------------------------\n",
    "import smbus2 as smbus \n",
    "from time import sleep\n",
    "from random import randrange, random\n",
    "from struct import pack, unpack\n",
    "\n",
    "# Slave Addresses\n",
    "I2C_ADDR = 11\n",
    "\n",
    "def i2c_struct_tb01(cmd=123):\n",
    "    with smbus.SMBus(1) as I2Cbus:\n",
    "        ch = ord('a')+randrange(0,25)\n",
    "        rf = random()\n",
    "        ri = randrange(100,200)\n",
    "        pkg = pack('<Bfh', ch, rf, ri)\n",
    "        I2Cbus.write_block_data(I2C_SLAVE_ADDRESS, cmd, pkg);\n",
    "        print(f\"send({cmd}, {chr(ch)}, {rf:3.2}, {ri})\")\n",
    "        sleep(0.5)\n",
    "    return 0\n",
    "\n",
    "if __name__ == '__main__':\n",
    "    _ = [i2c_struct_tb01(c) for c in range(5)]\n",
    "    "
   ]
  },
  {
   "cell_type": "code",
   "execution_count": null,
   "metadata": {},
   "outputs": [],
   "source": []
  },
  {
   "cell_type": "code",
   "execution_count": 19,
   "metadata": {},
   "outputs": [
    {
     "name": "stdout",
     "output_type": "stream",
     "text": [
      "send(1, a, 0.94, 107)\n",
      "received(1, a, 0.94, 107)\n",
      "send(2, n, 0.66, 104)\n",
      "received(2, n, 0.66, 104)\n",
      "send(3, q, 0.26, 131)\n",
      "received(3, q, 0.26, 131)\n",
      "send(4, j, 0.18, 140)\n",
      "received(4, j, 0.18, 140)\n",
      "send(5, b, 0.77, 112)\n",
      "received(5, b, 0.77, 112)\n"
     ]
    }
   ],
   "source": [
    "# -------------------------------------------------------\n",
    "# RPi <-- I2C struct message --> Arduino (rpi_i2c_lab04)\n",
    "# -------------------------------------------------------\n",
    "import smbus2 as smbus \n",
    "from time import sleep\n",
    "from random import randrange, random\n",
    "from struct import pack, unpack\n",
    "\n",
    "# Slave Addresses\n",
    "I2C_ADDR = 11\n",
    "\n",
    "def i2c_struct_send(cmd=123):\n",
    "    with smbus.SMBus(1) as I2Cbus:\n",
    "        ch = ord('a')+randrange(0,25)\n",
    "        rf = random()\n",
    "        ri = randrange(100,200)\n",
    "        pkg = pack('<Bfh', ch, rf, ri)\n",
    "        I2Cbus.write_block_data(I2C_ADDR, cmd, pkg);\n",
    "        print(f\"send({cmd}, {chr(ch)}, {rf:3.2}, {ri})\")\n",
    "        sleep(0.5)\n",
    "    return 0\n",
    "\n",
    "def i2c_struct_recv(cmd=0):\n",
    "    try:\n",
    "        with smbus.SMBus(1) as I2Cbus:\n",
    "            data = I2Cbus.read_i2c_block_data(I2C_ADDR, cmd, 8)\n",
    "            cmd = data[0]\n",
    "            ch, rf, ri = unpack(\"<Bfh\",bytes(data[1:]))\n",
    "            print(f\"received({cmd}, {chr(ch)}, {rf:3.2}, {ri})\")\n",
    "    except:\n",
    "        print(\"remote i/o error\")\n",
    "        sleep(0.5)\n",
    "                \n",
    "if __name__ == '__main__':\n",
    "    for c in range(1,6):\n",
    "        i2c_struct_send(c)\n",
    "        sleep(1)\n",
    "        i2c_struct_recv()\n",
    "    "
   ]
  },
  {
   "cell_type": "code",
   "execution_count": 13,
   "metadata": {},
   "outputs": [
    {
     "name": "stdout",
     "output_type": "stream",
     "text": [
      "<class 'bytes'>\n",
      "b'a\\xc3\\xf5H@{\\x00'\n"
     ]
    }
   ],
   "source": [
    "from struct import pack, unpack\n",
    "\n",
    "p = pack(\"<Bfh\",ord('a'),3.14,123)\n",
    "print(type(p))\n",
    "print(p)"
   ]
  },
  {
   "cell_type": "code",
   "execution_count": null,
   "metadata": {},
   "outputs": [],
   "source": []
  }
 ],
 "metadata": {
  "kernelspec": {
   "display_name": "Python 3",
   "language": "python",
   "name": "python3"
  },
  "language_info": {
   "codemirror_mode": {
    "name": "ipython",
    "version": 3
   },
   "file_extension": ".py",
   "mimetype": "text/x-python",
   "name": "python",
   "nbconvert_exporter": "python",
   "pygments_lexer": "ipython3",
   "version": "3.7.3"
  }
 },
 "nbformat": 4,
 "nbformat_minor": 4
}
