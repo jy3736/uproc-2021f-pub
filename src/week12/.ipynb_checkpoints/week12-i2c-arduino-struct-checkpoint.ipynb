{
 "cells": [
  {
   "cell_type": "markdown",
   "metadata": {},
   "source": [
    "<div style=\"text-align: center;\">\n",
    "<img src=\"images/stust.png\" alt=\"STUST\" class=\"center\" style=\"width: 900px;\"/>\n",
    "</div>\n",
    "\n",
    "<hr style=\"border:4px solid gray\"> </hr>\n",
    "\n",
    "<div style=\"text-align: center;\">    \n",
    "<br>    \n",
    "    \n",
    "# Transmission of C-Struct via I²C\n",
    "### Raspberry Pi I²C Serial Communication\n",
    "\n",
    "</div>\n",
    "\n",
    "<br>\n",
    "<hr style=\"border:4px solid gray\"> </hr>\n"
   ]
  },
  {
   "cell_type": "markdown",
   "metadata": {},
   "source": [
    "# Reference\n",
    "\n",
    "* [The Raspberry Pi GPIO pinout guide.](https://pinout.xyz/)\n",
    "\n",
    "* [Synchronous serial communication in Raspberry Pi using I2C protocol](https://www.engineersgarage.com/raspberrypi/articles-raspberry-pi-i2c-bus-pins-smbus-smbus2-python/)\n",
    "\n",
    "* [struct — Interpret bytes as packed binary data](https://docs.python.org/3/library/struct.html)\n",
    "\n",
    "* [Python String encode(); UTF-8 / ASCII](https://www.programiz.com/python-programming/methods/string/encode)\n",
    "\n",
    "* [Communication between Raspberry Pi and Arduino with I2C](https://www.aranacorp.com/en/communication-between-raspberry-pi-and-arduino-with-i2c/)"
   ]
  },
  {
   "cell_type": "markdown",
   "metadata": {},
   "source": [
    "<hr style=\"border:0.5px solid gray\"> "
   ]
  },
  {
   "cell_type": "markdown",
   "metadata": {},
   "source": [
    "<hr style=\"border:2px solid orange\"> </hr>\n",
    "\n",
    "# Arduino Sketch: rpi_i2c_lab01.uno\n",
    "\n",
    "```C++\n",
    "\n",
    "```"
   ]
  },
  {
   "cell_type": "markdown",
   "metadata": {},
   "source": [
    "<hr style=\"border:2px solid orange\"> </hr>\n",
    "\n",
    "## Lab 01 : Raspberry Pi (Master) → Arduino (Slave)\n",
    "\n",
    "* Arduino sketch : `rpi_i2c_lab01`\n"
   ]
  },
  {
   "cell_type": "code",
   "execution_count": null,
   "metadata": {},
   "outputs": [],
   "source": [
    "import smbus2 as smbus \n",
    "from time import sleep\n",
    "from random import randrange, random\n",
    "\n",
    "I2C_ADDR = 11\n",
    "PORT = 1\n",
    "\n",
    "def i2c_write_bytes(data):\n",
    "    i2cbus = smbus.SMBus(PORT)\n",
    "    cmd = 123\n",
    "    i2cbus.write_i2c_block_data(I2C_ADDR, cmd, data.encode(\"ascii\"))\n",
    "    sleep(0.5)\n",
    "\n",
    "def main(msg):\n",
    "    i2c_write_bytes(msg)\n",
    "    \n",
    "if __name__ == '__main__':\n",
    "    main(\"I2C\")"
   ]
  },
  {
   "cell_type": "markdown",
   "metadata": {},
   "source": [
    "```\n",
    "Arduino I2C Slave(11)\n",
    "===================================\n",
    "irsReceive # of bytes = 4\n",
    "received : 123 73 50 67 \n",
    "```"
   ]
  },
  {
   "cell_type": "markdown",
   "metadata": {},
   "source": [
    "<hr style=\"border:2px solid orange\"> </hr>\n",
    "\n",
    "## Lab 02 : Raspberry Pi (Master) ← Arduino (Slave)\n",
    "\n",
    "* Arduino sketch : `rpi_i2c_lab01`"
   ]
  },
  {
   "cell_type": "code",
   "execution_count": null,
   "metadata": {},
   "outputs": [],
   "source": [
    "import smbus2 as smbus \n",
    "from time import sleep\n",
    "from random import randrange, random\n",
    "\n",
    "I2C_ADDR = 11\n",
    "PORT = 1\n",
    "\n",
    "def i2c_read_bytes(nb):\n",
    "    i2cbus = smbus.SMBus(PORT)\n",
    "    cmd = 123\n",
    "    data = i2cbus.read_i2c_block_data(I2C_ADDR, cmd, nb)\n",
    "    sleep(0.5)\n",
    "    return data\n",
    "\n",
    "def main():\n",
    "    recv = i2c_read_bytes(5)\n",
    "    print(f\"receved : {recv}\")\n",
    "    \n",
    "if __name__ == '__main__':\n",
    "    main()"
   ]
  },
  {
   "cell_type": "markdown",
   "metadata": {},
   "source": [
    "```\n",
    "RPi Output\n",
    "===================================\n",
    "receved : [3, 5, 4, 4, 1]\n",
    "\n",
    "Arduino I2C Slave(11)\n",
    "===================================\n",
    "irsReceive # of bytes = 1\n",
    "irsRequest send => 3 5 4 4 1 \n",
    "```"
   ]
  },
  {
   "cell_type": "markdown",
   "metadata": {},
   "source": [
    "<hr style=\"border:2px solid orange\"> </hr>\n",
    "\n",
    "## [Pyuthon Reference - `Struct`](https://docs.python.org/3/library/struct.html)\n",
    "\n",
    "| Character | Byte order             |\n",
    "|-----------|------------------------|\n",
    "| =         | native                 |\n",
    "| <         | little-endian          |\n",
    "| >         | big-endian             |\n",
    "\n",
    "\n",
    "| format | C Type             | Python type       | Standard size |\n",
    "|--------|--------------------|-------------------|---------------|\n",
    "| x      | pad byte           | no value          |               |\n",
    "| c      | char               | bytes of length 1 | 1             |\n",
    "| b      | signed char        | integer           | 1             |\n",
    "| B      | unsigned char      | integer           | 1             |\n",
    "| ?      | _Bool              | bool              | 1             |\n",
    "| h      | short              | integer           | 2             |\n",
    "| H      | unsigned short     | integer           | 2             |\n",
    "| i      | int                | integer           | 4             |\n",
    "| I      | unsigned int       | integer           | 4             |\n",
    "| l      | long               | integer           | 4             |\n",
    "| L      | unsigned long      | integer           | 4             |\n",
    "| q      | long long          | integer           | 8             |\n",
    "| Q      | unsigned long long | integer           | 8             |\n",
    "| f      | float              | float             | 4             |\n",
    "| d      | double             | float             | 8             |\n",
    "| s      | char[]             | str              |             |\n"
   ]
  },
  {
   "cell_type": "code",
   "execution_count": 21,
   "metadata": {},
   "outputs": [
    {
     "name": "stdout",
     "output_type": "stream",
     "text": [
      "20\n",
      "b'Jack\\x00\\x00\\x00\\x00\\x00\\x00N\\x00P\\x00Z\\x00UU\\xa5B'\n",
      "Jack\u0000\u0000\u0000\u0000\u0000\u0000 78 80 90 82.7\n"
     ]
    }
   ],
   "source": [
    "from struct import pack, unpack, Struct\n",
    "\n",
    "fmt = \"=10sHHHf\"\n",
    "print(Struct(fmt).size)\n",
    "name = \"Jack\"\n",
    "eng = 78\n",
    "math = 80\n",
    "chi = 90\n",
    "toArduino = pack(fmt,bytes(name,'ascii'),eng,math,chi,(eng+math+chi)/3.0)\n",
    "print(toArduino)\n",
    "name, eng, math, chi, avg = unpack(fmt,toArduino)\n",
    "print(f\"{name.decode()}{eng:3}{math:3}{chi:3}{avg:5.3}\")"
   ]
  },
  {
   "cell_type": "markdown",
   "metadata": {},
   "source": [
    "<hr style=\"border:2px solid orange\"> </hr>\n",
    "\n",
    "## Lab 03 : Transfer C-Struct to Arduino UNO\n",
    "\n",
    "* Arduino sketch : `rpi_i2c_lab05`"
   ]
  },
  {
   "cell_type": "code",
   "execution_count": 2,
   "metadata": {},
   "outputs": [
    {
     "name": "stdout",
     "output_type": "stream",
     "text": [
      "send(0, stust714  ,  3.11, 151)\n",
      "send(1, stust729  ,  4.71, 149)\n",
      "send(2, stust591  ,  3.54, 171)\n",
      "send(3, stust494  ,  2.98, 158)\n",
      "send(4, stust465  ,  7.21, 146)\n"
     ]
    }
   ],
   "source": [
    "# -------------------------------------------------------\n",
    "# RPi --> Arduino (rpi_i2c_lab04)\n",
    "# -------------------------------------------------------\n",
    "import smbus2 as smbus \n",
    "from time import sleep\n",
    "from random import randrange, random\n",
    "from struct import pack, unpack\n",
    "\n",
    "# Slave Addresses\n",
    "I2C_ADDR = 11\n",
    "\n",
    "def i2c_struct_tb01(cmd=123):\n",
    "    with smbus.SMBus(1) as I2Cbus:\n",
    "        s = 'stust'+str(randrange(100,999))\n",
    "        rf = random()*10\n",
    "        ri = randrange(100,200)\n",
    "        pkg = pack('=10sfh', bytes(s, 'ascii'), rf, ri)\n",
    "        I2Cbus.write_i2c_block_data(I2C_ADDR, cmd, pkg);\n",
    "        print(f\"send({cmd}, {s:10}, {rf:5.3}, {ri})\")\n",
    "        sleep(0.5)\n",
    "    return 0\n",
    "\n",
    "if __name__ == '__main__':\n",
    "    _ = [i2c_struct_tb01(c) for c in range(5)]\n",
    "    "
   ]
  },
  {
   "cell_type": "markdown",
   "metadata": {},
   "source": [
    "<hr style=\"border:2px solid orange\"> </hr>\n",
    "\n",
    "## Lab 04 : Receive C-Struct from Arduino UNO\n",
    "\n",
    "* Arduino sketch : `rpi_i2c_lab05`"
   ]
  },
  {
   "cell_type": "code",
   "execution_count": 6,
   "metadata": {},
   "outputs": [
    {
     "name": "stdout",
     "output_type": "stream",
     "text": [
      "send(1, stust978  , 0.55, 194)\n",
      "received(66, stust978\u0000\u0000, 0.55, 194)\n",
      "send(2, stust549  , 0.14, 139)\n",
      "received(66, stust549\u0000\u0000, 0.14, 139)\n",
      "send(3, stust534  , 0.76, 143)\n",
      "received(66, stust534\u0000\u0000, 0.76, 143)\n",
      "send(4, stust896  , 0.7, 157)\n",
      "received(66, stust896\u0000\u0000, 0.7, 157)\n",
      "send(5, stust287  , 0.84, 137)\n",
      "received(66, stust287\u0000\u0000, 0.84, 137)\n"
     ]
    }
   ],
   "source": [
    "# -------------------------------------------------------\n",
    "# RPi <--> Arduino (rpi_i2c_lab04)\n",
    "# -------------------------------------------------------\n",
    "import smbus2 as smbus \n",
    "from time import sleep\n",
    "from random import randrange, random\n",
    "from struct import pack, unpack, Struct\n",
    "\n",
    "# Slave Addresses\n",
    "I2C_ADDR = 11\n",
    "\n",
    "def i2c_struct_send(cmd=123):\n",
    "    fmt = \"=10sfh\"\n",
    "    with smbus.SMBus(1) as I2Cbus:\n",
    "        s = 'stust'+str(randrange(100,999))\n",
    "        rf = random()\n",
    "        ri = randrange(100,200)\n",
    "        pkg = pack(fmt, bytes(s, 'ascii'), rf, ri)\n",
    "        I2Cbus.write_i2c_block_data(I2C_ADDR, cmd, pkg);\n",
    "        print(f\"send({cmd}, {s:10}, {rf:3.2}, {ri})\")\n",
    "        sleep(0.5)\n",
    "    return 0\n",
    "\n",
    "def i2c_struct_recv(cmd=0):\n",
    "    fmt = \"=10sfh\"\n",
    "    Len = Struct(fmt).size+1\n",
    "    try:\n",
    "        with smbus.SMBus(1) as I2Cbus:\n",
    "            data = I2Cbus.read_i2c_block_data(I2C_ADDR, cmd, Len)\n",
    "            cmd = data[0]\n",
    "            s, rf, ri = unpack(fmt,bytes(data[1:]))\n",
    "            print(f\"received({cmd}, {s.decode():10}, {rf:3.2}, {ri})\")\n",
    "    except Exception as e:\n",
    "        print(e)\n",
    "                \n",
    "if __name__ == '__main__':\n",
    "    for c in range(1,6):\n",
    "        i2c_struct_send(c)\n",
    "        sleep(1)\n",
    "        i2c_struct_recv()\n",
    "    "
   ]
  },
  {
   "cell_type": "markdown",
   "metadata": {},
   "source": [
    "<br><hr style=\"border:3px solid red\"> </hr>\n",
    "<div style=\"text-align: center;\">         \n",
    "    \n",
    "# *Homework Assignment*\n",
    "\n",
    "</div>\n",
    "<hr style=\"border:3px solid red\"> </hr>\n",
    "<br>\n",
    "\n",
    "* Homework 01 - Verify the discussed Python script and Arduino sketch on real hardware (Raspberry Pi and Arduino UNO)."
   ]
  },
  {
   "cell_type": "markdown",
   "metadata": {},
   "source": [
    "<hr style=\"border:2px solid orange\"> </hr>\n",
    "<br>\n",
    "\n",
    "<div style=\"text-align: left;\">\n",
    "<img src=\"images/break-yang-tr.png\" alt=\"Break\" class=\"center\" style=\"width: 500px;\"/>\n",
    "</div>\n"
   ]
  }
 ],
 "metadata": {
  "kernelspec": {
   "display_name": "Python 3",
   "language": "python",
   "name": "python3"
  },
  "language_info": {
   "codemirror_mode": {
    "name": "ipython",
    "version": 3
   },
   "file_extension": ".py",
   "mimetype": "text/x-python",
   "name": "python",
   "nbconvert_exporter": "python",
   "pygments_lexer": "ipython3",
   "version": "3.7.3"
  }
 },
 "nbformat": 4,
 "nbformat_minor": 4
}
