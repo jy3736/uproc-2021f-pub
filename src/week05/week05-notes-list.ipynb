{
 "cells": [
  {
   "cell_type": "markdown",
   "metadata": {},
   "source": [
    "<div style=\"text-align: center;\">\n",
    "<img src=\"images/stust.png\" alt=\"STUST\" class=\"center\" style=\"width: 900px;\"/>\n",
    "</div>\n",
    "<hr style=\"border:4px solid gray\"> </hr>"
   ]
  },
  {
   "cell_type": "markdown",
   "metadata": {},
   "source": [
    "<div style=\"text-align: center;\">\n",
    "    \n",
    "# Python Language Fundamental 3\n",
    "## Source : [https://snakify.org/en/](https://snakify.org/en/)\n",
    "\n",
    "</div>"
   ]
  },
  {
   "cell_type": "markdown",
   "metadata": {},
   "source": [
    "<br><hr style=\"border:2px solid orange\"> </hr>\n",
    "<div style=\"text-align: center; font-size: 200%;\">\n",
    "\n",
    "# [<span style=\"color:yellow\">*Lists*</span>](https://snakify.org/en/lessons/lists/)\n",
    "</div>\n",
    "\n",
    "<br><hr style=\"border:2px solid orange\"> </hr>\n",
    "\n",
    "<div style=\"text-align: left; font-size: 150%;\">\n",
    "\n",
    "* Python lists can hold `any combination of objects.`\n",
    "* Lists are `mutable` universal containers.\n",
    "</div>\n",
    "\n",
    "> Example : Declare and access Python lists\n",
    "```Python \n",
    "Primes = [2, 3, 5, 7, 11, 13]\n",
    "Rainbow = ['Red', 'Orange', 'Yellow', 'Green', 'Blue', 'Indigo', 'Violet']\n",
    "Item = [\"Apple\", 13.5, 300, \"Tainan\"]\n",
    "\n",
    "for i in range(len(Rainbow)):\n",
    "    print(Rainbow[i], end=\" \")\n",
    "\n",
    "Rainbow[0] = 'red'\n",
    "print()\n",
    "\n",
    "for c in Rainbow:\n",
    "    print(c,end=\" \")\n",
    "```\n",
    "\n",
    "<hr style=\"border:1px solid gray\"> </hr>\n",
    "\n",
    "> Output:\n",
    "```\n",
    "Red Orange Yellow Green Blue Indigo Violet \n",
    "red Orange Yellow Green Blue Indigo Violet \n",
    "```"
   ]
  },
  {
   "cell_type": "code",
   "execution_count": 6,
   "metadata": {
    "collapsed": true,
    "jupyter": {
     "outputs_hidden": true,
     "source_hidden": true
    }
   },
   "outputs": [
    {
     "name": "stdout",
     "output_type": "stream",
     "text": [
      "Red Orange Yellow Green Blue Indigo Violet \n",
      "red Orange Yellow Green Blue Indigo Violet "
     ]
    }
   ],
   "source": [
    "Primes = [2, 3, 5, 7, 11, 13]\n",
    "Rainbow = ['Red', 'Orange', 'Yellow', 'Green', 'Blue', 'Indigo', 'Violet']\n",
    "Item = [\"Apple\", 13.5, 300, \"Tainan\"]\n",
    "\n",
    "for i in range(len(Rainbow)):\n",
    "    print(Rainbow[i], end=\" \")\n",
    "\n",
    "Rainbow[0] = 'red'\n",
    "print()\n",
    "\n",
    "for c in Rainbow:\n",
    "    print(c,end=\" \")"
   ]
  },
  {
   "cell_type": "markdown",
   "metadata": {},
   "source": [
    "<hr style=\"border:2px solid orange\"> </hr>\n",
    "\n",
    "## [<span style=\"color:yellow\">L.append(Item)</span>](https://snakify.org/en/lessons/lists/)\n",
    "* add Item to the end of list L\n",
    "\n",
    "<hr style=\"border:1px solid gray\"> </hr>\n",
    "\n",
    "> Example : Generate a list L with 6 random numbers between 1 and 6\n",
    "```python\n",
    "from random import randint\n",
    "\n",
    "L=[]\n",
    "for i in range(int(input())):\n",
    "    L.append(randint(1,7))\n",
    "\n",
    "for dat in L:\n",
    "    print(dat, end=\" \")\n",
    "``` \n",
    "\n",
    "<hr style=\"border:1px solid gray\"> </hr>\n",
    "\n",
    "> Output:\n",
    "```\n",
    " 20\n",
    "4 6 1 2 2 1 6 1 5 1 4 6 1 4 5 1 5 5 7 2 \n",
    "```"
   ]
  },
  {
   "cell_type": "code",
   "execution_count": 7,
   "metadata": {
    "jupyter": {
     "source_hidden": true
    }
   },
   "outputs": [
    {
     "name": "stdin",
     "output_type": "stream",
     "text": [
      " 5\n"
     ]
    },
    {
     "name": "stdout",
     "output_type": "stream",
     "text": [
      "6 1 7 6 6 "
     ]
    }
   ],
   "source": [
    "from random import randint\n",
    "\n",
    "L=[]\n",
    "for i in range(int(input())):\n",
    "    L.append(randint(1,7))\n",
    "\n",
    "for dat in L:\n",
    "    print(dat, end=\" \")"
   ]
  },
  {
   "cell_type": "code",
   "execution_count": 8,
   "metadata": {
    "jupyter": {
     "source_hidden": true
    }
   },
   "outputs": [
    {
     "name": "stdin",
     "output_type": "stream",
     "text": [
      " 100\n"
     ]
    },
    {
     "name": "stdout",
     "output_type": "stream",
     "text": [
      "[3, 3, 3, 3, 4, 3, 3, 2, 3, 2, 4, 4, 2, 4, 3, 1, 1, 1, 3, 4, 5, 2, 5, 3, 3, 3, 3, 5, 1, 1, 2, 2, 3, 2, 2, 3, 2, 3, 1, 3, 2, 3, 5, 3, 3, 2, 4, 4, 5, 5, 3, 5, 4, 1, 2, 5, 5, 3, 2, 3, 5, 5, 1, 3, 5, 5, 1, 5, 5, 1, 1, 5, 5, 5, 3, 3, 1, 2, 1, 1, 2, 1, 3, 5, 3, 4, 3, 3, 2, 4, 5, 4, 2, 1, 2, 5, 3, 5, 4, 2]\n"
     ]
    }
   ],
   "source": [
    "from random import randrange\n",
    "\n",
    "L = [randrange(1,7) for i in range(int(input()))]\n",
    "print(L)"
   ]
  },
  {
   "cell_type": "markdown",
   "metadata": {},
   "source": [
    "<hr style=\"border:2px solid orange\"> </hr>\n",
    "\n",
    "## [<span style=\"color:yellow\"> Split and join methods</span>](https://snakify.org/en/lessons/lists/#section_2)\n",
    "* `split` and `join` are string methods\n",
    "* `S.split(D)` cut the string `S` into a list with `D` as the separator; the separator is blank(s) by default\n",
    "* `D.join(L)` uses `D` as a delimiter to join the list `L` into a string\n",
    "\n",
    "<hr style=\"border:1px solid gray\"> </hr>\n",
    "\n",
    "> Example : split/join strings using different delimiters\n",
    "```python\n",
    "S1 = \"12 34 56\"\n",
    "L1 = S1.split()\n",
    "S2 = ':'.join(L)\n",
    "L2 = S2.split(':')\n",
    "print(\"S1 =\", S1)\n",
    "print(\"L1 =\", L1)\n",
    "print(\"S2 =\", S2)\n",
    "print(\"L2 =\", L2)\n",
    "```\n",
    "\n",
    "<hr style=\"border:1px solid gray\"> </hr>\n",
    "\n",
    "> Output:\n",
    "```\n",
    "S1 = 12 34 56\n",
    "L1 = ['12', '34', '56']\n",
    "S2 = 12:34:56\n",
    "L2 = ['12', '34', '56']\n",
    "```"
   ]
  },
  {
   "cell_type": "code",
   "execution_count": 27,
   "metadata": {
    "jupyter": {
     "source_hidden": true
    }
   },
   "outputs": [
    {
     "name": "stdout",
     "output_type": "stream",
     "text": [
      "S1 = 12 34 56\n",
      "L1 = ['12', '34', '56']\n",
      "S2 = 12:34:56\n",
      "L2 = ['12', '34', '56']\n"
     ]
    }
   ],
   "source": [
    "S1 = \"12 34 56\"\n",
    "L1 = S1.split()\n",
    "S2 = ':'.join(L)\n",
    "L2 = S2.split(':')\n",
    "print(\"S1 =\", S1)\n",
    "print(\"L1 =\", L1)\n",
    "print(\"S2 =\", S2)\n",
    "print(\"L2 =\", L2)"
   ]
  },
  {
   "cell_type": "code",
   "execution_count": null,
   "metadata": {
    "jupyter": {
     "source_hidden": true
    }
   },
   "outputs": [],
   "source": []
  },
  {
   "cell_type": "markdown",
   "metadata": {},
   "source": [
    "<hr style=\"border:2px solid orange\"> </hr>\n",
    "\n",
    "## [<span style=\"color:yellow\">Generators</span>](https://snakify.org/en/lessons/lists/#section_3)\n",
    "*  The general form of a generator is as : `[expression for variable in sequence]`\n",
    "> * `variable` is the ID of some variable\n",
    "> * `sequence` is a sequence of values, which takes the variable (this can be a list, a string, or an object obtained using the function range)\n",
    "> * `expression` — The list elements will be filled according to this expression.\n",
    "\n",
    "\n",
    "<hr style=\"border:1px solid gray\"> </hr>\n",
    "\n",
    "> Example:\n",
    "```python\n",
    "L1 = [0 for i in range(10)]\n",
    "L2 = [i*i for i in range(10)]\n",
    "L3 = [[i*j for i in range(1,10)] for j in range(1,10)]\n",
    "\n",
    "print(\"L1 =\", L1)\n",
    "print(\"L2 =\", L2)\n",
    "\n",
    "print()\n",
    "for l in L3:\n",
    "    for p in l:\n",
    "        print('{0:3}'.format(p),end=\" \")\n",
    "    print()\n",
    "```\n",
    "\n",
    "<hr style=\"border:1px solid gray\"> </hr>\n",
    "\n",
    "> Output:\n",
    "```\n",
    "L1 = [0, 0, 0, 0, 0, 0, 0, 0, 0, 0]\n",
    "L2 = [0, 1, 4, 9, 16, 25, 36, 49, 64, 81]\n",
    "\n",
    "  1   2   3   4   5   6   7   8   9 \n",
    "  2   4   6   8  10  12  14  16  18 \n",
    "  3   6   9  12  15  18  21  24  27 \n",
    "  4   8  12  16  20  24  28  32  36 \n",
    "  5  10  15  20  25  30  35  40  45 \n",
    "  6  12  18  24  30  36  42  48  54 \n",
    "  7  14  21  28  35  42  49  56  63 \n",
    "  8  16  24  32  40  48  56  64  72 \n",
    "  9  18  27  36  45  54  63  72  81 \n",
    "```"
   ]
  },
  {
   "cell_type": "markdown",
   "metadata": {},
   "source": [
    "<hr style=\"border:2px solid orange\"> </hr>\n",
    "\n",
    "## [<span style=\"color:yellow\">Slices</span>](https://snakify.org/en/lessons/lists/#section_4)\n",
    "\n",
    "* Except that lists are mutable, all slicing operations are similar to strings.\n",
    "\n",
    "<hr style=\"border:1px solid gray\"> </hr>\n",
    "\n",
    "> Example : list slicing\n",
    "```python\n",
    "A = list(range(10))\n",
    "print(\"A         =\", A)\n",
    "print(\"A[3:7]    =\", A[3:7])\n",
    "print(\"A[7:3:-1] =\", A[7:3:-1])\n",
    "print(\"A[::2]    =\", A[::2])\n",
    "print(\"A[::-2]   =\", A[::-2])\n",
    "```\n",
    "\n",
    "<hr style=\"border:1px solid gray\"> </hr>\n",
    "\n",
    "> Output:\n",
    "```\n",
    "A         = [0, 1, 2, 3, 4, 5, 6, 7, 8, 9]\n",
    "A[3:7]    = [3, 4, 5, 6]\n",
    "A[7:3:-1] = [7, 6, 5, 4]\n",
    "A[::2]    = [0, 2, 4, 6, 8]\n",
    "A[::-2]   = [9, 7, 5, 3, 1]\n",
    "```"
   ]
  },
  {
   "cell_type": "markdown",
   "metadata": {},
   "source": [
    "<hr style=\"border:2px solid orange\"> </hr>\n",
    "\n",
    "## [<span style=\"color:yellow\">Operations on lists</span>](https://snakify.org/en/lessons/lists/#section_5)\n",
    "\n",
    "| Operations |                               Function                              |\n",
    "|:----------:|---------------------------------------------------------------------|\n",
    "| x in A     | return True if the list A contains element x                        |\n",
    "| x not in A | return True if element x is not in the list A                       |\n",
    "| min(A)     | return the smallest element of the list A                           |\n",
    "| max(A)     | return the largest element in the list A                            |\n",
    "| A.index(x) | return the index of the first occurrence of element x in the list A |\n",
    "| A.count(x) | return the number of occurrences of element x in the list A         |\n",
    "\n",
    "<hr style=\"border:1px solid gray\"> </hr>\n",
    "\n",
    "> Example : list operations\n",
    "```Python\n",
    "A = [chr(ch) for ch in range(ord('a'),ord('f'))]\n",
    "N = [A.append(ch) for ch in \"abcaba\"]\n",
    "print(\"A             =\", A)\n",
    "print(\"'a' in A      =\", 'a' in A)\n",
    "print(\"'a' not in A  =\", 'a' not in A)\n",
    "print(\"not('a' in A) =\", not('a' in A))\n",
    "print(\"'k' not in A  =\", 'k' not in A)\n",
    "print(\"min(A)        =\", min(A))\n",
    "print(\"max(A)        =\", max(A))\n",
    "print(\"A.count('a')  =\", A.count('a'))\n",
    "print(\"A.count('b')  =\", A.count('b'))\n",
    "print(\"A.count('c')  =\", A.count('c'))\n",
    "print(\"A.index('e')  =\", A.index('e'))\n",
    "```\n",
    "\n",
    "<hr style=\"border:1px solid gray\"> </hr>\n",
    "\n",
    "> Output:\n",
    "```\n",
    "A             = ['a', 'b', 'c', 'd', 'e', 'a', 'b', 'c', 'a', 'b', 'a']\n",
    "'a' in A      = True\n",
    "'a' not in A  = False\n",
    "not('a' in A) = False\n",
    "'k' not in A  = True\n",
    "min(A)        = a\n",
    "max(A)        = e\n",
    "A.count('a')  = 4\n",
    "A.count('b')  = 3\n",
    "A.count('c')  = 2\n",
    "A.index('e')  = 4\n",
    "```"
   ]
  }
 ],
 "metadata": {
  "kernelspec": {
   "display_name": "Python 3",
   "language": "python",
   "name": "python3"
  },
  "language_info": {
   "codemirror_mode": {
    "name": "ipython",
    "version": 3
   },
   "file_extension": ".py",
   "mimetype": "text/x-python",
   "name": "python",
   "nbconvert_exporter": "python",
   "pygments_lexer": "ipython3",
   "version": "3.8.3"
  }
 },
 "nbformat": 4,
 "nbformat_minor": 4
}
