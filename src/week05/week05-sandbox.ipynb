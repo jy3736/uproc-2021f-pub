{
 "cells": [
  {
   "cell_type": "code",
   "execution_count": null,
   "metadata": {},
   "outputs": [],
   "source": [
    "def fact(n):\n",
    "    res = 1\n",
    "    for i in range(1, n + 1):\n",
    "        res *= i\n",
    "    return res\n",
    "\n",
    "f3 = fact(3)\n",
    "f5 = fact(5)\n",
    "print(f3)\n",
    "print(f5)"
   ]
  },
  {
   "cell_type": "code",
   "execution_count": null,
   "metadata": {},
   "outputs": [],
   "source": []
  },
  {
   "cell_type": "code",
   "execution_count": null,
   "metadata": {},
   "outputs": [],
   "source": [
    "def f():\n",
    "    print(a)\n",
    "\n",
    "a = 1\n",
    "f()"
   ]
  },
  {
   "cell_type": "code",
   "execution_count": null,
   "metadata": {},
   "outputs": [],
   "source": [
    "def f():\n",
    "    a = 1\n",
    "\n",
    "f()\n",
    "print(a)"
   ]
  },
  {
   "cell_type": "code",
   "execution_count": null,
   "metadata": {},
   "outputs": [],
   "source": [
    "def f():\n",
    "    a = 2\n",
    "    print(a)\n",
    "\n",
    "a = 1\n",
    "f()\n",
    "print(a)"
   ]
  },
  {
   "cell_type": "code",
   "execution_count": null,
   "metadata": {},
   "outputs": [],
   "source": [
    "def f():\n",
    "    print(a)\n",
    "    if False:\n",
    "        a = 0\n",
    "\n",
    "a = 1\n",
    "f()"
   ]
  },
  {
   "cell_type": "code",
   "execution_count": null,
   "metadata": {},
   "outputs": [],
   "source": [
    "def f():\n",
    "    global a\n",
    "    a = 2\n",
    "    print(a)\n",
    "\n",
    "a = 1\n",
    "f()\n",
    "print(a)"
   ]
  },
  {
   "cell_type": "code",
   "execution_count": null,
   "metadata": {},
   "outputs": [],
   "source": [
    "from random import randrange\n",
    "\n",
    "def max_min(L):\n",
    "    return [max(L), min(L)]\n",
    "\n",
    "LA = [randrange(100) for i in range(10)]\n",
    "a, b = max_min(LA)\n",
    "print(\"LA =\", LA)\n",
    "print('After calling \"a, b = max_min(LA)\"')\n",
    "print(\"a  =\", a)\n",
    "print(\"b  =\", b)\n"
   ]
  },
  {
   "cell_type": "code",
   "execution_count": null,
   "metadata": {},
   "outputs": [],
   "source": [
    "from random import randrange\n",
    "\n",
    "def sum_iter(L):\n",
    "    s = 0\n",
    "    for v in L:\n",
    "        s+=v\n",
    "    return s\n",
    "\n",
    "def sum_recu(L):\n",
    "    if len(L)==1:\n",
    "        return L[0]\n",
    "    else:\n",
    "        return sum_recu(L[1:])+L[0]\n",
    "\n",
    "LR = [randrange(10) for i in range(10)]\n",
    "\n",
    "print(\"LR =\", LR)\n",
    "print(\"sum_iter(LR) =\", sum_iter(LR))\n",
    "print(\"sum_recu(LR) =\", sum_recu(LR))\n"
   ]
  },
  {
   "cell_type": "code",
   "execution_count": null,
   "metadata": {},
   "outputs": [],
   "source": [
    "L=[1,2,3]\n",
    "len(L)"
   ]
  },
  {
   "cell_type": "code",
   "execution_count": null,
   "metadata": {},
   "outputs": [],
   "source": [
    "from random import randrange\n",
    "\n",
    "def sum_iter(L):\n",
    "    s = 0\n",
    "    for v in L:\n",
    "        s+=v\n",
    "    return s\n",
    "\n",
    "def sum_recu(L):\n",
    "    if len(L)==1:\n",
    "        return L[0]\n",
    "    else:\n",
    "        return sum_recu(L[1:])+L[0]\n",
    "\n",
    "LR = [randrange(10) for i in range(10)]\n",
    "\n",
    "print(\"LR =\", LR)\n",
    "print(\"sum_iter(LR) =\", sum_iter(LR))\n",
    "print(\"sum_recu(LR) =\", sum_recu(LR))\n",
    "print(\"sum(LR)      =\", sum(LR))"
   ]
  },
  {
   "cell_type": "code",
   "execution_count": 2,
   "metadata": {},
   "outputs": [
    {
     "name": "stdout",
     "output_type": "stream",
     "text": [
      "[0, 1, 2, 3, 4, 5, 6, 7, 8, 9]\n",
      "[0, 1, 2, 0, 1, 2, 3, 4, 5, 6, 7, 8, 9, 6, 7, 8, 9]\n"
     ]
    }
   ],
   "source": [
    "L=list(range(10))\n",
    "print(L)\n",
    "L[3:6] = range(10)\n",
    "print(L)\n"
   ]
  },
  {
   "cell_type": "code",
   "execution_count": 22,
   "metadata": {},
   "outputs": [
    {
     "name": "stdout",
     "output_type": "stream",
     "text": [
      "[0, 1, 2, 3, 4, 5, 6, 7, 8, 9]\n",
      "[0, 1, 2, 3, 4, 5, 6, 7, 8, 9]\n",
      "[3, 4, 5, 6]\n"
     ]
    }
   ],
   "source": [
    "L=list(range(10))\n",
    "L1=L\n",
    "L2=L[3:7]\n",
    "print(L)\n",
    "print(L1)\n",
    "print(L2)"
   ]
  },
  {
   "cell_type": "code",
   "execution_count": 23,
   "metadata": {},
   "outputs": [
    {
     "name": "stdout",
     "output_type": "stream",
     "text": [
      "[0, 1, 2, 8, 8, 8, 7, 8, 9]\n",
      "[0, 1, 2, 8, 8, 8, 7, 8, 9]\n",
      "[3, 4, 5, 6]\n"
     ]
    }
   ],
   "source": [
    "L[3:7] = [8,8,8]\n",
    "print(L)\n",
    "print(L1)\n",
    "print(L2)"
   ]
  },
  {
   "cell_type": "code",
   "execution_count": 24,
   "metadata": {},
   "outputs": [
    {
     "name": "stdout",
     "output_type": "stream",
     "text": [
      "[7, 7, 7, 8, 8, 7, 8, 9]\n",
      "[7, 7, 7, 8, 8, 7, 8, 9]\n",
      "[3, 4, 5, 6]\n"
     ]
    }
   ],
   "source": [
    "L1[:4] = [7,7,7]\n",
    "print(L)\n",
    "print(L1)\n",
    "print(L2)"
   ]
  },
  {
   "cell_type": "code",
   "execution_count": 21,
   "metadata": {},
   "outputs": [
    {
     "name": "stdout",
     "output_type": "stream",
     "text": [
      "[8, 8, 8]\n",
      "[0, 1, 2, 8, 8, 8, 7, 8, 9]\n",
      "[3, 4, 5, 6]\n"
     ]
    }
   ],
   "source": [
    "L = [8,8,8]\n",
    "print(L)\n",
    "print(L1)\n",
    "print(L2)"
   ]
  },
  {
   "cell_type": "code",
   "execution_count": 16,
   "metadata": {},
   "outputs": [
    {
     "name": "stdout",
     "output_type": "stream",
     "text": [
      "[0, 1, 2, 8, 8, 8, 7, 8, 9]\n",
      "[0, 1, 2, 8, 8, 8, 7, 8, 9]\n",
      "[5, 5, 5]\n"
     ]
    }
   ],
   "source": [
    "L2 = [5,5,5]\n",
    "print(L)\n",
    "print(L1)\n",
    "print(L2)"
   ]
  },
  {
   "cell_type": "code",
   "execution_count": 17,
   "metadata": {},
   "outputs": [
    {
     "name": "stdout",
     "output_type": "stream",
     "text": [
      "[0, 1, 2, 8, 8, 8, 7, 8, 9]\n",
      "[9, 9, 9]\n",
      "[5, 5, 5]\n"
     ]
    }
   ],
   "source": [
    "L1 = [9,9,9]\n",
    "print(L)\n",
    "print(L1)\n",
    "print(L2)"
   ]
  },
  {
   "cell_type": "code",
   "execution_count": 27,
   "metadata": {},
   "outputs": [
    {
     "name": "stdout",
     "output_type": "stream",
     "text": [
      "5\n",
      "8\n",
      "5\n",
      "6\n",
      "1\n",
      "9\n",
      "3\n",
      "6\n",
      "2\n",
      "4\n",
      "1\n",
      "8\n",
      "1\n",
      "8\n",
      "4\n",
      "2\n",
      "1\n",
      "1\n",
      "2\n",
      "6\n",
      "9\n",
      "5\n",
      "2\n",
      "8\n",
      "2\n",
      "4\n",
      "2\n",
      "3\n",
      "6\n",
      "8\n"
     ]
    }
   ],
   "source": [
    "from random import randrange\n",
    "\n",
    "for i in range(30):\n",
    "    print(randrange(1,10))"
   ]
  },
  {
   "cell_type": "code",
   "execution_count": null,
   "metadata": {},
   "outputs": [],
   "source": []
  }
 ],
 "metadata": {
  "kernelspec": {
   "display_name": "Python 3",
   "language": "python",
   "name": "python3"
  },
  "language_info": {
   "codemirror_mode": {
    "name": "ipython",
    "version": 3
   },
   "file_extension": ".py",
   "mimetype": "text/x-python",
   "name": "python",
   "nbconvert_exporter": "python",
   "pygments_lexer": "ipython3",
   "version": "3.8.3"
  }
 },
 "nbformat": 4,
 "nbformat_minor": 4
}
