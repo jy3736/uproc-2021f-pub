{
 "cells": [
  {
   "cell_type": "markdown",
   "metadata": {},
   "source": [
    "<div style=\"text-align: center;\">\n",
    "<img src=\"images/stust.png\" alt=\"STUST\" class=\"center\" style=\"width: 900px;\"/>\n",
    "</div>\n",
    "<hr style=\"border:4px solid gray\"> </hr>"
   ]
  },
  {
   "cell_type": "markdown",
   "metadata": {},
   "source": [
    "<div style=\"text-align: center;\">\n",
    "    \n",
    "# Python Language Fundamental 3\n",
    "## Source : [https://snakify.org/en/](https://snakify.org/en/)\n",
    "\n",
    "</div>"
   ]
  },
  {
   "cell_type": "markdown",
   "metadata": {},
   "source": [
    "<br><hr style=\"border:2px solid orange\"> </hr>\n",
    "<div style=\"text-align: center; font-size: 200%;\">\n",
    "\n",
    "# [<span style=\"color:yellow\">*Lists*</span>](https://snakify.org/en/lessons/lists/)\n",
    "</div>\n",
    "\n",
    "<br><hr style=\"border:2px solid orange\"> </hr>\n",
    "\n",
    "<div style=\"text-align: left; font-size: 150%;\">\n",
    "\n",
    "* Python lists can hold `any combination of objects.`\n",
    "* Lists are `mutable` universal containers.\n",
    "</div>\n",
    "\n",
    "> Example : Declare and access Python lists\n",
    "```Python \n",
    "Primes = [2, 3, 5, 7, 11, 13]\n",
    "Rainbow = ['Red', 'Orange', 'Yellow', 'Green', 'Blue', 'Indigo', 'Violet']\n",
    "Item = [\"Apple\", 13.5, 300, \"Tainan\"]\n",
    "\n",
    "for i in range(len(Rainbow)):\n",
    "    print(Rainbow[i], end=\" \")\n",
    "\n",
    "Rainbow[0] = 'red'\n",
    "print()\n",
    "\n",
    "for c in Rainbow:\n",
    "    print(c,end=\" \")\n",
    "```\n",
    "\n",
    "<hr style=\"border:1px solid gray\"> </hr>\n",
    "\n",
    "> Output:\n",
    "```\n",
    "Red Orange Yellow Green Blue Indigo Violet \n",
    "red Orange Yellow Green Blue Indigo Violet \n",
    "```"
   ]
  },
  {
   "cell_type": "code",
   "execution_count": 6,
   "metadata": {
    "collapsed": true,
    "jupyter": {
     "outputs_hidden": true,
     "source_hidden": true
    }
   },
   "outputs": [
    {
     "name": "stdout",
     "output_type": "stream",
     "text": [
      "Red Orange Yellow Green Blue Indigo Violet \n",
      "red Orange Yellow Green Blue Indigo Violet "
     ]
    }
   ],
   "source": [
    "Primes = [2, 3, 5, 7, 11, 13]\n",
    "Rainbow = ['Red', 'Orange', 'Yellow', 'Green', 'Blue', 'Indigo', 'Violet']\n",
    "Item = [\"Apple\", 13.5, 300, \"Tainan\"]\n",
    "\n",
    "for i in range(len(Rainbow)):\n",
    "    print(Rainbow[i], end=\" \")\n",
    "\n",
    "Rainbow[0] = 'red'\n",
    "print()\n",
    "\n",
    "for c in Rainbow:\n",
    "    print(c,end=\" \")"
   ]
  },
  {
   "cell_type": "markdown",
   "metadata": {},
   "source": [
    "<hr style=\"border:2px solid orange\"> </hr>\n",
    "\n",
    "## [<span style=\"color:yellow\">L.append(Item)</span>](https://snakify.org/en/lessons/lists/)\n",
    "* add Item to the end of list L\n",
    "\n",
    "<hr style=\"border:1px solid gray\"> </hr>\n",
    "\n",
    "> Example : Generate a list L with 6 random numbers between 1 and 6\n",
    "```python\n",
    "from random import randint\n",
    "\n",
    "L=[]\n",
    "for i in range(int(input())):\n",
    "    L.append(randint(1,7))\n",
    "\n",
    "for dat in L:\n",
    "    print(dat, end=\" \")\n",
    "``` \n",
    "\n",
    "<hr style=\"border:1px solid gray\"> </hr>\n",
    "\n",
    "> Output:\n",
    "```\n",
    " 20\n",
    "4 6 1 2 2 1 6 1 5 1 4 6 1 4 5 1 5 5 7 2 \n",
    "```"
   ]
  },
  {
   "cell_type": "code",
   "execution_count": 7,
   "metadata": {
    "jupyter": {
     "source_hidden": true
    }
   },
   "outputs": [
    {
     "name": "stdin",
     "output_type": "stream",
     "text": [
      " 5\n"
     ]
    },
    {
     "name": "stdout",
     "output_type": "stream",
     "text": [
      "6 1 7 6 6 "
     ]
    }
   ],
   "source": [
    "from random import randint\n",
    "\n",
    "L=[]\n",
    "for i in range(int(input())):\n",
    "    L.append(randint(1,7))\n",
    "\n",
    "for dat in L:\n",
    "    print(dat, end=\" \")"
   ]
  },
  {
   "cell_type": "code",
   "execution_count": 8,
   "metadata": {
    "jupyter": {
     "source_hidden": true
    }
   },
   "outputs": [
    {
     "name": "stdin",
     "output_type": "stream",
     "text": [
      " 100\n"
     ]
    },
    {
     "name": "stdout",
     "output_type": "stream",
     "text": [
      "[3, 3, 3, 3, 4, 3, 3, 2, 3, 2, 4, 4, 2, 4, 3, 1, 1, 1, 3, 4, 5, 2, 5, 3, 3, 3, 3, 5, 1, 1, 2, 2, 3, 2, 2, 3, 2, 3, 1, 3, 2, 3, 5, 3, 3, 2, 4, 4, 5, 5, 3, 5, 4, 1, 2, 5, 5, 3, 2, 3, 5, 5, 1, 3, 5, 5, 1, 5, 5, 1, 1, 5, 5, 5, 3, 3, 1, 2, 1, 1, 2, 1, 3, 5, 3, 4, 3, 3, 2, 4, 5, 4, 2, 1, 2, 5, 3, 5, 4, 2]\n"
     ]
    }
   ],
   "source": [
    "from random import randrange\n",
    "\n",
    "L = [randrange(1,7) for i in range(int(input()))]\n",
    "print(L)"
   ]
  },
  {
   "cell_type": "markdown",
   "metadata": {},
   "source": [
    "<hr style=\"border:2px solid orange\"> </hr>\n",
    "\n",
    "## [<span style=\"color:yellow\"> Split and join methods</span>](https://snakify.org/en/lessons/lists/#section_2)\n",
    "* `split` and `join` are string methods\n",
    "* `S.split(D)` cut the string `S` into a list with `D` as the separator; the separator is blank(s) by default\n",
    "* `D.join(L)` uses `D` as a delimiter to join the list `L` into a string\n",
    "\n",
    "<hr style=\"border:1px solid gray\"> </hr>\n",
    "\n",
    "> Example : split/join strings using different delimiters\n",
    "```python\n",
    "S1 = \"12 34 56\"\n",
    "L1 = S1.split()\n",
    "S2 = ':'.join(L)\n",
    "L2 = S2.split(':')\n",
    "print(\"S1 =\", S1)\n",
    "print(\"L1 =\", L1)\n",
    "print(\"S2 =\", S2)\n",
    "print(\"L2 =\", L2)\n",
    "```\n",
    "\n",
    "<hr style=\"border:1px solid gray\"> </hr>\n",
    "\n",
    "> Output:\n",
    "```\n",
    "S1 = 12 34 56\n",
    "L1 = ['12', '34', '56']\n",
    "S2 = 12:34:56\n",
    "L2 = ['12', '34', '56']\n",
    "```"
   ]
  },
  {
   "cell_type": "code",
   "execution_count": 27,
   "metadata": {
    "jupyter": {
     "source_hidden": true
    }
   },
   "outputs": [
    {
     "name": "stdout",
     "output_type": "stream",
     "text": [
      "S1 = 12 34 56\n",
      "L1 = ['12', '34', '56']\n",
      "S2 = 12:34:56\n",
      "L2 = ['12', '34', '56']\n"
     ]
    }
   ],
   "source": [
    "S1 = \"12 34 56\"\n",
    "L1 = S1.split()\n",
    "S2 = ':'.join(L)\n",
    "L2 = S2.split(':')\n",
    "print(\"S1 =\", S1)\n",
    "print(\"L1 =\", L1)\n",
    "print(\"S2 =\", S2)\n",
    "print(\"L2 =\", L2)"
   ]
  },
  {
   "cell_type": "code",
   "execution_count": null,
   "metadata": {
    "jupyter": {
     "source_hidden": true
    }
   },
   "outputs": [],
   "source": []
  },
  {
   "cell_type": "markdown",
   "metadata": {},
   "source": [
    "<hr style=\"border:2px solid orange\"> </hr>\n",
    "\n",
    "## [<span style=\"color:yellow\">Generators</span>](https://snakify.org/en/lessons/lists/#section_3)\n",
    "*  The general form of a generator is as : `[expression for variable in sequence]`\n",
    "> * `variable` is the ID of some variable\n",
    "> * `sequence` is a sequence of values, which takes the variable (this can be a list, a string, or an object obtained using the function range)\n",
    "> * `expression` — The list elements will be filled according to this expression.\n",
    "\n",
    "\n",
    "<hr style=\"border:1px solid gray\"> </hr>\n",
    "\n",
    "> Example:\n",
    "```python\n",
    "L1 = [0 for i in range(10)]\n",
    "L2 = [i*i for i in range(10)]\n",
    "L3 = [[i*j for i in range(1,10)] for j in range(1,10)]\n",
    "\n",
    "print(\"L1 =\", L1)\n",
    "print(\"L2 =\", L2)\n",
    "\n",
    "print()\n",
    "for l in L3:\n",
    "    for p in l:\n",
    "        print('{0:3}'.format(p),end=\" \")\n",
    "    print()\n",
    "```\n",
    "\n",
    "<hr style=\"border:1px solid gray\"> </hr>\n",
    "\n",
    "> Output:\n",
    "```\n",
    "L1 = [0, 0, 0, 0, 0, 0, 0, 0, 0, 0]\n",
    "L2 = [0, 1, 4, 9, 16, 25, 36, 49, 64, 81]\n",
    "\n",
    "  1   2   3   4   5   6   7   8   9 \n",
    "  2   4   6   8  10  12  14  16  18 \n",
    "  3   6   9  12  15  18  21  24  27 \n",
    "  4   8  12  16  20  24  28  32  36 \n",
    "  5  10  15  20  25  30  35  40  45 \n",
    "  6  12  18  24  30  36  42  48  54 \n",
    "  7  14  21  28  35  42  49  56  63 \n",
    "  8  16  24  32  40  48  56  64  72 \n",
    "  9  18  27  36  45  54  63  72  81 \n",
    "```"
   ]
  },
  {
   "cell_type": "markdown",
   "metadata": {},
   "source": [
    "<hr style=\"border:2px solid orange\"> </hr>\n",
    "\n",
    "## [<span style=\"color:yellow\">Slices</span>](https://snakify.org/en/lessons/lists/#section_4)\n",
    "\n",
    "* Except that lists are mutable, all slicing operations are similar to strings.\n",
    "\n",
    "<hr style=\"border:1px solid gray\"> </hr>\n",
    "\n",
    "> Example : list slicing\n",
    "```python\n",
    "A = list(range(10))\n",
    "print(\"A         =\", A)\n",
    "print(\"A[3:7]    =\", A[3:7])\n",
    "print(\"A[7:3:-1] =\", A[7:3:-1])\n",
    "print(\"A[::2]    =\", A[::2])\n",
    "print(\"A[::-2]   =\", A[::-2])\n",
    "```\n",
    "\n",
    "<hr style=\"border:1px solid gray\"> </hr>\n",
    "\n",
    "> Output:\n",
    "```\n",
    "A         = [0, 1, 2, 3, 4, 5, 6, 7, 8, 9]\n",
    "A[3:7]    = [3, 4, 5, 6]\n",
    "A[7:3:-1] = [7, 6, 5, 4]\n",
    "A[::2]    = [0, 2, 4, 6, 8]\n",
    "A[::-2]   = [9, 7, 5, 3, 1]\n",
    "```"
   ]
  },
  {
   "cell_type": "markdown",
   "metadata": {},
   "source": [
    "<hr style=\"border:2px solid orange\"> </hr>\n",
    "\n",
    "# [Lab 03 - Replace within the fragment](https://snakify.org/en/lessons/strings_str/problems/replace_inside_fragment/)\n",
    "\n",
    "<hr style=\"border:1px solid gray\"> </hr>\n",
    "\n",
    "> Model solution\n",
    "```Python\n",
    "s = input()\n",
    "a = s[:s.find('h') + 1] \n",
    "b = s[s.find('h') + 1:s.rfind('h')]\n",
    "c = s[s.rfind('h'):]\n",
    "s = a + b.replace('h', 'H') + c\n",
    "print(s)\n",
    "```\n",
    "\n",
    "<hr style=\"border:1px solid gray\"> </hr>\n",
    "\n",
    "> Young's solution\n",
    "```Python\n",
    "s = input()\n",
    "la = s.find('h')\n",
    "ra = s.rfind('h')\n",
    "sh = s[:la+1]\n",
    "st = s[ra:]\n",
    "sm = s[la+1:ra].replace('h','H')\n",
    "print(sh+sm+st)\n",
    "```"
   ]
  },
  {
   "cell_type": "code",
   "execution_count": null,
   "metadata": {
    "jupyter": {
     "source_hidden": true
    }
   },
   "outputs": [],
   "source": []
  },
  {
   "cell_type": "markdown",
   "metadata": {},
   "source": [
    "<hr style=\"border:2px solid orange\"> </hr>\n",
    "\n",
    "## [<span style=\"color:yellow\">Loop control flow: else</span>](https://snakify.org/en/lessons/while_loop/#section_2)\n",
    "* One can write an else: statement after a loop body which is executed once after the end of the loop\n",
    "\n",
    "<hr style=\"border:1px solid gray\"> </hr>\n",
    "\n",
    "> Example:\n",
    "```Python\n",
    "cnt=1\n",
    "while cnt<5:\n",
    "    print(\"cnt = \",cnt)\n",
    "    cnt+=1\n",
    "else:\n",
    "    print(\">>> cnt = \",cnt)\n",
    "```\n",
    "\n",
    "<hr style=\"border:1px solid gray\"> </hr>\n",
    "\n",
    "> Output:\n",
    "```\n",
    "cnt =  1\n",
    "cnt =  2\n",
    "cnt =  3\n",
    "cnt =  4\n",
    ">>> cnt =  5\n",
    "```"
   ]
  },
  {
   "cell_type": "code",
   "execution_count": null,
   "metadata": {
    "jupyter": {
     "source_hidden": true
    }
   },
   "outputs": [],
   "source": []
  },
  {
   "cell_type": "markdown",
   "metadata": {},
   "source": [
    "<hr style=\"border:2px solid orange\"> </hr>\n",
    "\n",
    "## [<span style=\"color:yellow\">Multiple assignment</span>](https://snakify.org/en/lessons/while_loop/#section_4)\n",
    "* In Python it is possible for a single assignment statement to change the value of several variables.\n",
    "\n",
    "<hr style=\"border:1px solid gray\"> </hr>\n",
    "\n",
    "> Example:\n",
    "```Python\n",
    "a, b, c = 1, 2, 3\n",
    "print(a,b,c)\n",
    "a, b, c = c, b, a\n",
    "print(a,b,c)\n",
    "```\n",
    "\n",
    "<hr style=\"border:1px solid gray\"> </hr>\n",
    "\n",
    "> Output:\n",
    "```\n",
    "1 2 3\n",
    "3 2 1\n",
    "```"
   ]
  },
  {
   "cell_type": "code",
   "execution_count": null,
   "metadata": {
    "jupyter": {
     "source_hidden": true
    }
   },
   "outputs": [],
   "source": []
  },
  {
   "cell_type": "markdown",
   "metadata": {},
   "source": [
    "<hr style=\"border:2px solid orange\"> </hr>\n",
    "\n",
    "# [Lab 04 - The power of two](https://snakify.org/en/lessons/while_loop/problems/powers_of_two/)\n",
    "\n",
    "<hr style=\"border:1px solid gray\"> </hr>\n",
    "\n",
    "> Model solution\n",
    "```Python\n",
    "n = int(input())\n",
    "two_in_power = 2\n",
    "power = 1\n",
    "while two_in_power <= n:\n",
    "    two_in_power *= 2\n",
    "    power += 1\n",
    "print(power - 1, two_in_power // 2)\n",
    "```\n",
    "\n",
    "<hr style=\"border:1px solid gray\"> </hr>\n",
    "\n",
    "> Young's solution\n",
    "```Python\n",
    "N = int(input())\n",
    "x = 0\n",
    "p = 1\n",
    "while p<=N:\n",
    "    x+=1\n",
    "    p*=2\n",
    "print(x-1,p//2)\n",
    "```\n"
   ]
  },
  {
   "cell_type": "code",
   "execution_count": null,
   "metadata": {
    "jupyter": {
     "source_hidden": true
    }
   },
   "outputs": [],
   "source": []
  },
  {
   "cell_type": "markdown",
   "metadata": {},
   "source": [
    "<hr style=\"border:2px solid orange\"> </hr>\n",
    "\n",
    "# [Lab 05 - The number of elements that are greater than the previous one](https://snakify.org/en/lessons/while_loop/problems/seq_increasing_neighbours/)\n",
    "\n",
    "<hr style=\"border:1px solid gray\"> </hr>\n",
    "\n",
    "> Model solution\n",
    "```Python\n",
    "prev = int(input())\n",
    "answer = 0\n",
    "while prev != 0:\n",
    "    next = int(input())\n",
    "    if next != 0 and prev < next:\n",
    "        answer += 1\n",
    "    prev = next\n",
    "print(answer)\n",
    "```\n",
    "\n",
    "<hr style=\"border:1px solid gray\"> </hr>\n",
    "\n",
    "> Young's solution\n",
    "```Python\n",
    "n = int(input())\n",
    "cnt = 0\n",
    "while n!=0:\n",
    "    prev = n\n",
    "    n = int(input())\n",
    "    if n>prev: cnt+=1\n",
    "print(cnt)\n",
    "```"
   ]
  },
  {
   "cell_type": "code",
   "execution_count": null,
   "metadata": {
    "jupyter": {
     "source_hidden": true
    }
   },
   "outputs": [],
   "source": []
  },
  {
   "cell_type": "markdown",
   "metadata": {},
   "source": [
    "<hr style=\"border:2px solid orange\"> </hr>\n",
    "\n",
    "# [Lab 06 - The maximum number of consecutive equal elements](https://snakify.org/en/lessons/while_loop/problems/seq_max_chunk_of_repetitions/)\n",
    "\n",
    "<hr style=\"border:1px solid gray\"> </hr>\n",
    "\n",
    "> Model solution\n",
    "```Python\n",
    "prev = -1\n",
    "curr_rep_len = 0\n",
    "max_rep_len = 0\n",
    "element = int(input())\n",
    "while element != 0:\n",
    "    if prev == element:\n",
    "        curr_rep_len += 1\n",
    "    else:\n",
    "        prev = element\n",
    "        max_rep_len = max(max_rep_len, curr_rep_len)\n",
    "        curr_rep_len = 1\n",
    "    element = int(input())\n",
    "max_rep_len = max(max_rep_len, curr_rep_len)\n",
    "print(max_rep_len)\n",
    "```\n",
    "\n",
    "<hr style=\"border:1px solid gray\"> </hr>\n",
    "\n",
    "> Young's solution\n",
    "```Python\n",
    "n = int(input())\n",
    "cc, wc = 1, 1\n",
    "while n!=0:\n",
    "    next = int(input())\n",
    "    if n==next:\n",
    "        cc+=1\n",
    "    else:\n",
    "        n = next\n",
    "        if cc>wc: wc = cc\n",
    "        cc = 1\n",
    "else:\n",
    "    if cc>wc: wc = cc \n",
    "print(wc)\n",
    "```"
   ]
  },
  {
   "cell_type": "code",
   "execution_count": null,
   "metadata": {
    "jupyter": {
     "source_hidden": true
    }
   },
   "outputs": [],
   "source": []
  },
  {
   "cell_type": "markdown",
   "metadata": {},
   "source": [
    "<hr style=\"border:2px solid orange\"> </hr>\n",
    "\n",
    "# [Lab 07 - TinkerCAD Arduino Simulator](https://www.tinkercad.com/)\n",
    "\n",
    "<hr style=\"border:1px solid gray\"> </hr>\n",
    "\n",
    "<table style=\"width: 100%;\">\n",
    "<tr>\n",
    "<th style=\"width: 50%;\"> Arduino </th>\n",
    "<th style=\"width: 50%;\" > Sketch </th>\n",
    "</tr>\n",
    "<tr>\n",
    "<td>\n",
    "\n",
    "<img src=\"./images/arduino-01.png\" style=\"width: 300px;\"/>\n",
    "\n",
    "</td>\n",
    "<td>\n",
    "\n",
    "```c++\n",
    "int buttonState = 0;\n",
    "\n",
    "void setup()\n",
    "{\n",
    "  pinMode(2, INPUT);\n",
    "  pinMode(13, OUTPUT);\n",
    "}\n",
    "\n",
    "void loop()\n",
    "{\n",
    "  buttonState = digitalRead(2);\n",
    "  if (buttonState == HIGH) {\n",
    "    digitalWrite(13, HIGH);\n",
    "  } else {\n",
    "    digitalWrite(13, LOW);\n",
    "  }\n",
    "  delay(10); \n",
    "}\n",
    "```\n",
    "\n",
    "</td>\n",
    "</tr>\n",
    "</table"
   ]
  },
  {
   "cell_type": "markdown",
   "metadata": {
    "jupyter": {
     "source_hidden": true
    }
   },
   "source": [
    "<hr style=\"border:4px solid gray\"> </hr>\n",
    "<div style=\"text-align: center;\">\n",
    "<img src=\"images/break.png\" alt=\"STUST\" class=\"center\" style=\"width: 700px;\"/>\n",
    "</div>"
   ]
  },
  {
   "cell_type": "code",
   "execution_count": 5,
   "metadata": {
    "jupyter": {
     "source_hidden": true
    }
   },
   "outputs": [
    {
     "name": "stdout",
     "output_type": "stream",
     "text": [
      "S1 : 1\n",
      "S1 : 2\n"
     ]
    }
   ],
   "source": [
    "n = 1\n",
    "while n<3:\n",
    "    print(\"S1 :\",n)\n",
    "    n+=1\n",
    "    if n==3: break\n",
    "else:\n",
    "    print(\"S2 :\",n)\n",
    "    "
   ]
  },
  {
   "cell_type": "code",
   "execution_count": null,
   "metadata": {
    "jupyter": {
     "source_hidden": true
    }
   },
   "outputs": [],
   "source": []
  }
 ],
 "metadata": {
  "kernelspec": {
   "display_name": "Python 3",
   "language": "python",
   "name": "python3"
  },
  "language_info": {
   "codemirror_mode": {
    "name": "ipython",
    "version": 3
   },
   "file_extension": ".py",
   "mimetype": "text/x-python",
   "name": "python",
   "nbconvert_exporter": "python",
   "pygments_lexer": "ipython3",
   "version": "3.8.3"
  }
 },
 "nbformat": 4,
 "nbformat_minor": 4
}
