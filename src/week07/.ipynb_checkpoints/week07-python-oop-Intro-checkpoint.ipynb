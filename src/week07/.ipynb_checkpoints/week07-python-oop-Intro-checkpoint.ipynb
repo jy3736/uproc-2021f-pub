{
 "cells": [
  {
   "cell_type": "markdown",
   "metadata": {},
   "source": [
    "<div style=\"text-align: center;\">\n",
    "<img src=\"images/stust.png\" alt=\"STUST\" class=\"center\" style=\"width: 900px;\"/>\n",
    "</div>\n",
    "\n",
    "<hr style=\"border:4px solid gray\"> </hr>\n",
    "\n",
    "<div style=\"text-align: center;\">    \n",
    "<br>    \n",
    "    \n",
    "# [Python Object Oriented Programming 1](https://www.programiz.com/python-programming/object-oriented-programming)\n",
    "\n",
    "### Class, Object, and Constroctor\n",
    "    \n",
    "##### Source: https://www.programiz.com/python-programming\n",
    "\n",
    "</div>\n",
    "\n",
    "<br>\n",
    "<hr style=\"border:4px solid gray\"> </hr>\n"
   ]
  },
  {
   "cell_type": "markdown",
   "metadata": {},
   "source": [
    "<br>\n",
    "<hr style=\"border:2px solid orange\"> </hr>"
   ]
  },
  {
   "cell_type": "markdown",
   "metadata": {},
   "source": [
    "# [Introduction to Python OOP](https://www.programiz.com/python-programming/object-oriented-programming)\n",
    "\n",
    "* Python is a multi-paradigm programming language: `Functional`, `Object-Oriented`, and `Procedural`.\n",
    "* The concept of OOP in Python focuses on creating `reusable code`. \n",
    "* A `class` is a blueprint for the object.\n",
    "* An `object` (instance) is an instantiation of a class. \n",
    "* In OOP, an object has two characteristics: `attributes` and `behavior`\n",
    "    * Take Complex class as example:\n",
    "        * attributes : real, img\n",
    "        * behavior : add, sub, mul, div, ...\n",
    "* In Python the `__init__()` method is called the constructor and is always called when an object is created."
   ]
  },
  {
   "cell_type": "markdown",
   "metadata": {},
   "source": [
    "<hr style=\"border:2px solid orange\"> </hr>\n",
    "\n",
    "## Class, Object, and Constructor\n",
    "\n",
    "* Syntax of class declaration :\n",
    "\n",
    "```python\n",
    "class className:\n",
    "    # body of the class\n",
    "```\n",
    "\n",
    "* Syntax of constructor declaration :\n",
    "\n",
    "```python\n",
    "class className:\n",
    "    \n",
    "    def __init__(self):\n",
    "        # body of the constructor\n",
    "\n",
    "    def __init__(self, param1, param2):\n",
    "        # body of the constructor        \n",
    "```\n",
    "\n",
    "* Syntax of object instantiation:\n",
    "\n",
    "```python\n",
    "obj1 = className()\n",
    "obj2 = className(1,2)\n",
    "```\n",
    "\n",
    "\n",
    "<hr style=\"border:0.5px solid gray\"> </hr>"
   ]
  },
  {
   "cell_type": "code",
   "execution_count": 7,
   "metadata": {},
   "outputs": [],
   "source": [
    "class Complex:\n",
    "    \n",
    "    # constructor\n",
    "    def __init__(self, real, img):\n",
    "        self.real = real\n",
    "        self.img  = img\n",
    "    \n",
    "    # print all attributes\n",
    "    def attributes(self):\n",
    "        print(self.__class__.__name__, self.__dict__)"
   ]
  },
  {
   "cell_type": "markdown",
   "metadata": {},
   "source": [
    "<hr style=\"border:0.5px solid gray\"> </hr>"
   ]
  },
  {
   "cell_type": "code",
   "execution_count": 8,
   "metadata": {},
   "outputs": [
    {
     "name": "stdout",
     "output_type": "stream",
     "text": [
      "Complex {'real': 1, 'img': 2}\n"
     ]
    }
   ],
   "source": [
    "c1 = Complex(1,2)\n",
    "c1.attributes()\n",
    "\n",
    "# Output:\n",
    "# ----------------------------------------"
   ]
  },
  {
   "cell_type": "markdown",
   "metadata": {},
   "source": [
    "<hr style=\"border:0.5px solid gray\"> </hr>"
   ]
  },
  {
   "cell_type": "code",
   "execution_count": 9,
   "metadata": {},
   "outputs": [
    {
     "ename": "TypeError",
     "evalue": "__init__() missing 2 required positional arguments: 'real' and 'img'",
     "output_type": "error",
     "traceback": [
      "\u001b[1;31m---------------------------------------------------------------------------\u001b[0m",
      "\u001b[1;31mTypeError\u001b[0m                                 Traceback (most recent call last)",
      "\u001b[1;32m<ipython-input-9-2e1f2fd9155d>\u001b[0m in \u001b[0;36m<module>\u001b[1;34m\u001b[0m\n\u001b[1;32m----> 1\u001b[1;33m \u001b[0mc1\u001b[0m \u001b[1;33m=\u001b[0m \u001b[0mComplex\u001b[0m\u001b[1;33m(\u001b[0m\u001b[1;33m)\u001b[0m\u001b[1;33m\u001b[0m\u001b[1;33m\u001b[0m\u001b[0m\n\u001b[0m\u001b[0;32m      2\u001b[0m \u001b[1;33m\u001b[0m\u001b[0m\n\u001b[0;32m      3\u001b[0m \u001b[1;31m# Output:\u001b[0m\u001b[1;33m\u001b[0m\u001b[1;33m\u001b[0m\u001b[1;33m\u001b[0m\u001b[0m\n\u001b[0;32m      4\u001b[0m \u001b[1;31m# ----------------------------------------\u001b[0m\u001b[1;33m\u001b[0m\u001b[1;33m\u001b[0m\u001b[1;33m\u001b[0m\u001b[0m\n",
      "\u001b[1;31mTypeError\u001b[0m: __init__() missing 2 required positional arguments: 'real' and 'img'"
     ]
    }
   ],
   "source": [
    "c1 = Complex()\n",
    "\n",
    "# Output:\n",
    "# ----------------------------------------"
   ]
  },
  {
   "cell_type": "markdown",
   "metadata": {},
   "source": [
    "<hr style=\"border:0.5px solid gray\"> </hr>"
   ]
  },
  {
   "cell_type": "code",
   "execution_count": 10,
   "metadata": {},
   "outputs": [
    {
     "name": "stdout",
     "output_type": "stream",
     "text": [
      "Complex {'real': 0.0, 'img': 0.0}\n"
     ]
    }
   ],
   "source": [
    "class Complex:\n",
    "    \n",
    "    # constructors\n",
    "    def __init__(self, real, img):\n",
    "        self.real = real\n",
    "        self.img  = img\n",
    "        \n",
    "    def __init__(self):\n",
    "        self.real = 0.0\n",
    "        self.img  = 0.0\n",
    "\n",
    "    # print all attributes\n",
    "    def attributes(self):\n",
    "        print(self.__class__.__name__, self.__dict__)\n",
    "        \n",
    "c1 = Complex()\n",
    "c1.attributes()\n",
    "\n",
    "# Output:\n",
    "# ----------------------------------------"
   ]
  },
  {
   "cell_type": "markdown",
   "metadata": {},
   "source": [
    "<hr style=\"border:0.5px solid gray\"> </hr>"
   ]
  },
  {
   "cell_type": "code",
   "execution_count": 11,
   "metadata": {},
   "outputs": [
    {
     "name": "stdout",
     "output_type": "stream",
     "text": [
      "Complex {'real': 0.0, 'img': 0.0}\n",
      "Complex {'real': 1, 'img': 0.0}\n",
      "Complex {'real': 1, 'img': 2}\n",
      "Complex {'real': 0.0, 'img': 3.14}\n"
     ]
    }
   ],
   "source": [
    "class Complex:\n",
    "    \n",
    "    # constructor\n",
    "    def __init__(self, real=0.0, img=0.0):\n",
    "        self.real = real\n",
    "        self.img  = img\n",
    "    \n",
    "    # print all attributes\n",
    "    def attributes(self):\n",
    "        print(self.__class__.__name__, self.__dict__)\n",
    "\n",
    "c1 = Complex()\n",
    "c2 = Complex(1)\n",
    "c3 = Complex(1, 2)\n",
    "c4 = Complex(img=3.14)\n",
    "Dummy = [c.attributes() for c in (c1, c2, c3, c4)]\n",
    "\n",
    "# Output:\n",
    "# ----------------------------------------"
   ]
  },
  {
   "cell_type": "markdown",
   "metadata": {},
   "source": [
    "<hr style=\"border:0.5px solid gray\"> </hr>"
   ]
  },
  {
   "cell_type": "code",
   "execution_count": 12,
   "metadata": {},
   "outputs": [
    {
     "name": "stdout",
     "output_type": "stream",
     "text": [
      "Complex {'real': 0.0, 'img': 0.0}\n",
      "Complex {'real': 1, 'img': 0.0}\n",
      "Complex {'real': 1, 'img': 2}\n",
      "Complex {'real': 0.0, 'img': 3.14}\n",
      "Complex {'real': 1, 'img': 2}\n"
     ]
    }
   ],
   "source": [
    "class Complex:\n",
    "    \n",
    "    # copy constructor\n",
    "    def __init__(self, real=0.0, img=0.0):\n",
    "        if isinstance(real, Complex):\n",
    "            self.real = real.real\n",
    "            self.img = real.img\n",
    "        else:\n",
    "            self.real = real\n",
    "            self.img  = img\n",
    "    \n",
    "    # print all attributes\n",
    "    def attributes(self):\n",
    "        print(self.__class__.__name__, self.__dict__)\n",
    "\n",
    "c1 = Complex()\n",
    "c2 = Complex(1)\n",
    "c3 = Complex(1,2)\n",
    "c4 = Complex(img=3.14)\n",
    "c5 = Complex(c3)\n",
    "Dummy = [c.attributes() for c in (c1, c2, c3, c4, c5)]\n",
    "\n",
    "# Output:\n",
    "# ----------------------------------------"
   ]
  },
  {
   "cell_type": "markdown",
   "metadata": {},
   "source": [
    "<hr style=\"border:2px solid orange\"> </hr>\n",
    "\n",
    "## Methods\n",
    "\n",
    "* Methods are `functions` defined inside the body of a class. They are used to define the behaviors of an object.\n",
    "\n",
    "<hr style=\"border:0.5px solid gray\"> </hr>"
   ]
  },
  {
   "cell_type": "code",
   "execution_count": 13,
   "metadata": {},
   "outputs": [
    {
     "name": "stdout",
     "output_type": "stream",
     "text": [
      "Complex {'real': 4, 'img': 2.0}\n",
      "Complex {'real': 3, 'img': 0.0}\n"
     ]
    }
   ],
   "source": [
    "class Complex:\n",
    "    \n",
    "    # constructor\n",
    "    def __init__(self, real=0.0, img=0.0):\n",
    "        if isinstance(real, Complex):\n",
    "            self.real = real.real\n",
    "            self.img = real.img\n",
    "        else:\n",
    "            self.real = real\n",
    "            self.img  = img\n",
    "    \n",
    "    # print all attributes\n",
    "    def attributes(self):\n",
    "        print(self.__class__.__name__, self.__dict__)\n",
    "        \n",
    "    # self = (self + Complex c)\n",
    "    def _add(self, c):\n",
    "        self.real += c.real\n",
    "        self.img += c.img\n",
    "    \n",
    "c1 = Complex(1,2)\n",
    "c2 = Complex(3)\n",
    "c1._add(c2)\n",
    "c1.attributes()\n",
    "c2.attributes()\n",
    "\n",
    "# Output:\n",
    "# ----------------------------------------"
   ]
  },
  {
   "cell_type": "markdown",
   "metadata": {},
   "source": [
    "<hr style=\"border:0.5px solid gray\"> </hr>"
   ]
  },
  {
   "cell_type": "code",
   "execution_count": 14,
   "metadata": {},
   "outputs": [
    {
     "name": "stdout",
     "output_type": "stream",
     "text": [
      "Complex {'real': 1, 'img': 2}\n",
      "Complex {'real': 3, 'img': 0.0}\n",
      "Complex {'real': 4, 'img': 2.0}\n"
     ]
    }
   ],
   "source": [
    "class Complex:\n",
    "    \n",
    "    # constructor\n",
    "    def __init__(self, real=0.0, img=0.0):\n",
    "        if isinstance(real, Complex):\n",
    "            self.real = real.real\n",
    "            self.img = real.img\n",
    "        else:\n",
    "            self.real = real\n",
    "            self.img  = img\n",
    "    \n",
    "    # print all attributes\n",
    "    def attributes(self):\n",
    "        print(self.__class__.__name__, self.__dict__)\n",
    "        \n",
    "    # self = (self + Complex c)\n",
    "    def _add(self, c):\n",
    "        self.real += c.real\n",
    "        self.img += c.img\n",
    "    \n",
    "    # return (self + Complex c)\n",
    "    def add(self, c):\n",
    "        cr = Complex(self)\n",
    "        cr._add(c)\n",
    "        return cr\n",
    "    \n",
    "c1 = Complex(1,2)\n",
    "c2 = Complex(3)\n",
    "c3 = c1.add(c2)\n",
    "c1.attributes()\n",
    "c2.attributes()\n",
    "c3.attributes()\n",
    "\n",
    "# Output:\n",
    "# ----------------------------------------"
   ]
  },
  {
   "cell_type": "markdown",
   "metadata": {},
   "source": [
    "<hr style=\"border:0.5px solid gray\"> </hr>"
   ]
  },
  {
   "cell_type": "code",
   "execution_count": 15,
   "metadata": {},
   "outputs": [
    {
     "name": "stdout",
     "output_type": "stream",
     "text": [
      "Complex {'real': 1, 'img': 2}\n",
      "Complex {'real': 3, 'img': 0.0}\n",
      "Complex {'real': 4, 'img': 2.0}\n",
      "Complex {'real': 4, 'img': 2.0}\n"
     ]
    }
   ],
   "source": [
    "class Complex:\n",
    "    \n",
    "    # constructor\n",
    "    def __init__(self, real=0.0, img=0.0):\n",
    "        if isinstance(real, Complex):\n",
    "            self.real = real.real\n",
    "            self.img = real.img\n",
    "        else:\n",
    "            self.real = real\n",
    "            self.img  = img\n",
    "    \n",
    "    # print all attributes\n",
    "    def attributes(self):\n",
    "        print(self.__class__.__name__, self.__dict__)\n",
    "        \n",
    "    # self = (self + Complex c)\n",
    "    def _add(self, c):\n",
    "        self.real += c.real\n",
    "        self.img += c.img\n",
    "    \n",
    "    # return (self + Complex c)\n",
    "    def add(self, c):\n",
    "        cr = Complex(self)\n",
    "        cr._add(c)\n",
    "        return cr\n",
    "    \n",
    "    # operator overloading +\n",
    "    def __add__(self, c):\n",
    "        return self.add(c)\n",
    "    \n",
    "c1 = Complex(1,2)\n",
    "c2 = Complex(3)\n",
    "c3 = c1.add(c2)\n",
    "c4 = c1 + c2\n",
    "c1.attributes()\n",
    "c2.attributes()\n",
    "c3.attributes()\n",
    "c4.attributes()\n",
    "\n",
    "# Output:\n",
    "# ----------------------------------------"
   ]
  },
  {
   "cell_type": "markdown",
   "metadata": {},
   "source": [
    "<hr style=\"border:0.5px solid gray\"> </hr>"
   ]
  },
  {
   "cell_type": "code",
   "execution_count": 17,
   "metadata": {},
   "outputs": [
    {
     "name": "stdout",
     "output_type": "stream",
     "text": [
      "c1 = 1 + 2i\n",
      "c2 = 3 + 0.0i\n",
      "c3 = 4 + 2.0i\n",
      "c4 = 4 + 2.0i\n"
     ]
    }
   ],
   "source": [
    "class Complex:\n",
    "    \n",
    "    # constructor\n",
    "    def __init__(self, real=0.0, img=0.0):\n",
    "        if isinstance(real, Complex):\n",
    "            self.real = real.real\n",
    "            self.img = real.img\n",
    "        else:\n",
    "            self.real = real\n",
    "            self.img  = img\n",
    "    \n",
    "    # print all attributes\n",
    "    def attributes(self):\n",
    "        print(self.__class__.__name__, self.__dict__)\n",
    "        \n",
    "    # self = (self + Complex c)\n",
    "    def _add(self, c):\n",
    "        c = Complex(c)\n",
    "        self.real += c.real\n",
    "        self.img += c.img\n",
    "    \n",
    "    # return (self + Complex c)\n",
    "    def add(self, c):\n",
    "        cr = Complex(self)\n",
    "        cr._add(c)\n",
    "        return cr\n",
    "    \n",
    "    # operator overloading +\n",
    "    def __add__(self, c):\n",
    "        return self.add(c)\n",
    "    \n",
    "    # Improve the readability of str() and print() functions\n",
    "    def __str__(self):\n",
    "        return f\"{self.real} + {self.img}i\"\n",
    "    \n",
    "c1 = Complex(1,2)\n",
    "c2 = Complex(3)\n",
    "c3 = c1.add(c2)\n",
    "c4 = c1 + c2\n",
    "print(f\"c1 = {c1}\")\n",
    "print(f\"c2 = {c2}\")\n",
    "print(f\"c3 = {c3}\")\n",
    "print(f\"c4 = {c4}\")\n",
    "\n",
    "# Output:\n",
    "# ----------------------------------------"
   ]
  },
  {
   "cell_type": "markdown",
   "metadata": {},
   "source": [
    "<br><hr style=\"border:3px solid red\"> </hr>\n",
    "<div style=\"text-align: center;\">         \n",
    "    \n",
    "# *Homework Assignment*\n",
    "\n",
    "</div>\n",
    "<hr style=\"border:3px solid red\"> </hr>\n",
    "<br>\n",
    "\n",
    "### Homework 01 - Class Complex with +, -, *, and / operations\n",
    "\n",
    "<hr style=\"border:0.5px solid gray\"> \n",
    "\n",
    "* Modify the Class Complx sample code to suit the following usage:\n",
    "\n",
    "```python\n",
    "c1 = Complex(1,2)\n",
    "c2 = c1 + 4\n",
    "c3 = c1 + 3.14\n",
    "```\n",
    "\n",
    "<hr style=\"border:0.5px solid gray\"> </hr>\n",
    "\n",
    "* Modify \\_\\_str\\_\\_() to print the following usage more correctly:\n",
    "\n",
    "```python\n",
    "c1 = Complex()\n",
    "c2 = Complex(1)\n",
    "c3 = Complex(1,-1)\n",
    "c4 = Complex(img=-3)\n",
    "print(c1)\n",
    "print(c2)\n",
    "print(c3)\n",
    "print(c4)\n",
    "# Output:\n",
    "# ----------------------------------------\n",
    "```\n",
    "\n",
    "    0.0 + 0.0i\n",
    "    1 + 0.0i\n",
    "    1 + -1i\n",
    "    0.0 + -3i\n",
    "\n",
    "<hr style=\"border:0.5px solid gray\"> </hr>\n",
    "\n",
    "* Please refer to \\_add(), add() and \\_\\_add\\_\\_() to implement all necessary methods for -, * and / operations.\n",
    "\n",
    "```python\n",
    "c1 = Complex(1,2)\n",
    "c2 = c1 + 4\n",
    "c3 = c2 * c1\n",
    "c4 = c3 / c2\n",
    "c5 = c4 * c1 / 5\n",
    "```"
   ]
  },
  {
   "cell_type": "markdown",
   "metadata": {},
   "source": [
    "<hr style=\"border:2px solid orange\"> </hr>\n",
    "<br>\n",
    "\n",
    "<div style=\"text-align: left;\">\n",
    "<img src=\"images/break-yang-tr.png\" alt=\"Break\" class=\"center\" style=\"width: 500px;\"/>\n",
    "</div>\n"
   ]
  }
 ],
 "metadata": {
  "kernelspec": {
   "display_name": "Python 3",
   "language": "python",
   "name": "python3"
  },
  "language_info": {
   "codemirror_mode": {
    "name": "ipython",
    "version": 3
   },
   "file_extension": ".py",
   "mimetype": "text/x-python",
   "name": "python",
   "nbconvert_exporter": "python",
   "pygments_lexer": "ipython3",
   "version": "3.8.3"
  }
 },
 "nbformat": 4,
 "nbformat_minor": 4
}
