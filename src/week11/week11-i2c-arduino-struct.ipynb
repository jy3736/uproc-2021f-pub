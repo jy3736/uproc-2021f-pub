{
 "cells": [
  {
   "cell_type": "markdown",
   "metadata": {},
   "source": [
    "<div style=\"text-align: center;\">\n",
    "<img src=\"images/stust.png\" alt=\"STUST\" class=\"center\" style=\"width: 900px;\"/>\n",
    "</div>\n",
    "\n",
    "<hr style=\"border:4px solid gray\"> </hr>\n",
    "\n",
    "<div style=\"text-align: center;\">    \n",
    "<br>    \n",
    "    \n",
    "## I²C Basic Tutorials  \n",
    "# Raspberry Pi I²C Serial Communication\n",
    "\n",
    "</div>\n",
    "\n",
    "<br>\n",
    "<hr style=\"border:4px solid gray\"> </hr>\n"
   ]
  },
  {
   "cell_type": "markdown",
   "metadata": {},
   "source": [
    "# Reference\n",
    "\n",
    "* [The Raspberry Pi GPIO pinout guide.](https://pinout.xyz/)\n",
    "\n",
    "* [Synchronous serial communication in Raspberry Pi using I2C protocol](https://www.engineersgarage.com/raspberrypi/articles-raspberry-pi-i2c-bus-pins-smbus-smbus2-python/)\n",
    "\n",
    "* [struct — Interpret bytes as packed binary data](https://docs.python.org/3/library/struct.html)\n",
    "\n",
    "* [Python String encode(); UTF-8 / ASCII](https://www.programiz.com/python-programming/methods/string/encode)\n",
    "\n",
    "* [Communication between Raspberry Pi and Arduino with I2C](https://www.aranacorp.com/en/communication-between-raspberry-pi-and-arduino-with-i2c/)"
   ]
  },
  {
   "cell_type": "markdown",
   "metadata": {},
   "source": [
    "<hr style=\"border:0.5px solid gray\"> "
   ]
  },
  {
   "cell_type": "markdown",
   "metadata": {},
   "source": [
    "# Raspberry Pi I²C Confiuration and API\n",
    "\n",
    "* [The Raspberry Pi GPIO pinout guide.](https://pinout.xyz/)\n",
    "\n",
    "* The `I²C` bus and the `SMBus™` are popular 2-wire buses that are essentially compatible with each other. \n",
    "* The `System Management Bus (SMBus)` is more or less a derivative of the `Inter Integrated Circuit (I²C)` bus. \n",
    "* Normally devices, both masters and slaves, are `freely interchangeable` between both buses. \n",
    "* The buses operate at the same speed, up to `100kHz`, but the `I²C` bus has both `400kHz and 2MHz` versions. \n",
    "* Complete compatibility between both buses is ensured only `below 100kHz.`\n"
   ]
  },
  {
   "cell_type": "markdown",
   "metadata": {},
   "source": [
    "<hr style=\"border:2px solid orange\"> </hr>\n",
    "\n",
    "# Arduino Sketch: rpi_i2c_lab01.uno\n",
    "\n",
    "```C++\n",
    "#include <Wire.h>\n",
    "# define I2C_ADDR 11\n",
    "char sbuf[50];\n",
    "bool pending = false;\n",
    "byte msg[20];\n",
    "byte cmd;\n",
    "unsigned len;\n",
    "\n",
    "// -----------------------------------------------------\n",
    "void setup() {\n",
    "  Wire.begin(I2C_ADDR);\n",
    "  Serial.begin(9600); \n",
    "  sprintf(sbuf,\"Arduino I2C Slave(%d)\",I2C_ADDR);\n",
    "  Serial.println(sbuf);\n",
    "  Serial.println(\"===================================\");\n",
    "  delay(1000);    \n",
    "  // register Request/Receive event services           \n",
    "  Wire.onRequest(irsRequest);\n",
    "  Wire.onReceive(irsReceive);\n",
    "}\n",
    "\n",
    "// -----------------------------------------------------\n",
    "void loop() {\n",
    "  if (pending) {\n",
    "    Serial.print(\"received : \");\n",
    "    for(int i=0; i<len; i++) {\n",
    "      Serial.print(msg[i]);\n",
    "      Serial.print(\" \");\n",
    "    }\n",
    "    Serial.println();\n",
    "    pending = false;\n",
    "  }\n",
    "  delay(200);\n",
    "}\n",
    "\n",
    "// -----------------------------------------------------\n",
    "void irsRequest() {\n",
    "  unsigned rn;\n",
    "  Serial.print(\"irsRequest send => \");\n",
    "  switch(cmd) {\n",
    "    case 11 : len = 3;\n",
    "              break;\n",
    "    case 123: len = 5;\n",
    "              break;\n",
    "    default: len = 1;\n",
    "  }\n",
    "  for(int i=0; i<len; i++) {\n",
    "    rn = random(1,6);\n",
    "    Serial.print(rn);\n",
    "    Serial.print(\" \");\n",
    "    Wire.write(rn);\n",
    "  }\n",
    "  Serial.println();\n",
    "}\n",
    "\n",
    "// -----------------------------------------------------\n",
    "void irsReceive(int nb) {  \n",
    "  Serial.print(\"irsReceive # of bytes = \"); \n",
    "  Serial.println(nb);\n",
    "  if (nb==1) {\n",
    "    cmd = Wire.read();    \n",
    "  } else {\n",
    "    len = 0;\n",
    "    while (Wire.available())\n",
    "      msg[len++] = Wire.read();  \n",
    "    pending = true;\n",
    "  }\n",
    "}\n",
    "```"
   ]
  },
  {
   "cell_type": "markdown",
   "metadata": {},
   "source": [
    "<hr style=\"border:2px solid orange\"> </hr>\n",
    "\n",
    "## Lab 01 : Raspberry Pi (Master) → `I²C` data in bytes → Arduino (Slave)\n"
   ]
  },
  {
   "cell_type": "code",
   "execution_count": 39,
   "metadata": {},
   "outputs": [],
   "source": [
    "import smbus2 as smbus \n",
    "from time import sleep\n",
    "from random import randrange, random\n",
    "from struct import pack, unpack\n",
    "\n",
    "I2C_ADDR = 11\n",
    "PORT = 1\n",
    "\n",
    "def i2c_write(data):\n",
    "    i2cbus = smbus.SMBus(PORT)\n",
    "    i2cbus.write_byte(I2C_ADDR, ord(data))\n",
    "    sleep(0.5)\n",
    "\n",
    "def main(msg):\n",
    "    _ = [i2c_write(c) for c in msg]\n",
    "    \n",
    "if __name__ == '__main__':\n",
    "    main(\"I2C\")"
   ]
  },
  {
   "cell_type": "markdown",
   "metadata": {},
   "source": [
    "```\n",
    "Arduino I2C Slave(11)\n",
    "===================================\n",
    "irsReceive # of bytes = 1\n",
    "received : 73 \n",
    "irsReceive # of bytes = 1\n",
    "received : 50 \n",
    "irsReceive # of bytes = 1\n",
    "received : 67 \n",
    "```"
   ]
  },
  {
   "cell_type": "markdown",
   "metadata": {},
   "source": [
    "<hr style=\"border:0.5px solid gray\"> "
   ]
  },
  {
   "cell_type": "code",
   "execution_count": 38,
   "metadata": {},
   "outputs": [],
   "source": [
    "import smbus2 as smbus \n",
    "from time import sleep\n",
    "from random import randrange, random\n",
    "from struct import pack, unpack\n",
    "\n",
    "I2C_ADDR = 11\n",
    "PORT = 1\n",
    "\n",
    "def i2c_write_bytes(data):\n",
    "    i2cbus = smbus.SMBus(PORT)\n",
    "    cmd = 123\n",
    "    i2cbus.write_i2c_block_data(I2C_ADDR, cmd, data.encode(\"ascii\"))\n",
    "    sleep(0.5)\n",
    "\n",
    "def main(msg):\n",
    "    i2c_write_bytes(msg)\n",
    "    \n",
    "if __name__ == '__main__':\n",
    "    main(\"I2C\")"
   ]
  },
  {
   "cell_type": "markdown",
   "metadata": {},
   "source": [
    "```\n",
    "Arduino I2C Slave(11)\n",
    "===================================\n",
    "irsReceive # of bytes = 4\n",
    "received : 123 73 50 67 \n",
    "```"
   ]
  },
  {
   "cell_type": "markdown",
   "metadata": {},
   "source": [
    "<hr style=\"border:2px solid orange\"> </hr>\n",
    "\n",
    "## Lab 02 : Raspberry Pi (Master) ← `I²C` data in bytes ← Arduino (Slave)"
   ]
  },
  {
   "cell_type": "code",
   "execution_count": 25,
   "metadata": {},
   "outputs": [
    {
     "name": "stdout",
     "output_type": "stream",
     "text": [
      "receved : [3, 5, 4, 4, 1]\n"
     ]
    }
   ],
   "source": [
    "import smbus2 as smbus \n",
    "from time import sleep\n",
    "from random import randrange, random\n",
    "from struct import pack, unpack\n",
    "\n",
    "I2C_ADDR = 11\n",
    "PORT = 1\n",
    "\n",
    "def i2c_read():\n",
    "    i2cbus = smbus.SMBus(PORT)\n",
    "    data = i2cbus.read_byte(I2C_ADDR)\n",
    "    sleep(0.5)\n",
    "    return data\n",
    "\n",
    "def main():\n",
    "    recv = [i2c_read() for i in range(5)]\n",
    "    print(f\"receved : {recv}\")\n",
    "    \n",
    "if __name__ == '__main__':\n",
    "    main()"
   ]
  },
  {
   "cell_type": "markdown",
   "metadata": {},
   "source": [
    "```\n",
    "RPi Output\n",
    "===================================\n",
    "receved : [3, 5, 4, 4, 1]\n",
    "\n",
    "Arduino I2C Slave(11)\n",
    "===================================\n",
    "irsRequest send => 3\n",
    "irsRequest send => 5\n",
    "irsRequest send => 4\n",
    "irsRequest send => 4\n",
    "irsRequest send => 1\n",
    "```"
   ]
  },
  {
   "cell_type": "markdown",
   "metadata": {},
   "source": [
    "<hr style=\"border:0.5px solid gray\"> "
   ]
  },
  {
   "cell_type": "code",
   "execution_count": 44,
   "metadata": {},
   "outputs": [
    {
     "name": "stdout",
     "output_type": "stream",
     "text": [
      "receved : [3, 5, 4, 4, 1]\n"
     ]
    }
   ],
   "source": [
    "import smbus2 as smbus \n",
    "from time import sleep\n",
    "from random import randrange, random\n",
    "from struct import pack, unpack\n",
    "\n",
    "I2C_ADDR = 11\n",
    "PORT = 1\n",
    "\n",
    "def i2c_read_bytes(nb):\n",
    "    i2cbus = smbus.SMBus(PORT)\n",
    "    cmd = 123\n",
    "    data = i2cbus.read_i2c_block_data(I2C_ADDR, cmd, nb)\n",
    "    sleep(0.5)\n",
    "    return data\n",
    "\n",
    "def main():\n",
    "    recv = i2c_read_bytes(5)\n",
    "    print(f\"receved : {recv}\")\n",
    "    \n",
    "if __name__ == '__main__':\n",
    "    main()"
   ]
  },
  {
   "cell_type": "markdown",
   "metadata": {},
   "source": [
    "```\n",
    "RPi Output\n",
    "===================================\n",
    "receved : [3, 5, 4, 4, 1]\n",
    "\n",
    "Arduino I2C Slave(11)\n",
    "===================================\n",
    "irsReceive # of bytes = 1\n",
    "irsRequest send => 3 5 4 4 1 \n",
    "```"
   ]
  },
  {
   "cell_type": "markdown",
   "metadata": {},
   "source": [
    "# [Python struct](https://docs.python.org/3/library/struct.html)"
   ]
  },
  {
   "cell_type": "code",
   "execution_count": 9,
   "metadata": {},
   "outputs": [
    {
     "name": "stdout",
     "output_type": "stream",
     "text": [
      "send(0, q, 0.33, 168)\n",
      "send(1, h, 0.89, 131)\n",
      "send(2, n, 0.13, 116)\n",
      "send(3, a, 0.54, 114)\n",
      "send(4, b, 0.57, 132)\n"
     ]
    }
   ],
   "source": [
    "# -------------------------------------------------------\n",
    "# RPi <-- I2C struct message --> Arduino (rpi_i2c_lab03)\n",
    "# -------------------------------------------------------\n",
    "import smbus2 as smbus \n",
    "from time import sleep\n",
    "from random import randrange, random\n",
    "from struct import pack, unpack\n",
    "\n",
    "# Slave Addresses\n",
    "I2C_ADDR = 11\n",
    "\n",
    "def i2c_struct_tb01(cmd=123):\n",
    "    with smbus.SMBus(1) as I2Cbus:\n",
    "        ch = ord('a')+randrange(0,25)\n",
    "        rf = random()\n",
    "        ri = randrange(100,200)\n",
    "        pkg = pack('<Bfh', ch, rf, ri)\n",
    "        I2Cbus.write_block_data(I2C_SLAVE_ADDRESS, cmd, pkg);\n",
    "        print(f\"send({cmd}, {chr(ch)}, {rf:3.2}, {ri})\")\n",
    "        sleep(0.5)\n",
    "    return 0\n",
    "\n",
    "if __name__ == '__main__':\n",
    "    _ = [i2c_struct_tb01(c) for c in range(5)]\n",
    "    "
   ]
  },
  {
   "cell_type": "code",
   "execution_count": null,
   "metadata": {},
   "outputs": [],
   "source": []
  },
  {
   "cell_type": "code",
   "execution_count": 19,
   "metadata": {},
   "outputs": [
    {
     "name": "stdout",
     "output_type": "stream",
     "text": [
      "send(1, a, 0.94, 107)\n",
      "received(1, a, 0.94, 107)\n",
      "send(2, n, 0.66, 104)\n",
      "received(2, n, 0.66, 104)\n",
      "send(3, q, 0.26, 131)\n",
      "received(3, q, 0.26, 131)\n",
      "send(4, j, 0.18, 140)\n",
      "received(4, j, 0.18, 140)\n",
      "send(5, b, 0.77, 112)\n",
      "received(5, b, 0.77, 112)\n"
     ]
    }
   ],
   "source": [
    "# -------------------------------------------------------\n",
    "# RPi <-- I2C struct message --> Arduino (rpi_i2c_lab04)\n",
    "# -------------------------------------------------------\n",
    "import smbus2 as smbus \n",
    "from time import sleep\n",
    "from random import randrange, random\n",
    "from struct import pack, unpack\n",
    "\n",
    "# Slave Addresses\n",
    "I2C_ADDR = 11\n",
    "\n",
    "def i2c_struct_send(cmd=123):\n",
    "    with smbus.SMBus(1) as I2Cbus:\n",
    "        ch = ord('a')+randrange(0,25)\n",
    "        rf = random()\n",
    "        ri = randrange(100,200)\n",
    "        pkg = pack('<Bfh', ch, rf, ri)\n",
    "        I2Cbus.write_block_data(I2C_ADDR, cmd, pkg);\n",
    "        print(f\"send({cmd}, {chr(ch)}, {rf:3.2}, {ri})\")\n",
    "        sleep(0.5)\n",
    "    return 0\n",
    "\n",
    "def i2c_struct_recv(cmd=0):\n",
    "    try:\n",
    "        with smbus.SMBus(1) as I2Cbus:\n",
    "            data = I2Cbus.read_i2c_block_data(I2C_ADDR, cmd, 8)\n",
    "            cmd = data[0]\n",
    "            ch, rf, ri = unpack(\"<Bfh\",bytes(data[1:]))\n",
    "            print(f\"received({cmd}, {chr(ch)}, {rf:3.2}, {ri})\")\n",
    "    except:\n",
    "        print(\"remote i/o error\")\n",
    "        sleep(0.5)\n",
    "                \n",
    "if __name__ == '__main__':\n",
    "    for c in range(1,6):\n",
    "        i2c_struct_send(c)\n",
    "        sleep(1)\n",
    "        i2c_struct_recv()\n",
    "    "
   ]
  },
  {
   "cell_type": "markdown",
   "metadata": {},
   "source": [
    "<br><hr style=\"border:3px solid red\"> </hr>\n",
    "<div style=\"text-align: center;\">         \n",
    "    \n",
    "# *Homework Assignment*\n",
    "\n",
    "</div>\n",
    "<hr style=\"border:3px solid red\"> </hr>\n",
    "<br>\n",
    "\n",
    "## Homework 01 - Extending the class myComplex with *, and / operations\n"
   ]
  },
  {
   "cell_type": "markdown",
   "metadata": {},
   "source": [
    "<hr style=\"border:2px solid orange\"> </hr>\n",
    "<br>\n",
    "\n",
    "<div style=\"text-align: left;\">\n",
    "<img src=\"images/break-yang-tr.png\" alt=\"Break\" class=\"center\" style=\"width: 500px;\"/>\n",
    "</div>\n"
   ]
  }
 ],
 "metadata": {
  "kernelspec": {
   "display_name": "Python 3",
   "language": "python",
   "name": "python3"
  },
  "language_info": {
   "codemirror_mode": {
    "name": "ipython",
    "version": 3
   },
   "file_extension": ".py",
   "mimetype": "text/x-python",
   "name": "python",
   "nbconvert_exporter": "python",
   "pygments_lexer": "ipython3",
   "version": "3.7.3"
  }
 },
 "nbformat": 4,
 "nbformat_minor": 4
}
