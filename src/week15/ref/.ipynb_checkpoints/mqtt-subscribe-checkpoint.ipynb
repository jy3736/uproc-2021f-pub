{
 "cells": [
  {
   "cell_type": "code",
   "execution_count": null,
   "metadata": {},
   "outputs": [
    {
     "name": "stdout",
     "output_type": "stream",
     "text": [
      "Connected with result code 0\n"
     ]
    }
   ],
   "source": [
    "import paho.mqtt.client as mqtt\n",
    "\n",
    "def on_connect(client, userdata, flags, rc):\n",
    "    print(\"Connected with result code \"+str(rc))\n",
    "    client.subscribe(\"SCARY\")\n",
    "\n",
    "def on_message(client, userdata, msg):\n",
    "    topic = msg.topic\n",
    "    payload = msg.payload.decode('utf-8')\n",
    "    print(f\"TOPIC({topic}) : MSG({payload})\")\n",
    "\n",
    "client = mqtt.Client()\n",
    "client.on_connect = on_connect\n",
    "client.on_message = on_message\n",
    "client.username_pw_set(\"nicole\",\"0956036035\")\n",
    "client.connect(\"localhost\", 1883, 60)\n",
    "\n",
    "client.loop_forever()"
   ]
  },
  {
   "cell_type": "code",
   "execution_count": 13,
   "metadata": {},
   "outputs": [],
   "source": [
    "# clean/remove the last \"RETAINED\" message\n",
    "\n",
    "import paho.mqtt.client as mqtt\n",
    "import time\n",
    "\n",
    "client = mqtt.Client()\n",
    "client.username_pw_set(\"nicole\",\"0956036035\")\n",
    "client.connect(\"localhost\", 1883, 60)\n",
    "\n",
    "client.publish(\"SCARY\", retain=True)\n",
    "time.sleep(1)"
   ]
  },
  {
   "cell_type": "code",
   "execution_count": null,
   "metadata": {},
   "outputs": [],
   "source": []
  }
 ],
 "metadata": {
  "kernelspec": {
   "display_name": "Python 3",
   "language": "python",
   "name": "python3"
  },
  "language_info": {
   "codemirror_mode": {
    "name": "ipython",
    "version": 3
   },
   "file_extension": ".py",
   "mimetype": "text/x-python",
   "name": "python",
   "nbconvert_exporter": "python",
   "pygments_lexer": "ipython3",
   "version": "3.7.3"
  }
 },
 "nbformat": 4,
 "nbformat_minor": 4
}
