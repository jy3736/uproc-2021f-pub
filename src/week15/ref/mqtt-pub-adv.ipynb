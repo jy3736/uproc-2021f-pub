{
 "cells": [
  {
   "cell_type": "code",
   "execution_count": 6,
   "metadata": {},
   "outputs": [
    {
     "name": "stdout",
     "output_type": "stream",
     "text": [
      "Connected to MQTT Broker!\n",
      "Send `messages: 0` to topic `SCARY`\n",
      "Send `messages: 1` to topic `SCARY`\n",
      "Send `messages: 2` to topic `SCARY`\n",
      "Send `messages: 3` to topic `SCARY`\n",
      "Send `messages: 4` to topic `SCARY`\n",
      "Send `messages: 5` to topic `SCARY`\n",
      "Send `messages: 6` to topic `SCARY`\n",
      "Send `messages: 7` to topic `SCARY`\n",
      "Send `messages: 8` to topic `SCARY`\n",
      "Send `messages: 9` to topic `SCARY`\n",
      "Send `messages: 10` to topic `SCARY`\n",
      "Send `messages: 11` to topic `SCARY`\n",
      "Send `messages: 12` to topic `SCARY`\n",
      "Send `messages: 13` to topic `SCARY`\n",
      "Send `messages: 14` to topic `SCARY`\n",
      "Send `messages: 15` to topic `SCARY`\n",
      "Send `messages: 16` to topic `SCARY`\n",
      "Send `messages: 17` to topic `SCARY`\n",
      "Send `messages: 18` to topic `SCARY`\n",
      "Send `messages: 19` to topic `SCARY`\n"
     ]
    }
   ],
   "source": [
    "# python 3.6\n",
    "\n",
    "import random\n",
    "import time\n",
    "\n",
    "from paho.mqtt import client as mqtt_client\n",
    "\n",
    "\n",
    "broker = 'localhost'\n",
    "port = 1883\n",
    "topic = \"SCARY\"\n",
    "# generate client ID with pub prefix randomly\n",
    "client_id = f'scary-{random.randint(0, 1000)}'\n",
    "\n",
    "\n",
    "def connect_mqtt():\n",
    "    def on_connect(client, userdata, flags, rc):\n",
    "        if rc == 0:\n",
    "            print(\"Connected to MQTT Broker!\")\n",
    "        else:\n",
    "            print(\"Failed to connect, return code %d\\n\", rc)\n",
    "\n",
    "    client = mqtt_client.Client(client_id)\n",
    "    client.username_pw_set(\"nicole\",\"0956036035\")\n",
    "    client.on_connect = on_connect\n",
    "    client.connect(broker, port)\n",
    "    return client\n",
    "\n",
    "\n",
    "def publish(client):\n",
    "    msg_count = 0\n",
    "    while True:\n",
    "        time.sleep(1)\n",
    "        msg = f\"messages: {msg_count}\"\n",
    "        result = client.publish(topic, msg)\n",
    "        # result: [0, 1]\n",
    "        status = result[0]\n",
    "        if status == 0:\n",
    "            print(f\"Send `{msg}` to topic `{topic}`\")\n",
    "        else:\n",
    "            print(f\"Failed to send message to topic {topic}\")\n",
    "        msg_count += 1\n",
    "        if msg_count>=20: break\n",
    "\n",
    "\n",
    "def run():\n",
    "    client = connect_mqtt()\n",
    "    client.loop_start()\n",
    "    publish(client)\n",
    "\n",
    "\n",
    "if __name__ == '__main__':\n",
    "    run()"
   ]
  },
  {
   "cell_type": "code",
   "execution_count": null,
   "metadata": {},
   "outputs": [],
   "source": []
  },
  {
   "cell_type": "code",
   "execution_count": null,
   "metadata": {},
   "outputs": [],
   "source": []
  }
 ],
 "metadata": {
  "kernelspec": {
   "display_name": "Python 3",
   "language": "python",
   "name": "python3"
  },
  "language_info": {
   "codemirror_mode": {
    "name": "ipython",
    "version": 3
   },
   "file_extension": ".py",
   "mimetype": "text/x-python",
   "name": "python",
   "nbconvert_exporter": "python",
   "pygments_lexer": "ipython3",
   "version": "3.8.3"
  }
 },
 "nbformat": 4,
 "nbformat_minor": 4
}
