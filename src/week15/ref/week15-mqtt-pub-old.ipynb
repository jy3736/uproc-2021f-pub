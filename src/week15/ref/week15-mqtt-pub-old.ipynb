{
 "cells": [
  {
   "cell_type": "markdown",
   "metadata": {},
   "source": [
    "<div style=\"text-align: center;\">\n",
    "<img src=\"images/stust.png\" alt=\"STUST\" class=\"center\" style=\"width: 900px;\"/>\n",
    "</div>\n",
    "\n",
    "<hr style=\"border:4px solid gray\"> </hr>\n",
    "\n",
    "<div style=\"text-align: center;\">    \n",
    "<br>    \n",
    "    \n",
    "# Publish \n",
    "# Raspberry Pi MQTT Client\n",
    "\n",
    "</div>\n",
    "\n",
    "<br>\n",
    "<hr style=\"border:4px solid gray\"> </hr>\n"
   ]
  },
  {
   "cell_type": "markdown",
   "metadata": {},
   "source": [
    "<hr style=\"border:2px solid orange\"> </hr>\n",
    "\n",
    "# [Use MQTT with Raspberry Pi](http://emqx.io/blog/use-mqtt-with-raspberry-pi)\n",
    "\n",
    "### Install MQTT client library `paho-mqtt`\n",
    "\n",
    "* Use the source code to install\n",
    ">```bash\n",
    "git clone https://github.com/eclipse/paho.mqtt.python \n",
    "cd paho.mqtt.python \n",
    "python3 setup.py install\n",
    ">```\n",
    "\n",
    "* Use pip3 to install\n",
    ">```\n",
    "pip3 install paho-mqtt\n",
    ">```\n",
    "\n",
    "### Free public MQTT broker provided by EMQ X:\n",
    "\n",
    ">```text\n",
    "Broker         : broker.emqx.io\n",
    "TCP Port       : 1883\n",
    "Websocket Port : 8083\n",
    ">```\n",
    "\n"
   ]
  },
  {
   "cell_type": "markdown",
   "metadata": {},
   "source": [
    "<hr style=\"border:2px solid orange\"> </hr>\n",
    "\n",
    "# MQTT Client\n"
   ]
  },
  {
   "cell_type": "code",
   "execution_count": null,
   "metadata": {},
   "outputs": [],
   "source": [
    "import paho.mqtt.client as mqtt\n",
    "import random\n",
    "import json  \n",
    "import time\n",
    "\n",
    "client = mqtt.Client()\n",
    "client.username_pw_set(\"nicole\",\"0956036035\")\n",
    "client.connect(\"localhost\", 1883, 60)\n",
    "\n",
    "while True:\n",
    "    t0 = random.randint(0,30)\n",
    "    payload = {'Temperature' : t0 , 'Time' : time.ctime()}\n",
    "    print (json.dumps(payload))\n",
    "    client.publish(\"P203\", json.dumps(payload))\n",
    "    time.sleep(5)"
   ]
  },
  {
   "cell_type": "code",
   "execution_count": null,
   "metadata": {},
   "outputs": [
    {
     "name": "stdout",
     "output_type": "stream",
     "text": [
      "send 'R1' to P203-23\n",
      "send 'R0' to P203-23\n",
      "send 'YB/300/500' to P203-23\n",
      "send 'R2G' to P203-23\n",
      "send 'G2R' to P203-23\n",
      "Connected with result code 0\n"
     ]
    }
   ],
   "source": [
    "import paho.mqtt.client as mqtt\n",
    "import time\n",
    "\n",
    "GROUP  = 23\n",
    "TOPIC  = f\"P203-{GROUP}\"\n",
    "BROKER = \"broker.emqx.io\"\n",
    "PORT   = 1883\n",
    "\n",
    "def on_connect(client, userdata, flags, rc):\n",
    "    print(f\"Connected with result code {rc}\")\n",
    "    \n",
    "client = mqtt.Client()\n",
    "client.on_connect = on_connect\n",
    "client.connect(BROKER, PORT, keepalive=60)\n",
    "\n",
    "for cmd in ['R1','R0','YB/300/500','R2G','G2R']:\n",
    "    client.publish(topic=TOPIC, payload=cmd, qos=0, retain=False)\n",
    "    print(f\"send '{cmd}' to '{TOPIC}'\")\n",
    "    time.sleep(1)\n",
    "    \n",
    "client.publish(topic=TOPIC, payload='EXIT')\n",
    "\n",
    "client.loop_forever()"
   ]
  },
  {
   "cell_type": "code",
   "execution_count": 7,
   "metadata": {},
   "outputs": [
    {
     "name": "stdout",
     "output_type": "stream",
     "text": [
      "Sat Dec 19 12:13:29 2020\n"
     ]
    }
   ],
   "source": [
    "import time\n",
    "print(time.ctime())"
   ]
  },
  {
   "cell_type": "markdown",
   "metadata": {},
   "source": [
    "<hr style=\"border:2px solid orange\"> </hr>\n",
    "\n",
    "# MQTT Client with Threading\n"
   ]
  },
  {
   "cell_type": "code",
   "execution_count": null,
   "metadata": {},
   "outputs": [],
   "source": [
    "import paho.mqtt.client as mqtt\n",
    "import threading, os\n",
    "from time import sleep\n",
    "\n",
    "def on_connect(client, userdata, flags, rc):\n",
    "    print(\"Connected with result code \"+str(rc))\n",
    "    client.subscribe(\"P203\")\n",
    "\n",
    "TOPIC = ['P203','P306']\n",
    "    \n",
    "def on_message(client, userdata, msg):\n",
    "    global TOPIC\n",
    "    topic = msg.topic\n",
    "    payload = msg.payload.decode('utf-8')\n",
    "    print(f\"TOPIC({topic}) : MSG({payload})\")\n",
    "    if topic in TOPIC:\n",
    "        if payload=='EXIT':\n",
    "            client.disconnect()\n",
    "\n",
    "client = mqtt.Client()\n",
    "client.on_connect = on_connect\n",
    "client.on_message = on_message\n",
    "client.username_pw_set(\"nicole\",\"0956036035\")\n",
    "client.connect(\"localhost\", 1883, 60)\n",
    "\n",
    "#------------------------------------------------------------------------------\n",
    "# Main Loop\n",
    "#------------------------------------------------------------------------------\n",
    "def main():\n",
    "    global LOOP\n",
    "    client.loop_forever()\n",
    "    LOOP = False\n",
    "    print(\"main: Bye!\")\n",
    "\n",
    "def task01():\n",
    "    global LOOP\n",
    "    while LOOP:\n",
    "        sleep(1)\n",
    "    print(\"task01: Bye!\")\n",
    "    \n",
    "if __name__ == \"__main__\":\n",
    "    LOOP = True\n",
    "    t = threading.Thread(target = task01)\n",
    "    t.start()\n",
    "    main()\n",
    "    t.join()\n",
    "    print(\"All done.\") "
   ]
  },
  {
   "cell_type": "markdown",
   "metadata": {},
   "source": [
    "<hr style=\"border:0.5px solid gray\"> "
   ]
  },
  {
   "cell_type": "markdown",
   "metadata": {},
   "source": [
    "<br><hr style=\"border:3px solid red\"> </hr>\n",
    "<div style=\"text-align: left;\">         \n",
    "    \n",
    "# *Homework Assignment*\n",
    "\n",
    "</div>\n",
    "<hr style=\"border:3px solid red\"> </hr>\n",
    "\n",
    "## Raspberry Pi (Master) `  ← I²C →  ` Arduino (Slave)\n",
    "\n",
    "* `Raspberry Pi (RPi)` : Send test data & check the results received from UNO\n",
    "* `Arduino  UNO (UNO)` : Perform request tasks from RPi and send the results back\n",
    "\n",
    "<hr style=\"border:0.5px solid gray\"> \n",
    "\n",
    "### Homework 1 : I²C message `(fun, [bytes of data])`\n",
    "* `fun==1`  => sum : The sum of received bytes  \n",
    "* `fun==2`  => min : The smallest number of received bytes \n",
    "* `fun==3`  => max : The largest number of received bytes\n",
    "* The following are `extra points` questions\n",
    "    * `fun==10` => asc : Sorting the received data in ascending order \n",
    "    * `fun==11` => des : Sorting the received data in descending order\n",
    "* others   => just print out the received data\n",
    "  "
   ]
  },
  {
   "cell_type": "markdown",
   "metadata": {},
   "source": [
    "<hr style=\"border:2px solid orange\"> </hr>\n",
    "<br>\n",
    "\n",
    "<div style=\"text-align: left;\">\n",
    "<img src=\"images/break-yang-tr.png\" alt=\"Break\" class=\"center\" style=\"width: 500px;\"/>\n",
    "</div>\n"
   ]
  }
 ],
 "metadata": {
  "kernelspec": {
   "display_name": "Python 3",
   "language": "python",
   "name": "python3"
  },
  "language_info": {
   "codemirror_mode": {
    "name": "ipython",
    "version": 3
   },
   "file_extension": ".py",
   "mimetype": "text/x-python",
   "name": "python",
   "nbconvert_exporter": "python",
   "pygments_lexer": "ipython3",
   "version": "3.7.3"
  }
 },
 "nbformat": 4,
 "nbformat_minor": 4
}
