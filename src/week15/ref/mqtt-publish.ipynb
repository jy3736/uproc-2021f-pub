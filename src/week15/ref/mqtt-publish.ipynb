{
 "cells": [
  {
   "cell_type": "code",
   "execution_count": null,
   "metadata": {},
   "outputs": [],
   "source": [
    "import paho.mqtt.client as mqtt\n",
    "import random\n",
    "import json  \n",
    "import datetime \n",
    "import time\n",
    "\n",
    "ISOTIMEFORMAT = '%m/%d %H:%M:%S'\n",
    "\n",
    "client = mqtt.Client()\n",
    "\n",
    "# 設定登入帳號密碼\n",
    "client.username_pw_set(\"nicole\",\"0956036035\")\n",
    "\n",
    "# 設定連線資訊(IP, Port, 連線時間)\n",
    "client.connect(\"localhost\", 1883, 60)\n",
    "\n",
    "while True:\n",
    "    t0 = random.randint(0,30)\n",
    "    t = datetime.datetime.now().strftime(ISOTIMEFORMAT)\n",
    "    payload = {'Temperature' : t0 , 'Time' : t}\n",
    "    print (json.dumps(payload))\n",
    "    client.publish(\"SCARY\", json.dumps(payload))\n",
    "    time.sleep(5)"
   ]
  },
  {
   "cell_type": "code",
   "execution_count": null,
   "metadata": {},
   "outputs": [],
   "source": []
  }
 ],
 "metadata": {
  "kernelspec": {
   "display_name": "Python 3",
   "language": "python",
   "name": "python3"
  },
  "language_info": {
   "codemirror_mode": {
    "name": "ipython",
    "version": 3
   },
   "file_extension": ".py",
   "mimetype": "text/x-python",
   "name": "python",
   "nbconvert_exporter": "python",
   "pygments_lexer": "ipython3",
   "version": "3.7.3"
  }
 },
 "nbformat": 4,
 "nbformat_minor": 4
}
