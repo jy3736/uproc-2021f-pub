{
 "cells": [
  {
   "cell_type": "code",
   "execution_count": 6,
   "metadata": {},
   "outputs": [
    {
     "name": "stdout",
     "output_type": "stream",
     "text": [
      "Connected to MQTT Broker!\n",
      "Received `messages: 5` from `SCARY` topic\n",
      "Received `messages: 6` from `SCARY` topic\n",
      "Received `messages: 7` from `SCARY` topic\n",
      "Received `messages: 8` from `SCARY` topic\n",
      "Received `messages: 9` from `SCARY` topic\n",
      "Received `messages: 10` from `SCARY` topic\n",
      "Received `messages: 11` from `SCARY` topic\n",
      "Received `messages: 12` from `SCARY` topic\n",
      "Received `messages: 13` from `SCARY` topic\n",
      "Received `messages: 14` from `SCARY` topic\n",
      "Received `messages: 15` from `SCARY` topic\n",
      "Received `messages: 16` from `SCARY` topic\n",
      "Received `messages: 17` from `SCARY` topic\n",
      "Received `OFF` from `SCARY` topic\n"
     ]
    }
   ],
   "source": [
    "# python3.6\n",
    "\n",
    "import random\n",
    "\n",
    "from paho.mqtt import client as mqtt_client\n",
    "\n",
    "\n",
    "broker = 'localhost'\n",
    "port = 1883\n",
    "topic = \"SCARY\"\n",
    "\n",
    "# generate client ID with pub prefix randomly\n",
    "client_id = f'scary-{random.randint(0, 100)}'\n",
    "\n",
    "\n",
    "def connect_mqtt() -> mqtt_client:\n",
    "    def on_connect(client, userdata, flags, rc):\n",
    "        if rc == 0:\n",
    "            print(\"Connected to MQTT Broker!\")\n",
    "        else:\n",
    "            print(\"Failed to connect, return code %d\\n\", rc)\n",
    "\n",
    "    client = mqtt_client.Client(client_id)\n",
    "    client.username_pw_set(\"nicole\",\"0956036035\")\n",
    "    client.on_connect = on_connect\n",
    "    client.connect(broker, port)\n",
    "    return client\n",
    "\n",
    "\n",
    "def subscribe(client: mqtt_client):\n",
    "    def on_message(client, userdata, msg):\n",
    "        print(f\"Received `{msg.payload.decode()}` from `{msg.topic}` topic\")\n",
    "        if msg.payload.decode()=='OFF':\n",
    "            client.disconnect()\n",
    "\n",
    "    client.subscribe(topic)\n",
    "    client.on_message = on_message\n",
    "\n",
    "\n",
    "def run():\n",
    "    client = connect_mqtt()\n",
    "    subscribe(client)\n",
    "    client.loop_forever()\n",
    "\n",
    "\n",
    "if __name__ == '__main__':\n",
    "    run()"
   ]
  },
  {
   "cell_type": "code",
   "execution_count": null,
   "metadata": {},
   "outputs": [],
   "source": []
  },
  {
   "cell_type": "code",
   "execution_count": null,
   "metadata": {},
   "outputs": [],
   "source": []
  }
 ],
 "metadata": {
  "kernelspec": {
   "display_name": "Python 3",
   "language": "python",
   "name": "python3"
  },
  "language_info": {
   "codemirror_mode": {
    "name": "ipython",
    "version": 3
   },
   "file_extension": ".py",
   "mimetype": "text/x-python",
   "name": "python",
   "nbconvert_exporter": "python",
   "pygments_lexer": "ipython3",
   "version": "3.7.3"
  }
 },
 "nbformat": 4,
 "nbformat_minor": 4
}
