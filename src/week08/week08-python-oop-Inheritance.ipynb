{
 "cells": [
  {
   "cell_type": "markdown",
   "metadata": {},
   "source": [
    "<div style=\"text-align: center;\">\n",
    "<img src=\"images/stust.png\" alt=\"STUST\" class=\"center\" style=\"width: 900px;\"/>\n",
    "</div>\n",
    "\n",
    "<hr style=\"border:4px solid gray\"> </hr>\n",
    "\n",
    "<div style=\"text-align: center;\">    \n",
    "<br>    \n",
    "    \n",
    "# [Python Object Oriented Programming](https://www.programiz.com/python-programming/object-oriented-programming)\n",
    "\n",
    "# Code Reuse via Inheritance\n",
    "\n",
    "</div>\n",
    "\n",
    "<br>\n",
    "<hr style=\"border:4px solid gray\"> </hr>\n"
   ]
  },
  {
   "cell_type": "markdown",
   "metadata": {},
   "source": [
    "<hr style=\"border:2px solid orange\"> </hr>\n",
    "\n",
    "## [Inheritance](https://codefellows.github.io/sea-python-401d4/lectures/inheritance_v_composition.html)\n",
    "\n",
    "* `Everything in Python is an object`. Modules are objects, class definitions and functions are objects, and of course, objects created from classes are objects too.\n",
    "* In object-oriented programming (OOP), `inheritance` is a way to reuse code of existing objects. \n",
    "* `Objects` are defined by `classes`, classes can inherit `attributes and behavior` from pre-existing classes. The resulting classes are known as `derived classes` or `subclasses`.\n",
    "* A `subclass` “inherits” all the attributes (methods, etc) of the `parent class`. \n",
    "    * We can `create new` attributes or methods to add to the behavior of the parent.\n",
    "    * We can `change (“override”)` some or all of the attributes or methods to change the behavior. \n",
    "    * We can also `extend` the behavior of the parent by `using the original methods` and adding a bit more.\n",
    "\n",
    "###### Source: https://codefellows.github.io/sea-python-401d4/lectures/inheritance_v_composition.html\n",
    "\n",
    "<hr style=\"border:2px solid orange\"> </hr>\n",
    "\n",
    "## Complex class from previos lecture:"
   ]
  },
  {
   "cell_type": "code",
   "execution_count": 1,
   "metadata": {},
   "outputs": [],
   "source": [
    "class Complex:\n",
    "    \n",
    "    # constructor\n",
    "    def __init__(self, real=0.0, img=0.0):\n",
    "        if isinstance(real, Complex):\n",
    "            self.real = real.real\n",
    "            self.img = real.img\n",
    "        else:\n",
    "            self.real = real\n",
    "            self.img  = img\n",
    "    \n",
    "    # print all attributes\n",
    "    def attributes(self):\n",
    "        print(self.__class__.__name__, self.__dict__)\n",
    "        \n",
    "    # self = (self + Complex c)\n",
    "    def _add(self, c):\n",
    "        c = Complex(c)\n",
    "        self.real += c.real\n",
    "        self.img += c.img\n",
    "    \n",
    "    # return (self + Complex c)\n",
    "    def add(self, c):\n",
    "        cr = Complex(self)\n",
    "        cr._add(c)\n",
    "        return cr\n",
    "    \n",
    "    # operator overloading +\n",
    "    def __add__(self, c):\n",
    "        return self.add(c)\n",
    "    \n",
    "    # Improve the readability of str() and print() functions\n",
    "    def __str__(self):\n",
    "        return f\"{self.real} + {self.img}i\""
   ]
  },
  {
   "cell_type": "markdown",
   "metadata": {},
   "source": [
    "<hr style=\"border:2px solid orange\"> </hr>\n",
    "\n",
    "## Overloading attributes/methods"
   ]
  },
  {
   "cell_type": "code",
   "execution_count": 2,
   "metadata": {},
   "outputs": [],
   "source": [
    "class myComplex(Complex):\n",
    "    \n",
    "    # The constructor uses the constructor of the parent class\n",
    "    def __init__(self, r=0.0, i=0.0):\n",
    "        super().__init__(r,i)\n",
    "    \n",
    "    # overload operator - (negative)\n",
    "    def __neg__(self):\n",
    "        return myComplex(-self.real, -self.img)"
   ]
  },
  {
   "cell_type": "markdown",
   "metadata": {},
   "source": [
    "<hr style=\"border:0.5px solid gray\"> "
   ]
  },
  {
   "cell_type": "code",
   "execution_count": 3,
   "metadata": {},
   "outputs": [
    {
     "name": "stdout",
     "output_type": "stream",
     "text": [
      "-(-2 + 2i) = 2 + -2i\n",
      "-(4 + -2i) = -4 + 2i\n"
     ]
    }
   ],
   "source": [
    "c1 = myComplex(-2,2)\n",
    "c2 = myComplex(4,-2)\n",
    "print(f\"-({c1}) = {-c1}\")\n",
    "print(f\"-({c2}) = {-c2}\")\n",
    "\n",
    "# Output:\n",
    "# --------------------------------------"
   ]
  },
  {
   "cell_type": "markdown",
   "metadata": {},
   "source": [
    "<hr style=\"border:2px solid orange\"> </hr>\n",
    "\n",
    "## Create new methods by reusing the methods of the parent class"
   ]
  },
  {
   "cell_type": "code",
   "execution_count": 4,
   "metadata": {},
   "outputs": [],
   "source": [
    "class myComplex(Complex):\n",
    "    \n",
    "    # The constructor uses the constructor of the parent class\n",
    "    def __init__(self, r=0.0, i=0.0):\n",
    "        super().__init__(r,i)\n",
    "    \n",
    "    # overload operator - (negative)\n",
    "    def __neg__(self):\n",
    "        return myComplex(-self.real, -self.img)\n",
    "    \n",
    "    # implement sub as (self + (-c))\n",
    "    def sub(self,c):\n",
    "        return super().add(-c)\n",
    "    \n",
    "    # overload operator - (substraction)\n",
    "    def __sub__(self,c):\n",
    "        return self.sub(c)"
   ]
  },
  {
   "cell_type": "markdown",
   "metadata": {},
   "source": [
    "<hr style=\"border:0.5px solid gray\"> "
   ]
  },
  {
   "cell_type": "code",
   "execution_count": 7,
   "metadata": {},
   "outputs": [
    {
     "name": "stdout",
     "output_type": "stream",
     "text": [
      "2 + -2i\n",
      "-6 + 4i\n",
      "-6 + 4i\n"
     ]
    }
   ],
   "source": [
    "c1 = myComplex(-2,2)\n",
    "c2 = myComplex(4,-2)\n",
    "print(-c1)\n",
    "print(c1.sub(c2))\n",
    "print(c1-c2)\n",
    "\n",
    "# Output:\n",
    "# --------------------------------------"
   ]
  },
  {
   "cell_type": "markdown",
   "metadata": {},
   "source": [
    "<hr style=\"border:2px solid orange\"> </hr>\n",
    "\n",
    "## Override the method of the parent class"
   ]
  },
  {
   "cell_type": "code",
   "execution_count": 8,
   "metadata": {},
   "outputs": [],
   "source": [
    "class myComplex(Complex):\n",
    "    \n",
    "    # The constructor uses the constructor of the parent class\n",
    "    def __init__(self, r=0.0, i=0.0):\n",
    "        super().__init__(r,i)\n",
    "\n",
    "    # overload operator - (negative)\n",
    "    def __neg__(self):\n",
    "        return myComplex(-self.real, -self.img)\n",
    "    \n",
    "    # implement sub as (self + (-c))\n",
    "    def sub(self,c):\n",
    "        return super().add(-c)\n",
    "    \n",
    "    # overload operator - (substraction)\n",
    "    def __sub__(self,c):\n",
    "        return self.sub(c)\n",
    "    \n",
    "    # 'override' __str__() by reusing the __str__() of the parent class\n",
    "    def __str__(self):\n",
    "        if self.real!=0:\n",
    "            if self.img>0:\n",
    "                return super().__str__()   # parent-class's __str__\n",
    "            elif self.img<0: \n",
    "                return f\"{self.real} - {-self.img}i\"\n",
    "            else:\n",
    "                return f\"{self.real}\"\n",
    "        else:\n",
    "            if self.img==0:\n",
    "                return \"0\"\n",
    "            else:\n",
    "                return f\"{self.img}i\"     "
   ]
  },
  {
   "cell_type": "markdown",
   "metadata": {},
   "source": [
    "<hr style=\"border:0.5px solid gray\"> "
   ]
  },
  {
   "cell_type": "code",
   "execution_count": 9,
   "metadata": {},
   "outputs": [
    {
     "name": "stdout",
     "output_type": "stream",
     "text": [
      "1 + 3i\n",
      "1 - 2i\n",
      "-2i\n",
      "0\n",
      "-1\n",
      "-1 - 1i\n"
     ]
    }
   ],
   "source": [
    "print(myComplex(1,3))\n",
    "print(myComplex(1,-2))\n",
    "print(myComplex(0,-2))\n",
    "print(myComplex(0,0))\n",
    "print(myComplex(-1,0))\n",
    "print(myComplex(-1,-1))\n",
    "\n",
    "# Output:\n",
    "# --------------------------------------"
   ]
  },
  {
   "cell_type": "markdown",
   "metadata": {},
   "source": [
    "<hr style=\"border:2px solid orange\"> </hr>\n",
    "\n",
    "## Why does the overrided \\_\\_str\\_\\_() not work?"
   ]
  },
  {
   "cell_type": "code",
   "execution_count": 10,
   "metadata": {},
   "outputs": [
    {
     "name": "stdout",
     "output_type": "stream",
     "text": [
      "c1 = 0\n",
      "c2 = -1 - 1i\n",
      "c3 = 0 + 0i\n",
      "c4 = -1 + -1i\n",
      "\n",
      "type(c1) = <class '__main__.myComplex'>\n",
      "type(c2) = <class '__main__.myComplex'>\n",
      "type(c3) = <class '__main__.Complex'>\n",
      "type(c4) = <class '__main__.Complex'>\n"
     ]
    }
   ],
   "source": [
    "c1 = myComplex(0,0)\n",
    "c2 = myComplex(-1,-1)\n",
    "c3 = myComplex(-1,-1) - myComplex(-1,-1)\n",
    "c4 = myComplex(-1,-1).add(c1)\n",
    "print(f\"c1 = {c1}\")\n",
    "print(f\"c2 = {c2}\")\n",
    "print(f\"c3 = {c3}\")\n",
    "print(f\"c4 = {c4}\\n\")\n",
    "print(f\"type(c1) = {type(c1)}\")\n",
    "print(f\"type(c2) = {type(c2)}\")\n",
    "print(f\"type(c3) = {type(c3)}\")\n",
    "print(f\"type(c4) = {type(c4)}\")\n",
    "\n",
    "# Output:\n",
    "# --------------------------------------"
   ]
  },
  {
   "cell_type": "markdown",
   "metadata": {},
   "source": [
    "<hr style=\"border:2px solid orange\"> </hr>\n",
    "\n",
    "## A quick way to solve the problem"
   ]
  },
  {
   "cell_type": "code",
   "execution_count": 11,
   "metadata": {},
   "outputs": [
    {
     "name": "stdout",
     "output_type": "stream",
     "text": [
      "c1 = 0\n",
      "c2 = -1 - 1i\n",
      "c3 = 0\n",
      "c4 = -1 - 1i\n",
      "\n",
      "type(c1) = <class '__main__.myComplex'>\n",
      "type(c2) = <class '__main__.myComplex'>\n",
      "type(c3) = <class '__main__.myComplex'>\n",
      "type(c4) = <class '__main__.myComplex'>\n"
     ]
    }
   ],
   "source": [
    "c1 = myComplex(0,0)\n",
    "c2 = myComplex(-1,-1)\n",
    "c3 = (myComplex)(myComplex(-1,-1) - myComplex(-1,-1))\n",
    "c4 = (myComplex)(myComplex(-1,-1).add(c1))\n",
    "print(f\"c1 = {c1}\")\n",
    "print(f\"c2 = {c2}\")\n",
    "print(f\"c3 = {c3}\")\n",
    "print(f\"c4 = {c4}\\n\")\n",
    "print(f\"type(c1) = {type(c1)}\")\n",
    "print(f\"type(c2) = {type(c2)}\")\n",
    "print(f\"type(c3) = {type(c3)}\")\n",
    "print(f\"type(c4) = {type(c4)}\")\n",
    "\n",
    "# Output:\n",
    "# --------------------------------------"
   ]
  },
  {
   "cell_type": "markdown",
   "metadata": {},
   "source": [
    "<hr style=\"border:2px solid orange\"> </hr>\n",
    "\n",
    "## A Solution to better solve all problems at once"
   ]
  },
  {
   "cell_type": "code",
   "execution_count": 12,
   "metadata": {},
   "outputs": [],
   "source": [
    "class myComplex(Complex):\n",
    "    \n",
    "    # The constructor uses the constructor of the parent class\n",
    "    def __init__(self, r=0.0, i=0.0):\n",
    "        super().__init__(r,i)\n",
    "\n",
    "    # overload operator - (negative)\n",
    "    def __neg__(self):\n",
    "        return myComplex(-self.real, -self.img)\n",
    "    \n",
    "    # implement sub as (self + (-c))\n",
    "    def sub(self,c):\n",
    "        return self.add(-c)     # <==== Notice!\n",
    "    \n",
    "    # overload operator - (substraction)\n",
    "    def __sub__(self,c):\n",
    "        return self.sub(c)\n",
    "    \n",
    "    # 'override' __str__() by reusing the __str__() of the parent class\n",
    "    def __str__(self):\n",
    "        if self.real!=0:\n",
    "            if self.img>0:\n",
    "                return super().__str__()   # parent-class's __str__\n",
    "            elif self.img<0: \n",
    "                return f\"{self.real} - {-self.img}i\"\n",
    "            else:\n",
    "                return f\"{self.real}\"\n",
    "        else:\n",
    "            if self.img==0:\n",
    "                return \"0\"\n",
    "            else:\n",
    "                return f\"{self.img}i\"     \n",
    "            \n",
    "    # casting operator + result to be myComplex type\n",
    "    def add(self,c):\n",
    "        return (myComplex) (super().add(c))   "
   ]
  },
  {
   "cell_type": "markdown",
   "metadata": {},
   "source": [
    "<hr style=\"border:0.5px solid gray\"> "
   ]
  },
  {
   "cell_type": "code",
   "execution_count": 13,
   "metadata": {},
   "outputs": [
    {
     "name": "stdout",
     "output_type": "stream",
     "text": [
      "c1 = 0\n",
      "c2 = -1 - 1i\n",
      "c3 = 0\n",
      "c4 = -1 - 1i\n",
      "\n",
      "type(c1) = <class '__main__.myComplex'>\n",
      "type(c2) = <class '__main__.myComplex'>\n",
      "type(c3) = <class '__main__.myComplex'>\n",
      "type(c4) = <class '__main__.myComplex'>\n"
     ]
    }
   ],
   "source": [
    "c1 = myComplex(0,0)\n",
    "c2 = myComplex(-1,-1)\n",
    "c3 = myComplex(-1,-1) - myComplex(-1,-1)\n",
    "c4 = myComplex(-1,-1).add(c1)\n",
    "print(f\"c1 = {c1}\")\n",
    "print(f\"c2 = {c2}\")\n",
    "print(f\"c3 = {c3}\")\n",
    "print(f\"c4 = {c4}\\n\")\n",
    "print(f\"type(c1) = {type(c1)}\")\n",
    "print(f\"type(c2) = {type(c2)}\")\n",
    "print(f\"type(c3) = {type(c3)}\")\n",
    "print(f\"type(c4) = {type(c4)}\")\n",
    "\n",
    "# Output:\n",
    "# --------------------------------------"
   ]
  },
  {
   "cell_type": "markdown",
   "metadata": {},
   "source": [
    "<hr style=\"border:2px solid orange\"> </hr>\n",
    "\n",
    "# This is not all, but we must stop here..."
   ]
  },
  {
   "cell_type": "markdown",
   "metadata": {},
   "source": [
    "<br><hr style=\"border:3px solid red\"> </hr>\n",
    "<div style=\"text-align: center;\">         \n",
    "    \n",
    "# *Homework Assignment*\n",
    "\n",
    "</div>\n",
    "<hr style=\"border:3px solid red\"> </hr>\n",
    "<br>\n",
    "\n",
    "## Homework 01 - Extending the class myComplex with *, and / operations\n"
   ]
  },
  {
   "cell_type": "markdown",
   "metadata": {},
   "source": [
    "<hr style=\"border:2px solid orange\"> </hr>\n",
    "<br>\n",
    "\n",
    "<div style=\"text-align: left;\">\n",
    "<img src=\"images/break-yang-tr.png\" alt=\"Break\" class=\"center\" style=\"width: 500px;\"/>\n",
    "</div>\n"
   ]
  },
  {
   "cell_type": "code",
   "execution_count": null,
   "metadata": {},
   "outputs": [],
   "source": []
  }
 ],
 "metadata": {
  "kernelspec": {
   "display_name": "Python 3",
   "language": "python",
   "name": "python3"
  },
  "language_info": {
   "codemirror_mode": {
    "name": "ipython",
    "version": 3
   },
   "file_extension": ".py",
   "mimetype": "text/x-python",
   "name": "python",
   "nbconvert_exporter": "python",
   "pygments_lexer": "ipython3",
   "version": "3.8.3"
  }
 },
 "nbformat": 4,
 "nbformat_minor": 4
}
